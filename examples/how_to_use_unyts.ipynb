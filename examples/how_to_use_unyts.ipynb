{
 "cells": [
  {
   "cell_type": "code",
   "execution_count": 1,
   "metadata": {},
   "outputs": [],
   "source": [
    "import numpy as np\n",
    "import numpy.linalg as la\n",
    "from unyt import accepts, returns\n",
    "import unyt as u\n",
    "import unyt.dimensions as ud\n",
    "\n",
    "from rocketPy import Quaternion"
   ]
  },
  {
   "cell_type": "code",
   "execution_count": 2,
   "metadata": {},
   "outputs": [],
   "source": [
    "class Rocket():\n",
    "    \n",
    "    def __init__(self, mass=40*u.kg):\n",
    "        \n",
    "        #this calls on the setter function\n",
    "        self.m = mass\n",
    "        \n",
    "        self.theta = 6*u.degree\n",
    "        \n",
    "        self.inertia_matrix = np.diag([100,100,10])*u.kg/u.m**2\n",
    "\n",
    "        \n",
    "    # this is all extra code to handle getting and setting\n",
    "    @property\n",
    "    def m(self): return self._m*u.kg\n",
    "    \n",
    "    @m.setter\n",
    "    @accepts(value=ud.mass) #checks that when setting, a correct dimensional value is provided\n",
    "    def m(self, value): self._m = value.in_base().v\n",
    "    \n",
    "    @property\n",
    "    def theta(self): return self._theta*u.radian\n",
    "    \n",
    "    @theta.setter\n",
    "    @accepts(value=ud.angle)\n",
    "    def theta(self, value): self._theta = value.in_base().v\n",
    "    \n",
    "    @property\n",
    "    def inertia_matrix(self): return self._inertia_matrix * u.kg/u.m**2\n",
    "    \n",
    "    @inertia_matrix.setter\n",
    "    @accepts(value=ud.mass/ud.length**2)\n",
    "    def inertia_matrix(self, value): self._inertia_matrix = value.in_base().v\n",
    "    "
   ]
  },
  {
   "cell_type": "code",
   "execution_count": 3,
   "metadata": {},
   "outputs": [],
   "source": [
    "# define values with units at creation of the object\n",
    "r = Rocket(mass=35*u.kg)"
   ]
  },
  {
   "cell_type": "code",
   "execution_count": 4,
   "metadata": {},
   "outputs": [
    {
     "data": {
      "text/plain": [
       "unyt_quantity(35., 'kg')"
      ]
     },
     "execution_count": 4,
     "metadata": {},
     "output_type": "execute_result"
    }
   ],
   "source": [
    "# for a user, getting the value is straightforward, and is returned with units\n",
    "r.m"
   ]
  },
  {
   "cell_type": "code",
   "execution_count": 5,
   "metadata": {
    "scrolled": true
   },
   "outputs": [],
   "source": [
    "# when setting for the user, it has to be with units\n",
    "r.m = 14*u.kg"
   ]
  },
  {
   "cell_type": "code",
   "execution_count": 6,
   "metadata": {},
   "outputs": [
    {
     "data": {
      "text/plain": [
       "unyt_quantity(14., 'kg')"
      ]
     },
     "execution_count": 6,
     "metadata": {},
     "output_type": "execute_result"
    }
   ],
   "source": [
    "# again, getting the value is in units\n",
    "r.m"
   ]
  },
  {
   "cell_type": "code",
   "execution_count": 7,
   "metadata": {},
   "outputs": [
    {
     "data": {
      "text/plain": [
       "array(14.)"
      ]
     },
     "execution_count": 7,
     "metadata": {},
     "output_type": "execute_result"
    }
   ],
   "source": [
    "# but a developer can access the si version directly\n",
    "r._m"
   ]
  },
  {
   "cell_type": "code",
   "execution_count": 8,
   "metadata": {},
   "outputs": [],
   "source": [
    "# modify it\n",
    "r._m = 99"
   ]
  },
  {
   "cell_type": "code",
   "execution_count": 9,
   "metadata": {},
   "outputs": [
    {
     "data": {
      "text/plain": [
       "unyt_quantity(99, 'kg')"
      ]
     },
     "execution_count": 9,
     "metadata": {},
     "output_type": "execute_result"
    }
   ],
   "source": [
    "# and the user will see the modified version\n",
    "r.m"
   ]
  },
  {
   "cell_type": "code",
   "execution_count": 10,
   "metadata": {},
   "outputs": [
    {
     "data": {
      "text/plain": [
       "unyt_quantity(0.10471976, 'rad')"
      ]
     },
     "execution_count": 10,
     "metadata": {},
     "output_type": "execute_result"
    }
   ],
   "source": [
    "# similarly, all angles are automatically converted into radians\n",
    "r.theta"
   ]
  },
  {
   "cell_type": "code",
   "execution_count": 11,
   "metadata": {},
   "outputs": [
    {
     "data": {
      "text/plain": [
       "array(0.10471976)"
      ]
     },
     "execution_count": 11,
     "metadata": {},
     "output_type": "execute_result"
    }
   ],
   "source": [
    "r._theta"
   ]
  },
  {
   "cell_type": "code",
   "execution_count": 12,
   "metadata": {},
   "outputs": [
    {
     "data": {
      "text/plain": [
       "{'_m': 99,\n",
       " '_theta': array(0.10471976),\n",
       " '_inertia_matrix': array([[100.,   0.,   0.],\n",
       "        [  0., 100.,   0.],\n",
       "        [  0.,   0.,  10.]])}"
      ]
     },
     "execution_count": 12,
     "metadata": {},
     "output_type": "execute_result"
    }
   ],
   "source": [
    "# notice that internally only si is used\n",
    "r.__dict__"
   ]
  },
  {
   "cell_type": "code",
   "execution_count": 13,
   "metadata": {},
   "outputs": [
    {
     "data": {
      "text/plain": [
       "unyt_array([[100.,   0.,   0.],\n",
       "            [  0., 100.,   0.],\n",
       "            [  0.,   0.,  10.]], 'kg/m**2')"
      ]
     },
     "execution_count": 13,
     "metadata": {},
     "output_type": "execute_result"
    }
   ],
   "source": [
    "# this is where the getters and setters are really important\n",
    "# unyt doesnt respect many linear algebra commands\n",
    "# for instance the inertia matrix has untis kg/m^2\n",
    "r.inertia_matrix"
   ]
  },
  {
   "cell_type": "code",
   "execution_count": 14,
   "metadata": {},
   "outputs": [
    {
     "data": {
      "text/plain": [
       "array([[100.,   0.,   0.],\n",
       "       [  0., 100.,   0.],\n",
       "       [  0.,   0.,  10.]])"
      ]
     },
     "execution_count": 14,
     "metadata": {},
     "output_type": "execute_result"
    }
   ],
   "source": [
    "# if we access the si version directly\n",
    "r._inertia_matrix"
   ]
  },
  {
   "cell_type": "code",
   "execution_count": 15,
   "metadata": {},
   "outputs": [
    {
     "data": {
      "text/plain": [
       "unyt_array([[0.01, 0.  , 0.  ],\n",
       "            [0.  , 0.01, 0.  ],\n",
       "            [0.  , 0.  , 0.1 ]], 'kg/m**2')"
      ]
     },
     "execution_count": 15,
     "metadata": {},
     "output_type": "execute_result"
    }
   ],
   "source": [
    "# now if we invert the matrix, the units are still kg/m^2 not m^2/kg\n",
    "la.inv(r.inertia_matrix)"
   ]
  },
  {
   "cell_type": "code",
   "execution_count": 16,
   "metadata": {},
   "outputs": [
    {
     "data": {
      "text/plain": [
       "array([[0.01, 0.  , 0.  ],\n",
       "       [0.  , 0.01, 0.  ],\n",
       "       [0.  , 0.  , 0.1 ]])"
      ]
     },
     "execution_count": 16,
     "metadata": {},
     "output_type": "execute_result"
    }
   ],
   "source": [
    "# but the 'si' version would be (to the developer) interpretted correctly\n",
    "la.inv(r._inertia_matrix)"
   ]
  },
  {
   "cell_type": "code",
   "execution_count": 17,
   "metadata": {},
   "outputs": [],
   "source": [
    "# furthermore this approach should make simulations much faster\n",
    "# the developer must be careful about this"
   ]
  },
  {
   "cell_type": "code",
   "execution_count": null,
   "metadata": {},
   "outputs": [],
   "source": []
  },
  {
   "cell_type": "code",
   "execution_count": null,
   "metadata": {},
   "outputs": [],
   "source": []
  },
  {
   "cell_type": "code",
   "execution_count": null,
   "metadata": {},
   "outputs": [],
   "source": []
  },
  {
   "cell_type": "code",
   "execution_count": null,
   "metadata": {},
   "outputs": [],
   "source": []
  }
 ],
 "metadata": {
  "kernelspec": {
   "display_name": "rocketPy",
   "language": "python",
   "name": "rocketpy"
  },
  "language_info": {
   "codemirror_mode": {
    "name": "ipython",
    "version": 3
   },
   "file_extension": ".py",
   "mimetype": "text/x-python",
   "name": "python",
   "nbconvert_exporter": "python",
   "pygments_lexer": "ipython3",
   "version": "3.6.7"
  }
 },
 "nbformat": 4,
 "nbformat_minor": 2
}
