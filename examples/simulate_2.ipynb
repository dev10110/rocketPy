{
 "cells": [
  {
   "cell_type": "code",
   "execution_count": 1,
   "metadata": {},
   "outputs": [],
   "source": [
    "import numpy as np\n",
    "import numpy.linalg as la\n",
    "import scipy as sp\n",
    "import scipy.integrate as spint\n",
    "import matplotlib.pyplot as plt\n",
    "\n",
    "from rocketPy import Quaternion"
   ]
  },
  {
   "cell_type": "code",
   "execution_count": 2,
   "metadata": {},
   "outputs": [],
   "source": [
    "class SimpleRocket():\n",
    "    \n",
    "    def __init__(self):\n",
    "        \n",
    "        self.m0 = 40;\n",
    "        self.c = 2000;\n",
    "        \n",
    "        self.A_ref = np.pi*0.15**2/4;\n",
    "        \n",
    "        self.ax_roll = np.array([0,0,1])\n",
    "        self.ax_pitch = np.array([0,1,0])\n",
    "        self.ax_yaw = np.array([1,0,0])\n",
    "        \n",
    "        self.inertia_matrix = np.diag([100,100,10])\n",
    "        \n",
    "        self.C_A = 0.5\n",
    "        self.C_Na = 4\n",
    "        self.static_margin = 1.5\n",
    "        \n",
    "        # location of the cp relative to the cg of the rocket\n",
    "        self.cp = - (2*(self.A_ref/np.pi)**0.5) * self.static_margin * self.ax_roll\n",
    "        \n",
    "        \n",
    "    def dynamics(self, time, state):\n",
    "        \n",
    "        # need to return the forces and moments acting at the cg in body fixed axes.\n",
    "        # z points towards the nose\n",
    "        # x points to the right fin\n",
    "        # y completes right hand coord system\n",
    "        \n",
    "        # m_dot is a scalar, negative if the mass is decreasing\n",
    "        \n",
    "        # compute thrust force\n",
    "        f_thrust, m_dot = self.f_thrust(state)\n",
    "        \n",
    "        # compute axial drag force\n",
    "        f_axial = self.f_axial(state)\n",
    "        \n",
    "        f_normal = self.f_normal(state)\n",
    "        \n",
    "        # sum forces\n",
    "        # in body axes\n",
    "        forces = f_thrust + f_axial + f_normal;\n",
    "\n",
    "        # sum moments\n",
    "        # in body axes\n",
    "        moment_f_normal = np.cross(self.cp, f_normal)\n",
    "        \n",
    "        moments = np.array([0.,0.,0.])\n",
    "        moments += moment_f_normal\n",
    "        \n",
    "        return forces, moments, m_dot\n",
    "    \n",
    "    \n",
    "    def f_thrust(self, state):\n",
    "        \n",
    "        time = state.time\n",
    "        \n",
    "        if time < 3:\n",
    "            f = 4000;\n",
    "        else:\n",
    "            f = 0;\n",
    "        \n",
    "        m_dot = -f/self.c\n",
    "        \n",
    "        return f*self.ax_roll, m_dot\n",
    "        \n",
    "    def f_axial(self, state):\n",
    "        \n",
    "        q_inf = self.dynamic_pressure(state);\n",
    "        F_A = q_inf * self.C_A * self.A_ref;\n",
    "        \n",
    "        # is aligned with negative z axis\n",
    "        F_A = np.array([0,0, -F_A]);\n",
    "        \n",
    "        return F_A\n",
    "    \n",
    "    def f_normal(self, state):\n",
    "        \n",
    "        C_N = self.C_Na * self.alpha(state)\n",
    "        \n",
    "        q_inf = self.dynamic_pressure(state)\n",
    "        \n",
    "        F_N = q_inf * C_N * self.A_ref * self.normal2(state)\n",
    "                \n",
    "        return F_N\n",
    "\n",
    "    \n",
    "    ## these are implementation specific\n",
    "    ## ie as a person designing the rocket, you need to define how you determine the aero forces, \n",
    "    ## so you own these equations\n",
    "    ## the state just interfaces bewteen scipy solve ivp and rocket dynamics\n",
    "    \n",
    "        \n",
    "    def dynamic_pressure(self, state):\n",
    "        z = state.pos[2]\n",
    "        \n",
    "        # todo update to use the cp velocity\n",
    "        v_air = self.v_air_cp(state)\n",
    "        \n",
    "        dynamic_pressure = 0.5 * state.env.rho(z) * v_air @ v_air\n",
    "        \n",
    "        return dynamic_pressure\n",
    "    \n",
    "    def v_body(self, state):\n",
    "        \"\"\"Returns the velocity of the body in earth coordinates\"\"\"\n",
    "        \n",
    "        return state.momentum/state.mass;\n",
    "    \n",
    "    def v_air_cg(self, state):\n",
    "        \"\"\"Returns the apparent airspeed at the CG in earth coordinates\n",
    "        v_air_cg = -v_body + wind\n",
    "        \"\"\"\n",
    "        return -self.v_body(state) + state.wind()\n",
    "    \n",
    "    #def v_air_p(self, p):\n",
    "    #    \"\"\"Computes the airspeed at some location p.\n",
    "    #    p is the position vector of the point relative to the cg of the rocket in earth coordinates\n",
    "    #    \"\"\"\n",
    "    #    # todo (high): update with 6DOF\n",
    "    #    omega = np.array([0,0,0])\n",
    "    #    # todo convert p to earth coordinates\n",
    "    #    \n",
    "    #    return self.v_air_cg(state) + np.cross(omega, p)\n",
    "        \n",
    "        \n",
    "    def v_air_cp(self, state):\n",
    "        \"\"\"Returns the apparent airspeed at the CP\n",
    "        accounts for the rotation rate of the body\n",
    "        \"\"\"\n",
    "        \n",
    "        #todo (high): update to account for the rotation rate\n",
    "        \n",
    "        return self.v_air_cg(state)\n",
    "        \n",
    "    def alpha(self, state, p=None):\n",
    "        \"\"\"Return the angle of attack of the air at some location on the body p (relative to the cg)\"\"\"\n",
    "        \n",
    "        \n",
    "        # angle between roll axis and airspeed at p\n",
    "        # if p is none, use the cp\n",
    "        \n",
    "        if p is not None:\n",
    "            raise NotImplementedError\n",
    "        \n",
    "        v_air_cp = self.v_air_cp(state)\n",
    "        \n",
    "        # compute unit vector in direction of the airspeed\n",
    "        v_air_cp_unit = v_air_cp/la.norm(v_air_cp)\n",
    "        \n",
    "        # get roll axis in earth coordinates\n",
    "        neg_roll_axis = -state.T_EB() @ self.ax_roll\n",
    "        \n",
    "        np.testing.assert_almost_equal(la.norm(neg_roll_axis), 1.0)\n",
    "        \n",
    "        val = v_air_cp_unit @ neg_roll_axis\n",
    "        \n",
    "        assert(val<1)\n",
    "        assert(val>-1)\n",
    "        \n",
    "        alpha = np.arccos(v_air_cp_unit @ neg_roll_axis)\n",
    "        \n",
    "        return alpha\n",
    "    \n",
    "    def normal(self, state):\n",
    "        \"\"\"Gets the normal vector direction (direction of lift generation) in Body coordinates\"\"\"\n",
    "        \n",
    "        # earth axes roll axis\n",
    "        roll = state.T_EB() @ self.ax_roll\n",
    "\n",
    "        # get the airspeed vector\n",
    "        v = self.v_air_cp(state)\n",
    "        \n",
    "        # convert to unit vector\n",
    "        vhat = v/la.norm(v)\n",
    "        \n",
    "        # compute the normal direction\n",
    "        n = np.cross(np.cross(roll, v), roll)\n",
    "        \n",
    "        # convert to unit vector\n",
    "        n_hat = n/la.norm(n)\n",
    "        \n",
    "        # convert to body axes\n",
    "        n_hat = state.T_BE() @ n_hat\n",
    "        \n",
    "        return n_hat\n",
    "    \n",
    "    def normal2(self, state):\n",
    "        \"\"\"Gets the normal vector direction (direction of lift generation) in Body coordinates\"\"\"\n",
    "        \n",
    "        # earth axes roll axis\n",
    "        #roll = self.ax_roll\n",
    "\n",
    "        # get the airspeed vector\n",
    "        v = state.T_BE() @ self.v_air_cp(state)\n",
    "        \n",
    "        # convert to unit vector\n",
    "        vhat = v/la.norm(v)\n",
    "        \n",
    "        # compute the normal direction\n",
    "        n = np.cross(np.cross(self.ax_roll, v), self.ax_roll)\n",
    "        \n",
    "        # convert to unit vector\n",
    "        n_hat = n/la.norm(n)\n",
    "        \n",
    "        # convert to body axes\n",
    "        #n_hat = state.T_BE() @ n_hat\n",
    "        \n",
    "        return n_hat\n",
    "    "
   ]
  },
  {
   "cell_type": "code",
   "execution_count": 3,
   "metadata": {},
   "outputs": [],
   "source": [
    "class Env():\n",
    "    \n",
    "    def __init__(self, wind = np.array([0,0,0])):\n",
    "        \n",
    "        self.wind = wind\n",
    "        \n",
    "        return\n",
    "    \n",
    "    def rho(self, z):\n",
    "        \"\"\" Return the density at some altitude in meters\"\"\"\n",
    "        return 1.225\n",
    "    \n",
    "    def wind_vector(self, time=None, pos=None):\n",
    "        \n",
    "        return self.wind"
   ]
  },
  {
   "cell_type": "code",
   "execution_count": null,
   "metadata": {},
   "outputs": [],
   "source": []
  },
  {
   "cell_type": "code",
   "execution_count": 4,
   "metadata": {},
   "outputs": [],
   "source": [
    "class State():\n",
    "    \n",
    "    def __init__(self, time=0, mass=1, position=np.array([0,0,0]), momentum=np.array([0,0,0]), quaternion=Quaternion(1,0,0,0), angular_momentum = np.array([0,0,0]), env=Env()):\n",
    "        \n",
    "        self.time = time;\n",
    "        \n",
    "        self.mass = mass;\n",
    "        self.pos = position;\n",
    "        self.momentum = momentum;\n",
    "        self.quaternion = quaternion #no rotation\n",
    "        self.angular_momentum = angular_momentum;\n",
    "        \n",
    "        self.env = env;\n",
    "    \n",
    "    def vector(self):\n",
    "        \"\"\"Convert state to vector\"\"\"\n",
    "        # passes the quaternion's vector\n",
    "        return np.hstack([[self.mass], self.pos, self.momentum, self.quaternion.q, self.angular_momentum]);\n",
    "    \n",
    "    def update(self,statev, time=None):\n",
    "        # take a state vector and pass it to the internal objects\n",
    "        if time is not None:\n",
    "            self.time = time\n",
    "            \n",
    "        self.mass = statev[0]  \n",
    "        self.pos = statev[1:4]\n",
    "        self.momentum = statev[4:7]\n",
    "        self.quaternion = Quaternion(*statev[7:11])\n",
    "        self.angular_momentum = statev[11:14]\n",
    "        \n",
    "        return self\n",
    "        \n",
    "        \n",
    "    def wind(self):\n",
    "        \"\"\"Returns the Earth coordinate wind vector at this state\"\"\"\n",
    "        # maybe allow it to take some offset vector?\n",
    "        # in either Earth or Body axes?\n",
    "        \n",
    "        # should be a deterministic function of state\n",
    "        # for now a constant with time and altitude, blowing to the negative x direction\n",
    "        return self.env.wind_vector(self.time, self.pos)\n",
    "    \n",
    "    \n",
    "    def T_BE(self):\n",
    "        \"\"\"Rotation matrix from Earth axes to Body axes\n",
    "            Therefore v_B = T_BE() @ v_E\n",
    "        \"\"\"\n",
    "        return self.quaternion.rot_matrix().transpose()\n",
    "        \n",
    "        \n",
    "    def T_EB(self):\n",
    "        \"\"\"Rotation matrix from from Body axes to Earth axes\n",
    "            Therefore v_E = T_EB() @ v_B\n",
    "        \"\"\"\n",
    "        \n",
    "        return self.quaternion.rot_matrix()\n",
    "    \n",
    "    \n",
    "    def __repr__(self):\n",
    "        return f'State  {self.vector()}'"
   ]
  },
  {
   "cell_type": "code",
   "execution_count": null,
   "metadata": {},
   "outputs": [],
   "source": []
  },
  {
   "cell_type": "code",
   "execution_count": 229,
   "metadata": {},
   "outputs": [],
   "source": [
    "class Simulation():\n",
    "    \n",
    "    def __init__(self, rocket, state_initial):\n",
    "\n",
    "        self.rocket = rocket\n",
    "            \n",
    "        self.ax_x = np.array([1,0,0])\n",
    "        self.ax_y = np.array([0,1,0])\n",
    "        self.ax_z = np.array([0,0,1]) # vertically upwards\n",
    "        \n",
    "        self.g0 = 9.81;\n",
    "        self.g  = - self.g0*self.ax_z\n",
    "        \n",
    "        self.state = state_initial;\n",
    "        \n",
    "        self.launch_rail_length = 5;\n",
    "        \n",
    "        self.launch_angle = 0*np.pi/180\n",
    "        self.launch_v = np.array([np.sin(self.launch_angle), 0, np.cos(self.launch_angle)])\n",
    "        \n",
    "        self.state.quaternion = Quaternion.from_angle(self.launch_angle, self.ax_y)\n",
    "        \n",
    "    \n",
    "    def dynamics(self, time, statev):\n",
    "        \n",
    "        state = self.state;\n",
    "        \n",
    "        state.update(statev, time)\n",
    "        \n",
    "        # calculate the angular velocity of the rocket\n",
    "        R = state.quaternion.rot_matrix()\n",
    "        omega = R @ la.inv(self.rocket.inertia_matrix) @ R.T @ state.angular_momentum;\n",
    "        # this omega is in earth coordinates, about the cg\n",
    "        \n",
    "        \n",
    "        # get the rocket axis forces and moments\n",
    "        forces_b, moments_b, m_dot = self.rocket.dynamics(time, state)\n",
    "        \n",
    "        # convert body axis forces into earth axis\n",
    "        #px, py, pz = state.momentum;\n",
    "        #th = np.arctan2(px,pz)\n",
    "        R = state.T_EB() #np.array([[np.cos(th), 0, np.sin(th)],[0,1,0],[-np.sin(th), 0, np.cos(th)]])\n",
    "        \n",
    "        forces = R @ forces_b + state.mass*self.g;\n",
    "        moments = R @ moments_b;\n",
    "        \n",
    "        \n",
    "        # apply launch rail\n",
    "        # compute v_cg\n",
    "        V_cg = self.state.momentum/self.state.mass;\n",
    "        if la.norm(state.pos) < self.launch_rail_length:\n",
    "            V_cg = self.launch_v * np.dot(V_cg, self.launch_v);\n",
    "            forces = self.launch_v * np.dot(forces, self.launch_v);\n",
    "            moments = np.array([0.,0.,0.]) # no moments during launch rail\n",
    "        \n",
    "        # determine rate of change of quaternion\n",
    "        d_quaternion = state.quaternion.rate_of_change(omega)\n",
    "        \n",
    "        # set derivatives\n",
    "        d_mass = m_dot\n",
    "        d_pos = V_cg\n",
    "        d_momentum = forces;\n",
    "        #d_quaternion = d_quat\n",
    "        d_angular_momentum = moments;\n",
    "        \n",
    "        return np.hstack([d_mass, d_pos, d_momentum, d_quaternion, d_angular_momentum])\n",
    "    \n",
    "    \n",
    "    def solve(self, t_span = [0,100]):\n",
    "        # set initial state\n",
    "        s0 = self.state.vector()\n",
    "        \n",
    "        # when im no longer at the rail\n",
    "        def no_rail(t, y):\n",
    "            pos = la.norm(y[1:4]) - self.launch_rail_length;\n",
    "            return pos\n",
    "        no_rail.terminal = False\n",
    "        no_rail.direction = 1;\n",
    "        \n",
    "        def apogee(t, y):\n",
    "            return y[6]# + 250*y[0] # when the velocity is -10 m/s\n",
    "        apogee.terminal = False\n",
    "        apogee.direction = -1;\n",
    "        \n",
    "        def landing(t, y):\n",
    "            return y[3]\n",
    "        landing.terminal = True\n",
    "        landing.direction = -1;\n",
    "        \n",
    "        self.sim_result = spint.solve_ivp(self.dynamics, t_span, s0, dense_output=True, events=(no_rail, apogee, landing));\n",
    "        \n",
    "        self.output = self.sim_result.sol;\n",
    "        \n",
    "        return self.sim_result\n",
    "        \n",
    "        \n",
    "    \n",
    "        "
   ]
  },
  {
   "cell_type": "code",
   "execution_count": 230,
   "metadata": {},
   "outputs": [],
   "source": [
    "def plot_v_xz(v):\n",
    "    plt.arrow(0,0,v[0], v[2], length_includes_head=True, width=0.1)"
   ]
  },
  {
   "cell_type": "code",
   "execution_count": 231,
   "metadata": {},
   "outputs": [],
   "source": [
    "r = SimpleRocket()"
   ]
  },
  {
   "cell_type": "code",
   "execution_count": 232,
   "metadata": {},
   "outputs": [],
   "source": [
    "#env = Env(wind=np.array([-np.sin(30*np.pi/180),0,-np.cos(30*np.pi/180)]))\n",
    "env = Env(wind=np.array([10,0,0]))"
   ]
  },
  {
   "cell_type": "code",
   "execution_count": 233,
   "metadata": {},
   "outputs": [
    {
     "data": {
      "image/png": "[encoded data removed]",
      "text/plain": [
       "<Figure size 432x288 with 1 Axes>"
      ]
     },
     "metadata": {
      "needs_background": "light"
     },
     "output_type": "display_data"
    }
   ],
   "source": [
    "env.wind_vector()\n",
    "plot_v_xz(env.wind_vector())\n",
    "s = 5\n",
    "plt.xlim(-s,s)\n",
    "plt.ylim(-s,s)\n",
    "plt.grid(True)"
   ]
  },
  {
   "cell_type": "code",
   "execution_count": 234,
   "metadata": {},
   "outputs": [],
   "source": [
    "s0 = State(env = env)\n",
    "s0.mass = 40;\n",
    "s0.momentum = np.array([0,0,30*s0.mass])\n",
    "q = Quaternion.from_angle(0, np.array([0,1,0]))\n",
    "s0.quaternion = q"
   ]
  },
  {
   "cell_type": "code",
   "execution_count": 235,
   "metadata": {},
   "outputs": [
    {
     "data": {
      "text/plain": [
       "[1. 0. 0. 0.]"
      ]
     },
     "execution_count": 235,
     "metadata": {},
     "output_type": "execute_result"
    }
   ],
   "source": [
    "q"
   ]
  },
  {
   "cell_type": "code",
   "execution_count": 236,
   "metadata": {},
   "outputs": [
    {
     "data": {
      "text/plain": [
       "State  [4.0e+01 0.0e+00 0.0e+00 0.0e+00 0.0e+00 0.0e+00 1.2e+03 1.0e+00 0.0e+00\n",
       " 0.0e+00 0.0e+00 0.0e+00 0.0e+00 0.0e+00]"
      ]
     },
     "execution_count": 236,
     "metadata": {},
     "output_type": "execute_result"
    }
   ],
   "source": [
    "s0"
   ]
  },
  {
   "cell_type": "code",
   "execution_count": 237,
   "metadata": {},
   "outputs": [
    {
     "data": {
      "text/plain": [
       "array([0., 0., 1.])"
      ]
     },
     "execution_count": 237,
     "metadata": {},
     "output_type": "execute_result"
    }
   ],
   "source": [
    "s0.T_EB() @ r.ax_roll"
   ]
  },
  {
   "cell_type": "code",
   "execution_count": 238,
   "metadata": {},
   "outputs": [
    {
     "data": {
      "text/plain": [
       "array([ 0.,  0., 30.])"
      ]
     },
     "execution_count": 238,
     "metadata": {},
     "output_type": "execute_result"
    }
   ],
   "source": [
    "r.v_body(s0)"
   ]
  },
  {
   "cell_type": "code",
   "execution_count": 239,
   "metadata": {},
   "outputs": [
    {
     "data": {
      "text/plain": [
       "array([ 10.,   0., -30.])"
      ]
     },
     "execution_count": 239,
     "metadata": {},
     "output_type": "execute_result"
    }
   ],
   "source": [
    "r.v_air_cg(s0)"
   ]
  },
  {
   "cell_type": "code",
   "execution_count": 240,
   "metadata": {
    "scrolled": true
   },
   "outputs": [
    {
     "data": {
      "text/plain": [
       "array([ 10.,   0., -30.])"
      ]
     },
     "execution_count": 240,
     "metadata": {},
     "output_type": "execute_result"
    },
    {
     "data": {
      "image/png": "[encoded data removed]",
      "text/plain": [
       "<Figure size 432x288 with 1 Axes>"
      ]
     },
     "metadata": {
      "needs_background": "light"
     },
     "output_type": "display_data"
    }
   ],
   "source": [
    "s=40\n",
    "plot_v_xz(r.v_body(s0))\n",
    "plot_v_xz(env.wind_vector())\n",
    "plot_v_xz(r.v_air_cp(s0))\n",
    "plt.xlim(-s,s)\n",
    "plt.ylim(-s,s)\n",
    "plt.grid()\n",
    "r.v_air_cp(s0)"
   ]
  },
  {
   "cell_type": "code",
   "execution_count": 241,
   "metadata": {},
   "outputs": [
    {
     "data": {
      "text/plain": [
       "18.434948822922017"
      ]
     },
     "execution_count": 241,
     "metadata": {},
     "output_type": "execute_result"
    }
   ],
   "source": [
    "r.alpha(s0)*180/np.pi"
   ]
  },
  {
   "cell_type": "code",
   "execution_count": 242,
   "metadata": {},
   "outputs": [
    {
     "data": {
      "text/plain": [
       "array([1., 0., 0.])"
      ]
     },
     "execution_count": 242,
     "metadata": {},
     "output_type": "execute_result"
    }
   ],
   "source": [
    "r.normal(s0)"
   ]
  },
  {
   "cell_type": "code",
   "execution_count": 243,
   "metadata": {},
   "outputs": [
    {
     "data": {
      "text/plain": [
       "array([13.93021398,  0.        , -0.        ])"
      ]
     },
     "execution_count": 243,
     "metadata": {},
     "output_type": "execute_result"
    }
   ],
   "source": [
    "fn = r.f_normal(s0)\n",
    "fn"
   ]
  },
  {
   "cell_type": "code",
   "execution_count": 244,
   "metadata": {},
   "outputs": [
    {
     "data": {
      "text/plain": [
       "array([-0.   , -0.   , -0.225])"
      ]
     },
     "execution_count": 244,
     "metadata": {},
     "output_type": "execute_result"
    }
   ],
   "source": [
    "r.cp"
   ]
  },
  {
   "cell_type": "code",
   "execution_count": 245,
   "metadata": {},
   "outputs": [
    {
     "data": {
      "text/plain": [
       "array([ 0.        , -3.13429815,  0.        ])"
      ]
     },
     "execution_count": 245,
     "metadata": {},
     "output_type": "execute_result"
    }
   ],
   "source": [
    "mn_b = np.cross(r.cp, fn)\n",
    "mn_b"
   ]
  },
  {
   "cell_type": "code",
   "execution_count": 246,
   "metadata": {},
   "outputs": [
    {
     "data": {
      "text/plain": [
       "array([ 0.        , -3.13429815,  0.        ])"
      ]
     },
     "execution_count": 246,
     "metadata": {},
     "output_type": "execute_result"
    }
   ],
   "source": [
    "mn_e = s0.T_EB() @ mn_b\n",
    "mn_e"
   ]
  },
  {
   "cell_type": "code",
   "execution_count": 247,
   "metadata": {},
   "outputs": [
    {
     "data": {
      "text/plain": [
       "State  [40.  0.  0.  0.  0.  0.  0.  1.  0.  0.  0.  0.  0.  0.]"
      ]
     },
     "execution_count": 247,
     "metadata": {},
     "output_type": "execute_result"
    }
   ],
   "source": [
    "s1 = State(quaternion=Quaternion(1,0,0,0), env=env)\n",
    "s1.mass = 40\n",
    "s1"
   ]
  },
  {
   "cell_type": "code",
   "execution_count": 248,
   "metadata": {},
   "outputs": [],
   "source": [
    "sim = Simulation(r, s1)"
   ]
  },
  {
   "cell_type": "code",
   "execution_count": 249,
   "metadata": {},
   "outputs": [
    {
     "data": {
      "text/plain": [
       "array([-0.  , -0.  , -9.81])"
      ]
     },
     "execution_count": 249,
     "metadata": {},
     "output_type": "execute_result"
    }
   ],
   "source": [
    "sim.g"
   ]
  },
  {
   "cell_type": "code",
   "execution_count": 250,
   "metadata": {},
   "outputs": [
    {
     "data": {
      "text/plain": [
       "State  [40.  0.  0.  0.  0.  0.  0.  1.  0.  0.  0.  0.  0.  0.]"
      ]
     },
     "execution_count": 250,
     "metadata": {},
     "output_type": "execute_result"
    }
   ],
   "source": [
    "s1"
   ]
  },
  {
   "cell_type": "code",
   "execution_count": 251,
   "metadata": {},
   "outputs": [
    {
     "data": {
      "text/plain": [
       "(array([   6.80077428,    0.        , 3999.45881158]),\n",
       " array([ 0.        , -1.53017421,  0.        ]),\n",
       " -2.0)"
      ]
     },
     "execution_count": 251,
     "metadata": {},
     "output_type": "execute_result"
    }
   ],
   "source": [
    "r.dynamics(0, sim.state)"
   ]
  },
  {
   "cell_type": "code",
   "execution_count": null,
   "metadata": {},
   "outputs": [],
   "source": []
  },
  {
   "cell_type": "code",
   "execution_count": 252,
   "metadata": {},
   "outputs": [],
   "source": [
    "sol = sim.solve()"
   ]
  },
  {
   "cell_type": "code",
   "execution_count": 253,
   "metadata": {},
   "outputs": [
    {
     "data": {
      "text/plain": [
       "'A termination event occurred.'"
      ]
     },
     "execution_count": 253,
     "metadata": {},
     "output_type": "execute_result"
    }
   ],
   "source": [
    "sol.message"
   ]
  },
  {
   "cell_type": "code",
   "execution_count": 254,
   "metadata": {},
   "outputs": [
    {
     "data": {
      "text/plain": [
       "True"
      ]
     },
     "execution_count": 254,
     "metadata": {},
     "output_type": "execute_result"
    }
   ],
   "source": [
    "sol.success"
   ]
  },
  {
   "cell_type": "code",
   "execution_count": 255,
   "metadata": {
    "scrolled": false
   },
   "outputs": [],
   "source": [
    "sol;"
   ]
  },
  {
   "cell_type": "code",
   "execution_count": 256,
   "metadata": {},
   "outputs": [
    {
     "data": {
      "text/plain": [
       "[array([0.33109995]), array([25.75397988]), array([57.57540407])]"
      ]
     },
     "execution_count": 256,
     "metadata": {},
     "output_type": "execute_result"
    }
   ],
   "source": [
    "sol.t_events"
   ]
  },
  {
   "cell_type": "code",
   "execution_count": 257,
   "metadata": {},
   "outputs": [
    {
     "data": {
      "text/plain": [
       "Text(0.5, 1.0, 'Alpha')"
      ]
     },
     "execution_count": 257,
     "metadata": {},
     "output_type": "execute_result"
    },
    {
     "data": {
      "image/png": "[encoded data removed]",
      "text/plain": [
       "<Figure size 720x1800 with 6 Axes>"
      ]
     },
     "metadata": {
      "needs_background": "light"
     },
     "output_type": "display_data"
    }
   ],
   "source": [
    "t_eval = np.linspace(sol.t[0], sol.t[-1], 500)\n",
    "\n",
    "\n",
    "plt.figure(figsize=(10,25))\n",
    "plt.subplot(611)\n",
    "plt.plot(t_eval,sol.sol(t_eval)[0])\n",
    "\n",
    "#for t in sol.t_events:\n",
    "#    if len(t) is not 0:\n",
    "#        plt.axvline(t, color='gray',linestyle='--')\n",
    "    \n",
    "plt.title('Mass')\n",
    "\n",
    "\n",
    "\n",
    "plt.subplot(612)\n",
    "plt.plot(t_eval,sol.sol(t_eval)[1], label='1, x')\n",
    "plt.plot(t_eval,sol.sol(t_eval)[2], label='2, y')\n",
    "plt.plot(t_eval,sol.sol(t_eval)[3], label='3, z')\n",
    "#for t in sol.t_events:\n",
    "#    plt.axvline(t, color='gray',linestyle='--')\n",
    "plt.legend()\n",
    "plt.title('Pos')\n",
    "\n",
    "\n",
    "\n",
    "plt.subplot(613)\n",
    "plt.plot(t_eval,sol.sol(t_eval)[4], label='4, Px')\n",
    "plt.plot(t_eval,sol.sol(t_eval)[5], label='5, Py')\n",
    "plt.plot(t_eval,sol.sol(t_eval)[6], label='6, Pz')\n",
    "#for t in sol.t_events:\n",
    "#    plt.axvline(t, color='gray',linestyle='--')\n",
    "    \n",
    "plt.legend()\n",
    "plt.title('Vel')\n",
    "\n",
    "\n",
    "\n",
    "plt.subplot(614)\n",
    "plt.plot(t_eval,sol.sol(t_eval)[7], label='7, s')\n",
    "plt.plot(t_eval,sol.sol(t_eval)[8], label='8, vx')\n",
    "plt.plot(t_eval,sol.sol(t_eval)[9], label='9, vy')\n",
    "plt.plot(t_eval,sol.sol(t_eval)[10], label='10, vz')\n",
    "#for t in sol.t_events:\n",
    "#    plt.axvline(t, color='gray',linestyle='--')\n",
    "    \n",
    "plt.legend()\n",
    "plt.title('Quat')\n",
    "\n",
    "\n",
    "\n",
    "plt.subplot(615)\n",
    "plt.plot(t_eval,sol.sol(t_eval)[11], label='11, Lx')\n",
    "plt.plot(t_eval,sol.sol(t_eval)[12], label='12, Ly')\n",
    "plt.plot(t_eval,sol.sol(t_eval)[13], label='13, Lz')\n",
    "#for t in sol.t_events:\n",
    "#    plt.axvline(t, color='gray',linestyle='--')\n",
    "    \n",
    "plt.legend()\n",
    "plt.title('Ang Mom')\n",
    "\n",
    "\n",
    "plt.subplot(616)\n",
    "alphas = [r.alpha(s1.update(sol.sol(t), 0))*180/np.pi for t in t_eval]\n",
    "plt.plot(t_eval,alphas, label='alphas')\n",
    "#for t in sol.t_events:\n",
    "#    plt.axvline(t, color='gray',linestyle='--')\n",
    "    \n",
    "plt.legend()\n",
    "plt.title('Alpha')\n",
    "\n"
   ]
  },
  {
   "cell_type": "code",
   "execution_count": 258,
   "metadata": {},
   "outputs": [
    {
     "data": {
      "text/plain": [
       "[<matplotlib.lines.Line2D at 0x124f84cc0>]"
      ]
     },
     "execution_count": 258,
     "metadata": {},
     "output_type": "execute_result"
    },
    {
     "data": {
      "image/png": "[encoded data removed]",
      "text/plain": [
       "<Figure size 432x288 with 1 Axes>"
      ]
     },
     "metadata": {
      "needs_background": "light"
     },
     "output_type": "display_data"
    }
   ],
   "source": [
    "plt.plot(t_eval,sol.sol(t_eval)[7], label='7, s')\n",
    "plt.plot(t_eval,sol.sol(t_eval)[8], label='8, vx')\n",
    "plt.plot(t_eval,sol.sol(t_eval)[9], label='9, vy')\n",
    "plt.plot(t_eval,sol.sol(t_eval)[10], label='10, vz')"
   ]
  },
  {
   "cell_type": "code",
   "execution_count": 259,
   "metadata": {},
   "outputs": [
    {
     "data": {
      "text/plain": [
       "[<matplotlib.lines.Line2D at 0x12504dc50>]"
      ]
     },
     "execution_count": 259,
     "metadata": {},
     "output_type": "execute_result"
    },
    {
     "data": {
      "image/png": "[encoded data removed]",
      "text/plain": [
       "<Figure size 432x288 with 1 Axes>"
      ]
     },
     "metadata": {
      "needs_background": "light"
     },
     "output_type": "display_data"
    }
   ],
   "source": [
    "plt.plot(t_eval,[1-la.norm(sol.sol(t)[7:11]) for t in t_eval])\n",
    "plt.plot(sol.t,[1-la.norm(sol.y[7:11,t]) for t in range(len(sol.t))], 'x')"
   ]
  },
  {
   "cell_type": "code",
   "execution_count": 260,
   "metadata": {},
   "outputs": [
    {
     "data": {
      "image/png": "[encoded data removed]",
      "text/plain": [
       "<Figure size 432x288 with 1 Axes>"
      ]
     },
     "metadata": {
      "needs_background": "light"
     },
     "output_type": "display_data"
    }
   ],
   "source": [
    "ax = plt.gca()\n",
    "ax.plot(sol.sol(t_eval)[1], sol.sol(t_eval)[3])\n",
    "ax.plot(sol.y[1], sol.y[3],'x')\n",
    "\n",
    "plt.xlabel('x')\n",
    "plt.ylabel('z')\n",
    "\n",
    "#ax.set_aspect('equal', 'datalim')\n",
    "plt.grid()"
   ]
  },
  {
   "cell_type": "code",
   "execution_count": 261,
   "metadata": {},
   "outputs": [
    {
     "data": {
      "image/png": "[encoded data removed]",
      "text/plain": [
       "<Figure size 432x288 with 1 Axes>"
      ]
     },
     "metadata": {
      "needs_background": "light"
     },
     "output_type": "display_data"
    }
   ],
   "source": [
    "ax = plt.gca()\n",
    "ax.plot(sol.sol(t_eval)[1], sol.sol(t_eval)[3])\n",
    "ax.plot(sol.y[1], sol.y[3],'x')\n",
    "\n",
    "plt.xlabel('x')\n",
    "plt.ylabel('z')\n",
    "\n",
    "ax.set_aspect('equal', 'datalim')\n",
    "plt.grid()"
   ]
  },
  {
   "cell_type": "code",
   "execution_count": 262,
   "metadata": {},
   "outputs": [
    {
     "data": {
      "image/png": "[encoded data removed]",
      "text/plain": [
       "<Figure size 432x288 with 1 Axes>"
      ]
     },
     "metadata": {
      "needs_background": "light"
     },
     "output_type": "display_data"
    }
   ],
   "source": [
    "plt.plot(sol.sol(t_eval)[1], sol.sol(t_eval)[3])\n",
    "plt.plot(sol.y[1], sol.y[3],'x')\n",
    "\n",
    "plt.xlabel('x')\n",
    "plt.ylabel('z')\n",
    "\n",
    "ax = plt.gca()\n",
    "ax.set_aspect('equal', 'datalim')\n",
    "plt.grid()"
   ]
  },
  {
   "cell_type": "code",
   "execution_count": 263,
   "metadata": {},
   "outputs": [
    {
     "data": {
      "text/plain": [
       "(-3, 5)"
      ]
     },
     "execution_count": 263,
     "metadata": {},
     "output_type": "execute_result"
    },
    {
     "data": {
      "image/png": "[encoded data removed]",
      "text/plain": [
       "<Figure size 432x288 with 1 Axes>"
      ]
     },
     "metadata": {
      "needs_background": "light"
     },
     "output_type": "display_data"
    }
   ],
   "source": [
    "plt.plot(sol.sol(t_eval)[1], sol.sol(t_eval)[3])\n",
    "plt.plot(sol.y[1], sol.y[3],'x')\n",
    "\n",
    "\n",
    "plt.xlabel('x')\n",
    "plt.ylabel('z')\n",
    "\n",
    "\n",
    "xrail = [0, sim.launch_rail_length*np.sin(sim.launch_angle)]\n",
    "zrail = [0, sim.launch_rail_length*np.cos(sim.launch_angle)]\n",
    "\n",
    "xrail2 = [0, 10*sim.launch_rail_length*np.sin(sim.launch_angle)]\n",
    "zrail2 = [0, 10*sim.launch_rail_length*np.cos(sim.launch_angle)]\n",
    "\n",
    "\n",
    "plt.plot(xrail, zrail)\n",
    "\n",
    "plt.ylim(-3,40)\n",
    "plt.xlim(-3,5)\n"
   ]
  },
  {
   "cell_type": "code",
   "execution_count": 264,
   "metadata": {},
   "outputs": [],
   "source": [
    "t_eval;"
   ]
  },
  {
   "cell_type": "code",
   "execution_count": 265,
   "metadata": {},
   "outputs": [
    {
     "data": {
      "text/plain": [
       "Text(0.5, 1.0, 'momentum angle')"
      ]
     },
     "execution_count": 265,
     "metadata": {},
     "output_type": "execute_result"
    },
    {
     "data": {
      "image/png": "[encoded data removed]",
      "text/plain": [
       "<Figure size 432x288 with 1 Axes>"
      ]
     },
     "metadata": {
      "needs_background": "light"
     },
     "output_type": "display_data"
    }
   ],
   "source": [
    "angle = 180*np.arctan2(sol.sol(t_eval)[4], sol.sol(t_eval)[6])/np.pi\n",
    "angle_m = 180*np.arctan2(sol.y[4], sol.y[6])/np.pi\n",
    "\n",
    "plt.plot(t_eval,angle, '-',label='angle')\n",
    "plt.plot(sol.t,angle_m,'x', label='angle')\n",
    "#for t in sol.t_events:\n",
    "#    plt.axvline(t,linestyle='--',color='gray')\n",
    "    \n",
    "plt.legend()\n",
    "plt.title('momentum angle')\n",
    "#plt.xlim(0,3)\n",
    "#plt.ylim(0,12)"
   ]
  },
  {
   "cell_type": "code",
   "execution_count": null,
   "metadata": {},
   "outputs": [],
   "source": []
  },
  {
   "cell_type": "code",
   "execution_count": 266,
   "metadata": {},
   "outputs": [
    {
     "name": "stderr",
     "output_type": "stream",
     "text": [
      "/Users/Devansh/.virtualenvs/rocketPy/lib/python3.6/site-packages/ipykernel_launcher.py:1: RuntimeWarning: invalid value encountered in arccos\n",
      "  \"\"\"Entry point for launching an IPython kernel.\n"
     ]
    },
    {
     "data": {
      "text/plain": [
       "Text(0.5, 1.0, 'orientation angle')"
      ]
     },
     "execution_count": 266,
     "metadata": {},
     "output_type": "execute_result"
    },
    {
     "data": {
      "image/png": "[encoded data removed]",
      "text/plain": [
       "<Figure size 432x288 with 1 Axes>"
      ]
     },
     "metadata": {
      "needs_background": "light"
     },
     "output_type": "display_data"
    }
   ],
   "source": [
    "angle_quat = (180/np.pi)*2*np.arccos(sol.sol(t_eval)[7])\n",
    "angle_m = (180/np.pi)*2*np.arccos(sol.y[7])\n",
    "\n",
    "plt.plot(t_eval,angle_quat, '-',label='angle')\n",
    "plt.plot(sol.t,angle_m,'x', label='angle')\n",
    "#for t in sol.t_events:\n",
    "#    plt.axvline(t,linestyle='--',color='gray')\n",
    "    \n",
    "plt.legend()\n",
    "plt.title('orientation angle')\n",
    "#plt.xlim(0,3)\n",
    "#plt.ylim(0,12)"
   ]
  },
  {
   "cell_type": "code",
   "execution_count": 118,
   "metadata": {},
   "outputs": [
    {
     "data": {
      "text/plain": [
       "array([  6.        ,   6.00005899,   6.00027178,   6.00002102,\n",
       "         5.99842385,   5.99442513,   5.98769924,   5.97839456,\n",
       "         5.96674   ,   5.95319051,   5.93826744,   5.92230455,\n",
       "         5.90706559,   5.89443401,   5.88620775,   5.88408767,\n",
       "         5.88966188,   5.90438716,   5.92956902,   5.96629775,\n",
       "         6.01447335,   6.07360544,   6.14224518,   6.21767161,\n",
       "         6.29607723,   6.37327362,   6.4444868 ,   6.50517565,\n",
       "         6.55150468,   6.58131985,   6.59487288,   6.59440495,\n",
       "         6.58303018,   6.56496878,   6.54489489,   6.52722852,\n",
       "         6.51591744,   6.51396787,   6.52362093,   6.54595381,\n",
       "         6.5805169 ,   6.62578188,   6.67986565,   6.74026861,\n",
       "         6.80393982,   6.86752023,   6.92836478,   6.98401338,\n",
       "         7.03268232,   7.07330009,   7.10556281,   7.12965445,\n",
       "         7.1462977 ,   7.15686547,   7.16335048,   7.16768641,\n",
       "         7.17182143,   7.17765118,   7.18690828,   7.20107964,\n",
       "         7.22115053,   7.24785707,   7.28143892,   7.32162085,\n",
       "         7.3677732 ,   7.41921432,   7.47504502,   7.53412589,\n",
       "         7.5950916 ,   7.656423  ,   7.71708603,   7.77604195,\n",
       "         7.83239911,   7.88550901,   7.93495535,   7.9805668 ,\n",
       "         8.02246806,   8.06081174,   8.09591458,   8.12828295,\n",
       "         8.15861055,   8.1877767 ,   8.21676078,   8.24619307,\n",
       "         8.27683879,   8.30940599,   8.3444956 ,   8.38260199,\n",
       "         8.42411357,   8.46922258,   8.51788452,   8.57032141,\n",
       "         8.62661933,   8.68669951,   8.75032394,   8.81710174,\n",
       "         8.88649609,   8.95783131,   9.0305308 ,   9.10442643,\n",
       "         9.17912554,   9.25426273,   9.32950908,   9.40457082,\n",
       "         9.47918793,   9.55313273,   9.62620863,   9.69837887,\n",
       "         9.7697026 ,   9.84020748,   9.90996908,   9.97910926,\n",
       "        10.04779464,  10.11623516,  10.1846827 ,  10.25342968,\n",
       "        10.32280041,  10.39293647,  10.46409507,  10.53660746,\n",
       "        10.61077249,  10.68685733,  10.76509809,  10.84570047,\n",
       "        10.92884044,  11.01466493,  11.10329258,  11.19481451,\n",
       "        11.2892952 ,  11.3867734 ,  11.48691655,  11.58951585,\n",
       "        11.6948548 ,  11.80316315,  11.91461788,  12.02934504,\n",
       "        12.14742181,  12.26887854,  12.3937009 ,  12.52183211,\n",
       "        12.65317511,  12.7875949 ,  12.92492071,  13.06494825,\n",
       "        13.20744189,  13.35213672,  13.49874056,  13.64718164,\n",
       "        13.79794427,  13.95113545,  14.10683913,  14.26513945,\n",
       "        14.42612056,  14.5898665 ,  14.75646106,  14.92598759,\n",
       "        15.09852896,  15.27416732,  15.45298408,  15.63505975,\n",
       "        15.82047381,  16.00930466,  16.20162949,  16.39746814,\n",
       "        16.59689681,  16.80018843,  17.00760872,  17.21941175,\n",
       "        17.43583998,  17.65712436,  17.88348446,  18.11512853,\n",
       "        18.35225367,  18.59504596,  18.8436806 ,  19.09832212,\n",
       "        19.35912459,  19.62623177,  19.89977747,  20.1798857 ,\n",
       "        20.46667101,  20.7602388 ,  21.06068557,  21.3680993 ,\n",
       "        21.68237851,  22.00339985,  22.33161675,  22.66747934,\n",
       "        23.01141482,  23.36382772,  23.72510019,  24.09559237,\n",
       "        24.47564274,  24.86556852,  25.26566617,  25.67621188,\n",
       "        26.0974621 ,  26.5296542 ,  26.97300705,  27.42772172,\n",
       "        27.89398221,  28.37195613,  28.86179554,  29.36363766,\n",
       "        29.87760568,  30.40380957,  30.94234686,  31.49330344,\n",
       "        32.05675434,  32.63276449,  33.22138952,  33.82267646,\n",
       "        34.43666445,  35.06338546,  35.70286496,  36.35512252,\n",
       "        37.0186502 ,  37.69117411,  38.37271674,  39.0636008 ,\n",
       "        39.76440926,  40.47596297,  41.19929958,  41.93565375,\n",
       "        42.68643835,  43.45322651,  44.23773434,  45.04180428,\n",
       "        45.8673889 ,  46.71653518,  47.59136919,  48.49408117,\n",
       "        49.42691112,  50.39213491,  51.39205094,  52.42896758,\n",
       "        53.50519136,  54.62301606,  55.78471296,  56.99252198,\n",
       "        58.24864428,  59.55523599,  60.91440333,  62.32819916,\n",
       "        63.79862086,  65.32760961,  66.91705115,  68.5687777 ,\n",
       "        70.28457133,  72.06616841,  73.91526533,  75.83352523,\n",
       "        77.82258575,  79.88406778,  82.01958511,  84.23075489,\n",
       "        86.51920905,  88.88660645,  91.33464606,  93.86508093,\n",
       "        96.47973324,  99.1805105 , 101.96942298, 104.84860262,\n",
       "       107.82032374, 110.88702566, 114.04601607, 117.28938829,\n",
       "       120.61536248, 124.02115522, 127.50298588, 131.05616713,\n",
       "       134.67517396, 138.35369125, 142.08464039, 145.86018532,\n",
       "       149.6717182 , 153.50982527, 157.36423298, 161.22411714,\n",
       "       165.08111728, 168.9205657 , 172.72645424, 176.48319068,\n",
       "       180.1754199 , 183.787863  , 187.30517531, 190.71182445,\n",
       "       193.99199038, 197.12948966, 200.10772699, 202.90967746,\n",
       "       205.517903  , 207.91827393, 210.10082164, 212.0488974 ,\n",
       "       213.74701551, 215.18133598, 216.33989204, 217.21281558,\n",
       "       217.79254355, 218.07398915, 218.05466333, 217.7347361 ,\n",
       "       217.11703234, 216.20696227, 215.01253458, 213.54033616,\n",
       "       211.79219654, 209.77323244, 207.4923485 , 204.96195578,\n",
       "       202.19769329, 199.21817693, 196.04479737, 192.70158534,\n",
       "       189.21515824, 185.61475752, 181.93238203, 178.20263349,\n",
       "       174.44768007, 170.69846373, 166.99285986, 163.36728388,\n",
       "       159.85701462, 156.49644473, 153.31924334, 150.35841812,\n",
       "       147.64626655, 145.21421048, 143.09251461, 141.30989812,\n",
       "       139.88829155, 138.8271581 , 138.14433442, 137.85517547,\n",
       "       137.96827646, 138.48527787, 139.40087765, 140.70305088,\n",
       "       142.37344802, 144.38791984, 146.71725077, 149.33877768,\n",
       "       152.22774159, 155.35125968, 158.67320289, 162.15436027,\n",
       "       165.75245231, 169.42199246, 173.11400673, 176.77563099,\n",
       "       180.3496166 , 183.79058879, 187.06076939, 190.107765  ,\n",
       "       192.8845167 , 195.34939608, 197.46640005, 199.20549052,\n",
       "       200.54302203, 201.46219097, 201.95343828, 202.01717977,\n",
       "       201.65436208, 200.8659899 , 199.66252509, 198.06366263,\n",
       "       196.09792786, 193.80222076, 191.22138849, 188.40790418,\n",
       "       185.41186579, 182.27852799, 179.06682164, 175.83501341,\n",
       "       172.64090347, 169.54227483, 166.59730169, 163.8648669 ,\n",
       "       161.40386401, 159.25024638, 157.44487243, 156.02853061,\n",
       "       155.031321  , 154.4720945 , 154.35800939, 154.68428875,\n",
       "       155.4342219 , 156.58542207, 158.1182088 , 160.00357954,\n",
       "       162.20361672, 164.67195348, 167.35413762, 170.18783227,\n",
       "       173.10281422, 176.03102377, 178.91847485, 181.69570379,\n",
       "       184.29864892, 186.66939766, 188.75605668, 190.5127933 ,\n",
       "       191.90002248, 192.89108707, 193.46966699, 193.61983743,\n",
       "       193.33907868, 192.63850337, 191.54273638, 190.08965658,\n",
       "       188.32593505, 186.29421787, 184.04904307, 181.64971527,\n",
       "       179.15952763, 176.64596431, 174.18099708, 171.83225345,\n",
       "       169.65704481, 167.71917492, 166.07234872, 164.759551  ,\n",
       "       163.81273803, 163.25250062, 163.08537316, 163.31216007,\n",
       "       163.93006256, 164.92204606, 166.25693332, 167.88972959,\n",
       "       169.761964  , 171.80674566, 173.97063059, 176.18672841,\n",
       "       178.38772474, 180.50830313, 182.48490796, 184.25556037,\n",
       "       185.76805948, 186.98322981, 187.86072989, 188.37477738,\n",
       "       188.51466826, 188.28489721, 187.70485634, 186.79919442,\n",
       "       185.59930476, 184.14711886, 182.49370019, 180.69917733,\n",
       "       178.83254474, 176.95643777, 175.13538623, 173.43431948,\n",
       "       171.91081689, 170.61512622, 169.59009507, 168.86628403,\n",
       "       168.46292723, 168.39682999, 168.66930133, 169.26580642,\n",
       "       170.15605598, 171.29519664, 172.64074698, 174.14257896,\n",
       "       175.74416342, 177.38580769, 179.00457854, 180.5360573 ,\n",
       "       181.929058  , 183.12955103, 184.09242648, 184.78508541,\n",
       "       185.18752114, 185.29241375, 185.10278287, 184.62848396,\n",
       "       183.89106698, 182.92447307, 181.77496104, 180.49664003,\n",
       "       179.14056896, 177.7646143 , 176.42508775, 175.17627141,\n",
       "       174.0704697 , 173.149675  , 172.44948352, 171.99982837,\n",
       "       171.81648934, 171.90102188, 172.24089083, 172.81600784,\n",
       "       173.60092134, 174.56118798, 175.65383667, 176.82741074])"
      ]
     },
     "execution_count": 118,
     "metadata": {},
     "output_type": "execute_result"
    }
   ],
   "source": [
    "angle_quat"
   ]
  },
  {
   "cell_type": "code",
   "execution_count": 119,
   "metadata": {},
   "outputs": [
    {
     "data": {
      "text/plain": [
       "array([[4.00000000e+01, 3.97768234e+01, 3.95536468e+01, ...,\n",
       "        3.40218631e+01, 3.40218631e+01, 3.40218631e+01],\n",
       "       [0.00000000e+00, 5.86125141e-02, 2.35096156e-01, ...,\n",
       "        1.00305345e+03, 1.00411049e+03, 1.00518039e+03],\n",
       "       [0.00000000e+00, 0.00000000e+00, 0.00000000e+00, ...,\n",
       "        0.00000000e+00, 0.00000000e+00, 0.00000000e+00],\n",
       "       ...,\n",
       "       [0.00000000e+00, 0.00000000e+00, 0.00000000e+00, ...,\n",
       "        0.00000000e+00, 0.00000000e+00, 0.00000000e+00],\n",
       "       [0.00000000e+00, 1.68764844e-03, 3.76603509e-03, ...,\n",
       "        1.61664389e+01, 1.77889263e+01, 1.86099313e+01],\n",
       "       [0.00000000e+00, 0.00000000e+00, 0.00000000e+00, ...,\n",
       "        0.00000000e+00, 0.00000000e+00, 0.00000000e+00]])"
      ]
     },
     "execution_count": 119,
     "metadata": {},
     "output_type": "execute_result"
    }
   ],
   "source": [
    "sol.sol(t_eval)"
   ]
  },
  {
   "cell_type": "code",
   "execution_count": 120,
   "metadata": {},
   "outputs": [
    {
     "data": {
      "text/plain": [
       "array([[ 4.00000000e+01,  3.99999990e+01,  3.99999895e+01,\n",
       "         3.99998942e+01,  3.99989408e+01,  3.99894072e+01,\n",
       "         3.98940709e+01,  3.89407077e+01,  3.78815373e+01,\n",
       "         3.58166081e+01,  3.47427234e+01,  3.40820782e+01,\n",
       "         3.40218631e+01,  3.40218631e+01,  3.40218631e+01,\n",
       "         3.40218631e+01,  3.40218631e+01,  3.40218631e+01,\n",
       "         3.40218631e+01,  3.40218631e+01,  3.40218631e+01,\n",
       "         3.40218631e+01,  3.40218631e+01,  3.40218631e+01,\n",
       "         3.40218631e+01,  3.40218631e+01,  3.40218631e+01,\n",
       "         3.40218631e+01,  3.40218631e+01,  3.40218631e+01,\n",
       "         3.40218631e+01,  3.40218631e+01,  3.40218631e+01,\n",
       "         3.40218631e+01,  3.40218631e+01,  3.40218631e+01,\n",
       "         3.40218631e+01,  3.40218631e+01,  3.40218631e+01,\n",
       "         3.40218631e+01,  3.40218631e+01,  3.40218631e+01,\n",
       "         3.40218631e+01,  3.40218631e+01,  3.40218631e+01,\n",
       "         3.40218631e+01,  3.40218631e+01,  3.40218631e+01,\n",
       "         3.40218631e+01,  3.40218631e+01,  3.40218631e+01,\n",
       "         3.40218631e+01,  3.40218631e+01,  3.40218631e+01,\n",
       "         3.40218631e+01,  3.40218631e+01,  3.40218631e+01,\n",
       "         3.40218631e+01,  3.40218631e+01,  3.40218631e+01,\n",
       "         3.40218631e+01,  3.40218631e+01],\n",
       "       [ 0.00000000e+00,  1.07171119e-12,  1.29677075e-10,\n",
       "         1.32045779e-08,  1.32286022e-06,  1.32332000e-04,\n",
       "         1.32555771e-02,  1.37021502e+00,  5.77674094e+00,\n",
       "         2.36139669e+01,  3.79154723e+01,  4.85648122e+01,\n",
       "         5.99940223e+01,  7.29579273e+01,  8.46516632e+01,\n",
       "         9.92963830e+01,  1.15440694e+02,  1.31316937e+02,\n",
       "         1.47939824e+02,  1.63988930e+02,  1.78630095e+02,\n",
       "         1.97802391e+02,  2.16778587e+02,  2.38620464e+02,\n",
       "         2.59814075e+02,  2.86296738e+02,  3.11921497e+02,\n",
       "         3.39968569e+02,  3.76792326e+02,  4.23033016e+02,\n",
       "         4.64596716e+02,  5.17865595e+02,  5.95495335e+02,\n",
       "         7.09209037e+02,  7.39132029e+02,  7.67975154e+02,\n",
       "         7.89810497e+02,  8.03762132e+02,  8.16170233e+02,\n",
       "         8.31976961e+02,  8.51744357e+02,  8.68400045e+02,\n",
       "         8.76943089e+02,  8.82572516e+02,  8.91275653e+02,\n",
       "         9.04271008e+02,  9.16577824e+02,  9.23899671e+02,\n",
       "         9.28158888e+02,  9.33504284e+02,  9.42517176e+02,\n",
       "         9.52011351e+02,  9.59113543e+02,  9.63295884e+02,\n",
       "         9.67447721e+02,  9.73821663e+02,  9.81035510e+02,\n",
       "         9.87585474e+02,  9.91740837e+02,  9.95251271e+02,\n",
       "         9.99815531e+02,  1.00518039e+03],\n",
       "       [ 0.00000000e+00,  0.00000000e+00,  0.00000000e+00,\n",
       "         0.00000000e+00,  0.00000000e+00,  0.00000000e+00,\n",
       "         0.00000000e+00,  0.00000000e+00,  0.00000000e+00,\n",
       "         0.00000000e+00,  0.00000000e+00,  0.00000000e+00,\n",
       "         0.00000000e+00,  0.00000000e+00,  0.00000000e+00,\n",
       "         0.00000000e+00,  0.00000000e+00,  0.00000000e+00,\n",
       "         0.00000000e+00,  0.00000000e+00,  0.00000000e+00,\n",
       "         0.00000000e+00,  0.00000000e+00,  0.00000000e+00,\n",
       "         0.00000000e+00,  0.00000000e+00,  0.00000000e+00,\n",
       "         0.00000000e+00,  0.00000000e+00,  0.00000000e+00,\n",
       "         0.00000000e+00,  0.00000000e+00,  0.00000000e+00,\n",
       "         0.00000000e+00,  0.00000000e+00,  0.00000000e+00,\n",
       "         0.00000000e+00,  0.00000000e+00,  0.00000000e+00,\n",
       "         0.00000000e+00,  0.00000000e+00,  0.00000000e+00,\n",
       "         0.00000000e+00,  0.00000000e+00,  0.00000000e+00,\n",
       "         0.00000000e+00,  0.00000000e+00,  0.00000000e+00,\n",
       "         0.00000000e+00,  0.00000000e+00,  0.00000000e+00,\n",
       "         0.00000000e+00,  0.00000000e+00,  0.00000000e+00,\n",
       "         0.00000000e+00,  0.00000000e+00,  0.00000000e+00,\n",
       "         0.00000000e+00,  0.00000000e+00,  0.00000000e+00,\n",
       "         0.00000000e+00,  0.00000000e+00],\n",
       "       [ 0.00000000e+00,  1.01966508e-11,  1.23379496e-09,\n",
       "         1.25633166e-07,  1.25861743e-05,  1.25905487e-03,\n",
       "         1.26118392e-01,  1.28175529e+01,  5.21411924e+01,\n",
       "         2.09684326e+02,  3.35943500e+02,  4.29169644e+02,\n",
       "         5.28040109e+02,  6.38576001e+02,  7.36956674e+02,\n",
       "         8.58615517e+02,  9.90670463e+02,  1.11799936e+03,\n",
       "         1.24829271e+03,  1.37121550e+03,  1.48102277e+03,\n",
       "         1.62134212e+03,  1.75592098e+03,  1.90510091e+03,\n",
       "         2.04396586e+03,  2.20923812e+03,  2.35984040e+03,\n",
       "         2.51344243e+03,  2.69663571e+03,  2.89559591e+03,\n",
       "         3.04298570e+03,  3.18590462e+03,  3.29604760e+03,\n",
       "         3.22566631e+03,  3.16013443e+03,  3.07383850e+03,\n",
       "         2.97226872e+03,  2.85638827e+03,  2.73014602e+03,\n",
       "         2.61847180e+03,  2.50142319e+03,  2.37718989e+03,\n",
       "         2.25923669e+03,  2.14025172e+03,  2.02147414e+03,\n",
       "         1.89933250e+03,  1.77707889e+03,  1.66177963e+03,\n",
       "         1.54887989e+03,  1.43042898e+03,  1.30361037e+03,\n",
       "         1.18365542e+03,  1.06372035e+03,  9.49461604e+02,\n",
       "         8.28688062e+02,  7.03236798e+02,  5.86648376e+02,\n",
       "         4.63980967e+02,  3.50163553e+02,  2.32201740e+02,\n",
       "         1.11433626e+02,  2.41584530e-13],\n",
       "       [ 0.00000000e+00,  1.79861979e-04,  1.97848180e-03,\n",
       "         1.99646826e-02,  1.99826946e-01,  1.99847498e+00,\n",
       "         1.99872911e+01,  2.08952611e+02,  4.28428207e+02,\n",
       "         8.35610185e+02,  1.04350282e+03,  1.17540086e+03,\n",
       "         1.17427607e+03,  1.15626142e+03,  1.13798481e+03,\n",
       "         1.11388407e+03,  1.08984164e+03,  1.07010235e+03,\n",
       "         1.05055940e+03,  1.03026658e+03,  1.01118330e+03,\n",
       "         9.88269224e+02,  9.68814911e+02,  9.47659264e+02,\n",
       "         9.26551786e+02,  9.01487107e+02,  8.80663616e+02,\n",
       "         8.60095224e+02,  8.34196894e+02,  8.05815979e+02,\n",
       "         7.84567353e+02,  7.59948214e+02,  7.26129214e+02,\n",
       "         6.62446017e+02,  6.80933632e+02,  5.90479785e+02,\n",
       "         4.04413751e+02,  2.62125301e+02,  3.78757215e+02,\n",
       "         5.46687176e+02,  5.92276686e+02,  3.91591872e+02,\n",
       "         2.05501416e+02,  2.35036797e+02,  4.14740313e+02,\n",
       "         5.17609723e+02,  4.00718350e+02,  2.26799316e+02,\n",
       "         1.83250970e+02,  3.02819002e+02,  4.32793788e+02,\n",
       "         3.98676541e+02,  2.56830125e+02,  1.79929245e+02,\n",
       "         2.40662915e+02,  3.54185064e+02,  3.68675053e+02,\n",
       "         2.73430986e+02,  1.90984613e+02,  2.02302394e+02,\n",
       "         2.83920027e+02,  3.26690200e+02],\n",
       "       [ 0.00000000e+00,  0.00000000e+00,  0.00000000e+00,\n",
       "         0.00000000e+00,  0.00000000e+00,  0.00000000e+00,\n",
       "         0.00000000e+00,  0.00000000e+00,  0.00000000e+00,\n",
       "         0.00000000e+00,  0.00000000e+00,  0.00000000e+00,\n",
       "         0.00000000e+00,  0.00000000e+00,  0.00000000e+00,\n",
       "         0.00000000e+00,  0.00000000e+00,  0.00000000e+00,\n",
       "         0.00000000e+00,  0.00000000e+00,  0.00000000e+00,\n",
       "         0.00000000e+00,  0.00000000e+00,  0.00000000e+00,\n",
       "         0.00000000e+00,  0.00000000e+00,  0.00000000e+00,\n",
       "         0.00000000e+00,  0.00000000e+00,  0.00000000e+00,\n",
       "         0.00000000e+00,  0.00000000e+00,  0.00000000e+00,\n",
       "         0.00000000e+00,  0.00000000e+00,  0.00000000e+00,\n",
       "         0.00000000e+00,  0.00000000e+00,  0.00000000e+00,\n",
       "         0.00000000e+00,  0.00000000e+00,  0.00000000e+00,\n",
       "         0.00000000e+00,  0.00000000e+00,  0.00000000e+00,\n",
       "         0.00000000e+00,  0.00000000e+00,  0.00000000e+00,\n",
       "         0.00000000e+00,  0.00000000e+00,  0.00000000e+00,\n",
       "         0.00000000e+00,  0.00000000e+00,  0.00000000e+00,\n",
       "         0.00000000e+00,  0.00000000e+00,  0.00000000e+00,\n",
       "         0.00000000e+00,  0.00000000e+00,  0.00000000e+00,\n",
       "         0.00000000e+00,  0.00000000e+00],\n",
       "       [ 0.00000000e+00,  1.71127242e-03,  1.88239969e-02,\n",
       "         1.89951266e-01,  1.90122639e+00,  1.90142193e+01,\n",
       "         1.90166372e+02,  1.90093685e+03,  3.79163980e+03,\n",
       "         7.39055883e+03,  9.17816870e+03,  1.02361976e+04,\n",
       "         1.00889505e+04,  9.78654541e+03,  9.51883165e+03,\n",
       "         9.18920539e+03,  8.83233965e+03,  8.48849236e+03,\n",
       "         8.13665513e+03,  7.80448050e+03,  7.50698152e+03,\n",
       "         7.12458546e+03,  6.75426980e+03,  6.33840339e+03,\n",
       "         5.94459933e+03,  5.46396705e+03,  5.01015769e+03,\n",
       "         4.52584232e+03,  3.90722560e+03,  3.15235358e+03,\n",
       "         2.49061069e+03,  1.65884680e+03,  4.57962006e+02,\n",
       "        -1.25481988e+03, -1.70683890e+03, -2.16197014e+03,\n",
       "        -2.47949432e+03, -2.85597826e+03, -3.19567899e+03,\n",
       "        -3.36462318e+03, -3.64478712e+03, -3.88762483e+03,\n",
       "        -4.08342123e+03, -4.31247963e+03, -4.45111639e+03,\n",
       "        -4.62661732e+03, -4.81500468e+03, -4.95226160e+03,\n",
       "        -5.11064070e+03, -5.24187012e+03, -5.36727686e+03,\n",
       "        -5.51121435e+03, -5.62977825e+03, -5.74684294e+03,\n",
       "        -5.86251536e+03, -5.96115456e+03, -6.06612922e+03,\n",
       "        -6.16815069e+03, -6.25715441e+03, -6.34960929e+03,\n",
       "        -6.42944156e+03, -6.50470247e+03],\n",
       "       [ 9.98629535e-01,  9.98629535e-01,  9.98629535e-01,\n",
       "         9.98629535e-01,  9.98629535e-01,  9.98629535e-01,\n",
       "         9.98629535e-01,  9.98631491e-01,  9.98654076e-01,\n",
       "         9.98649648e-01,  9.98507646e-01,  9.98402818e-01,\n",
       "         9.98346987e-01,  9.98358077e-01,  9.98383702e-01,\n",
       "         9.98352748e-01,  9.98224148e-01,  9.98097648e-01,\n",
       "         9.98047741e-01,  9.98031326e-01,  9.97965449e-01,\n",
       "         9.97783010e-01,  9.97589060e-01,  9.97440063e-01,\n",
       "         9.97288951e-01,  9.96936565e-01,  9.96475544e-01,\n",
       "         9.95956638e-01,  9.95062980e-01,  9.93031543e-01,\n",
       "         9.89975288e-01,  9.82548224e-01,  9.49924959e-01,\n",
       "         5.64349000e-01,  1.74074663e-01, -2.25333676e-01,\n",
       "        -3.05883760e-01,  9.95142545e-03,  3.37130358e-01,\n",
       "         2.89240893e-01, -5.17243208e-03, -1.90629612e-01,\n",
       "        -6.97565104e-02,  1.56990197e-01,  2.12487967e-01,\n",
       "         5.38016795e-02, -1.05046297e-01, -8.30497751e-02,\n",
       "         5.45283852e-02,  1.46063968e-01,  8.14736992e-02,\n",
       "        -3.95130990e-02, -6.88307231e-02,  7.84155818e-03,\n",
       "         9.21747274e-02,  7.93932140e-02,  8.10283364e-04,\n",
       "        -4.61630035e-02, -1.24732831e-02,  5.15786625e-02,\n",
       "         6.86118703e-02,  2.76825274e-02],\n",
       "       [ 0.00000000e+00,  0.00000000e+00,  0.00000000e+00,\n",
       "         0.00000000e+00,  0.00000000e+00,  0.00000000e+00,\n",
       "         0.00000000e+00,  0.00000000e+00,  0.00000000e+00,\n",
       "         0.00000000e+00,  0.00000000e+00,  0.00000000e+00,\n",
       "         0.00000000e+00,  0.00000000e+00,  0.00000000e+00,\n",
       "         0.00000000e+00,  0.00000000e+00,  0.00000000e+00,\n",
       "         0.00000000e+00,  0.00000000e+00,  0.00000000e+00,\n",
       "         0.00000000e+00,  0.00000000e+00,  0.00000000e+00,\n",
       "         0.00000000e+00,  0.00000000e+00,  0.00000000e+00,\n",
       "         0.00000000e+00,  0.00000000e+00,  0.00000000e+00,\n",
       "         0.00000000e+00,  0.00000000e+00,  0.00000000e+00,\n",
       "         0.00000000e+00,  0.00000000e+00,  0.00000000e+00,\n",
       "         0.00000000e+00,  0.00000000e+00,  0.00000000e+00,\n",
       "         0.00000000e+00,  0.00000000e+00,  0.00000000e+00,\n",
       "         0.00000000e+00,  0.00000000e+00,  0.00000000e+00,\n",
       "         0.00000000e+00,  0.00000000e+00,  0.00000000e+00,\n",
       "         0.00000000e+00,  0.00000000e+00,  0.00000000e+00,\n",
       "         0.00000000e+00,  0.00000000e+00,  0.00000000e+00,\n",
       "         0.00000000e+00,  0.00000000e+00,  0.00000000e+00,\n",
       "         0.00000000e+00,  0.00000000e+00,  0.00000000e+00,\n",
       "         0.00000000e+00,  0.00000000e+00],\n",
       "       [ 5.23359562e-02,  5.23359562e-02,  5.23359562e-02,\n",
       "         5.23359562e-02,  5.23359562e-02,  5.23359562e-02,\n",
       "         5.23359562e-02,  5.22986310e-02,  5.18655808e-02,\n",
       "         5.19566776e-02,  5.46174111e-02,  5.65012580e-02,\n",
       "         5.74788314e-02,  5.72859404e-02,  5.68376750e-02,\n",
       "         5.73782781e-02,  5.95740451e-02,  6.16572045e-02,\n",
       "         6.24595044e-02,  6.27215389e-02,  6.37609738e-02,\n",
       "         6.65551030e-02,  6.94017682e-02,  7.15108943e-02,\n",
       "         7.35884417e-02,  7.82150973e-02,  8.38853299e-02,\n",
       "         8.98365953e-02,  9.92450034e-02,  1.17816525e-01,\n",
       "         1.41210049e-01,  1.85941655e-01,  3.11938941e-01,\n",
       "         8.25144638e-01,  9.84406278e-01,  9.73967378e-01,\n",
       "         9.50590047e-01,  9.98306806e-01,  9.40909037e-01,\n",
       "         9.55685579e-01,  9.98976324e-01,  9.80356786e-01,\n",
       "         9.95864335e-01,  9.86372840e-01,  9.75372047e-01,\n",
       "         9.96872424e-01,  9.92967602e-01,  9.94775024e-01,\n",
       "         9.96894424e-01,  9.87580311e-01,  9.94763546e-01,\n",
       "         9.97477002e-01,  9.95720104e-01,  9.98094125e-01,\n",
       "         9.93916875e-01,  9.94866372e-01,  9.98091766e-01,\n",
       "         9.96986861e-01,  9.97958844e-01,  9.96748648e-01,\n",
       "         9.95670766e-01,  9.97658656e-01],\n",
       "       [ 0.00000000e+00,  0.00000000e+00,  0.00000000e+00,\n",
       "         0.00000000e+00,  0.00000000e+00,  0.00000000e+00,\n",
       "         0.00000000e+00,  0.00000000e+00,  0.00000000e+00,\n",
       "         0.00000000e+00,  0.00000000e+00,  0.00000000e+00,\n",
       "         0.00000000e+00,  0.00000000e+00,  0.00000000e+00,\n",
       "         0.00000000e+00,  0.00000000e+00,  0.00000000e+00,\n",
       "         0.00000000e+00,  0.00000000e+00,  0.00000000e+00,\n",
       "         0.00000000e+00,  0.00000000e+00,  0.00000000e+00,\n",
       "         0.00000000e+00,  0.00000000e+00,  0.00000000e+00,\n",
       "         0.00000000e+00,  0.00000000e+00,  0.00000000e+00,\n",
       "         0.00000000e+00,  0.00000000e+00,  0.00000000e+00,\n",
       "         0.00000000e+00,  0.00000000e+00,  0.00000000e+00,\n",
       "         0.00000000e+00,  0.00000000e+00,  0.00000000e+00,\n",
       "         0.00000000e+00,  0.00000000e+00,  0.00000000e+00,\n",
       "         0.00000000e+00,  0.00000000e+00,  0.00000000e+00,\n",
       "         0.00000000e+00,  0.00000000e+00,  0.00000000e+00,\n",
       "         0.00000000e+00,  0.00000000e+00,  0.00000000e+00,\n",
       "         0.00000000e+00,  0.00000000e+00,  0.00000000e+00,\n",
       "         0.00000000e+00,  0.00000000e+00,  0.00000000e+00,\n",
       "         0.00000000e+00,  0.00000000e+00,  0.00000000e+00,\n",
       "         0.00000000e+00,  0.00000000e+00],\n",
       "       [ 0.00000000e+00,  0.00000000e+00,  0.00000000e+00,\n",
       "         0.00000000e+00,  0.00000000e+00,  0.00000000e+00,\n",
       "         0.00000000e+00,  0.00000000e+00,  0.00000000e+00,\n",
       "         0.00000000e+00,  0.00000000e+00,  0.00000000e+00,\n",
       "         0.00000000e+00,  0.00000000e+00,  0.00000000e+00,\n",
       "         0.00000000e+00,  0.00000000e+00,  0.00000000e+00,\n",
       "         0.00000000e+00,  0.00000000e+00,  0.00000000e+00,\n",
       "         0.00000000e+00,  0.00000000e+00,  0.00000000e+00,\n",
       "         0.00000000e+00,  0.00000000e+00,  0.00000000e+00,\n",
       "         0.00000000e+00,  0.00000000e+00,  0.00000000e+00,\n",
       "         0.00000000e+00,  0.00000000e+00,  0.00000000e+00,\n",
       "         0.00000000e+00,  0.00000000e+00,  0.00000000e+00,\n",
       "         0.00000000e+00,  0.00000000e+00,  0.00000000e+00,\n",
       "         0.00000000e+00,  0.00000000e+00,  0.00000000e+00,\n",
       "         0.00000000e+00,  0.00000000e+00,  0.00000000e+00,\n",
       "         0.00000000e+00,  0.00000000e+00,  0.00000000e+00,\n",
       "         0.00000000e+00,  0.00000000e+00,  0.00000000e+00,\n",
       "         0.00000000e+00,  0.00000000e+00,  0.00000000e+00,\n",
       "         0.00000000e+00,  0.00000000e+00,  0.00000000e+00,\n",
       "         0.00000000e+00,  0.00000000e+00,  0.00000000e+00,\n",
       "         0.00000000e+00,  0.00000000e+00],\n",
       "       [ 0.00000000e+00,  0.00000000e+00,  0.00000000e+00,\n",
       "         0.00000000e+00,  0.00000000e+00,  0.00000000e+00,\n",
       "         0.00000000e+00, -7.44524942e-02, -2.31354513e-01,\n",
       "         6.21255811e-01,  1.22856612e+00,  9.48123774e-01,\n",
       "         2.15503112e-01, -3.04282428e-01, -1.13027913e-01,\n",
       "         6.18433996e-01,  9.96727891e-01,  5.83430779e-01,\n",
       "         9.31552515e-02,  2.11026400e-01,  6.53201429e-01,\n",
       "         9.58481223e-01,  7.12230108e-01,  4.53537050e-01,\n",
       "         6.98387497e-01,  1.13008330e+00,  1.13580075e+00,\n",
       "         1.08880022e+00,  1.55041335e+00,  2.31304513e+00,\n",
       "         3.04731893e+00,  4.89017866e+00,  1.03367968e+01,\n",
       "         4.89246319e+01,  6.03693316e+01,  3.84793446e+01,\n",
       "        -1.87736715e+01, -5.84683166e+01, -2.23503338e+01,\n",
       "         3.81071645e+01,  5.47327945e+01,  3.63823507e+00,\n",
       "        -4.58907655e+01, -3.71907376e+01,  1.51003988e+01,\n",
       "         4.58050714e+01,  1.77571239e+01, -2.68433797e+01,\n",
       "        -3.74084206e+01, -4.74065185e+00,  3.18502154e+01,\n",
       "         2.50514340e+01, -1.02891002e+01, -2.93571834e+01,\n",
       "        -1.27633237e+01,  1.84075912e+01,  2.38117833e+01,\n",
       "         7.41736986e-01, -1.96276712e+01, -1.59608542e+01,\n",
       "         6.25879258e+00,  1.86099313e+01],\n",
       "       [ 0.00000000e+00,  0.00000000e+00,  0.00000000e+00,\n",
       "         0.00000000e+00,  0.00000000e+00,  0.00000000e+00,\n",
       "         0.00000000e+00,  0.00000000e+00,  0.00000000e+00,\n",
       "         0.00000000e+00,  0.00000000e+00,  0.00000000e+00,\n",
       "         0.00000000e+00,  0.00000000e+00,  0.00000000e+00,\n",
       "         0.00000000e+00,  0.00000000e+00,  0.00000000e+00,\n",
       "         0.00000000e+00,  0.00000000e+00,  0.00000000e+00,\n",
       "         0.00000000e+00,  0.00000000e+00,  0.00000000e+00,\n",
       "         0.00000000e+00,  0.00000000e+00,  0.00000000e+00,\n",
       "         0.00000000e+00,  0.00000000e+00,  0.00000000e+00,\n",
       "         0.00000000e+00,  0.00000000e+00,  0.00000000e+00,\n",
       "         0.00000000e+00,  0.00000000e+00,  0.00000000e+00,\n",
       "         0.00000000e+00,  0.00000000e+00,  0.00000000e+00,\n",
       "         0.00000000e+00,  0.00000000e+00,  0.00000000e+00,\n",
       "         0.00000000e+00,  0.00000000e+00,  0.00000000e+00,\n",
       "         0.00000000e+00,  0.00000000e+00,  0.00000000e+00,\n",
       "         0.00000000e+00,  0.00000000e+00,  0.00000000e+00,\n",
       "         0.00000000e+00,  0.00000000e+00,  0.00000000e+00,\n",
       "         0.00000000e+00,  0.00000000e+00,  0.00000000e+00,\n",
       "         0.00000000e+00,  0.00000000e+00,  0.00000000e+00,\n",
       "         0.00000000e+00,  0.00000000e+00]])"
      ]
     },
     "execution_count": 120,
     "metadata": {},
     "output_type": "execute_result"
    }
   ],
   "source": [
    "sol.y"
   ]
  },
  {
   "cell_type": "code",
   "execution_count": 121,
   "metadata": {},
   "outputs": [
    {
     "data": {
      "text/plain": [
       "array([0.00000000e+00, 4.76681586e-07, 5.24349745e-06, 5.29116561e-05,\n",
       "       5.29593242e-04, 5.29640910e-03, 5.29645677e-02, 5.29646154e-01,\n",
       "       1.05923135e+00, 2.09169597e+00, 2.62863832e+00, 2.95896092e+00,\n",
       "       3.28928353e+00, 3.66773781e+00, 4.01451628e+00, 4.45705707e+00,\n",
       "       4.95572288e+00, 5.45599197e+00, 5.98933848e+00, 6.51409984e+00,\n",
       "       7.00213603e+00, 7.65481264e+00, 8.31473570e+00, 9.09023430e+00,\n",
       "       9.85968451e+00, 1.08457753e+01, 1.18244790e+01, 1.29209585e+01,\n",
       "       1.44001567e+01, 1.63200072e+01, 1.80989186e+01, 2.04463315e+01,\n",
       "       2.40020054e+01, 2.95851574e+01, 3.10963159e+01, 3.26074744e+01,\n",
       "       3.40922747e+01, 3.55770750e+01, 3.69882658e+01, 3.81476546e+01,\n",
       "       3.92868236e+01, 4.04062098e+01, 4.14148365e+01, 4.23782555e+01,\n",
       "       4.32996810e+01, 4.42167338e+01, 4.50969910e+01, 4.59004141e+01,\n",
       "       4.66639927e+01, 4.74418805e+01, 4.82557856e+01, 4.90060498e+01,\n",
       "       4.97383939e+01, 5.04219436e+01, 5.11295245e+01, 5.18515453e+01,\n",
       "       5.25112348e+01, 5.31933373e+01, 5.38166848e+01, 5.44532938e+01,\n",
       "       5.50962702e+01, 5.56825640e+01])"
      ]
     },
     "execution_count": 121,
     "metadata": {},
     "output_type": "execute_result"
    }
   ],
   "source": [
    "sol.t"
   ]
  },
  {
   "cell_type": "code",
   "execution_count": 122,
   "metadata": {},
   "outputs": [
    {
     "data": {
      "text/plain": [
       "[array([0.33097754]), array([], dtype=float64), array([55.68256399])]"
      ]
     },
     "execution_count": 122,
     "metadata": {},
     "output_type": "execute_result"
    }
   ],
   "source": [
    "sol.t_events"
   ]
  },
  {
   "cell_type": "code",
   "execution_count": 123,
   "metadata": {},
   "outputs": [
    {
     "data": {
      "text/plain": [
       "State  [4.0e+01 0.0e+00 0.0e+00 0.0e+00 0.0e+00 0.0e+00 1.2e+03 1.0e+00 0.0e+00\n",
       " 0.0e+00 0.0e+00 0.0e+00 0.0e+00 0.0e+00]"
      ]
     },
     "execution_count": 123,
     "metadata": {},
     "output_type": "execute_result"
    }
   ],
   "source": [
    "s0"
   ]
  },
  {
   "cell_type": "code",
   "execution_count": 124,
   "metadata": {},
   "outputs": [
    {
     "data": {
      "text/plain": [
       "array([], dtype=float64)"
      ]
     },
     "execution_count": 124,
     "metadata": {},
     "output_type": "execute_result"
    }
   ],
   "source": [
    "sol.y_events[1]"
   ]
  },
  {
   "cell_type": "code",
   "execution_count": 125,
   "metadata": {},
   "outputs": [
    {
     "data": {
      "text/plain": [
       "State  [4.0e+01 0.0e+00 0.0e+00 0.0e+00 0.0e+00 0.0e+00 1.2e+03 1.0e+00 0.0e+00\n",
       " 0.0e+00 0.0e+00 0.0e+00 0.0e+00 0.0e+00]"
      ]
     },
     "execution_count": 125,
     "metadata": {},
     "output_type": "execute_result"
    }
   ],
   "source": [
    "s0"
   ]
  },
  {
   "cell_type": "code",
   "execution_count": 126,
   "metadata": {
    "scrolled": true
   },
   "outputs": [
    {
     "ename": "IndexError",
     "evalue": "index 0 is out of bounds for axis 0 with size 0",
     "output_type": "error",
     "traceback": [
      "\u001b[0;31m---------------------------------------------------------------------------\u001b[0m",
      "\u001b[0;31mIndexError\u001b[0m                                Traceback (most recent call last)",
      "\u001b[0;32m<ipython-input-126-4561e90374b0>\u001b[0m in \u001b[0;36m<module>\u001b[0;34m\u001b[0m\n\u001b[0;32m----> 1\u001b[0;31m \u001b[0ms0\u001b[0m\u001b[0;34m.\u001b[0m\u001b[0mupdate\u001b[0m\u001b[0;34m(\u001b[0m\u001b[0msol\u001b[0m\u001b[0;34m.\u001b[0m\u001b[0my_events\u001b[0m\u001b[0;34m[\u001b[0m\u001b[0;36m1\u001b[0m\u001b[0;34m]\u001b[0m\u001b[0;34m[\u001b[0m\u001b[0;36m0\u001b[0m\u001b[0;34m]\u001b[0m\u001b[0;34m,\u001b[0m \u001b[0msol\u001b[0m\u001b[0;34m.\u001b[0m\u001b[0mt_events\u001b[0m\u001b[0;34m[\u001b[0m\u001b[0;36m1\u001b[0m\u001b[0;34m]\u001b[0m\u001b[0;34m)\u001b[0m\u001b[0;34m\u001b[0m\u001b[0;34m\u001b[0m\u001b[0m\n\u001b[0m",
      "\u001b[0;31mIndexError\u001b[0m: index 0 is out of bounds for axis 0 with size 0"
     ]
    }
   ],
   "source": [
    "s0.update(sol.y_events[1][0], sol.t_events[1])"
   ]
  },
  {
   "cell_type": "code",
   "execution_count": null,
   "metadata": {},
   "outputs": [],
   "source": [
    "sol.y_events[1][0]"
   ]
  },
  {
   "cell_type": "code",
   "execution_count": null,
   "metadata": {},
   "outputs": [],
   "source": [
    "s0"
   ]
  },
  {
   "cell_type": "code",
   "execution_count": null,
   "metadata": {},
   "outputs": [],
   "source": [
    "s0.mass"
   ]
  },
  {
   "cell_type": "code",
   "execution_count": 127,
   "metadata": {
    "scrolled": true
   },
   "outputs": [
    {
     "data": {
      "text/plain": [
       "array([0, 0, 0])"
      ]
     },
     "execution_count": 127,
     "metadata": {},
     "output_type": "execute_result"
    }
   ],
   "source": [
    "s0.pos"
   ]
  },
  {
   "cell_type": "code",
   "execution_count": 128,
   "metadata": {},
   "outputs": [
    {
     "data": {
      "text/plain": [
       "array([   0,    0, 1200])"
      ]
     },
     "execution_count": 128,
     "metadata": {},
     "output_type": "execute_result"
    }
   ],
   "source": [
    "s0.momentum"
   ]
  },
  {
   "cell_type": "code",
   "execution_count": 129,
   "metadata": {},
   "outputs": [
    {
     "data": {
      "text/plain": [
       "1.9091524329963898"
      ]
     },
     "execution_count": 129,
     "metadata": {},
     "output_type": "execute_result"
    }
   ],
   "source": [
    "r.alpha(s0)*180/np.pi"
   ]
  },
  {
   "cell_type": "code",
   "execution_count": null,
   "metadata": {},
   "outputs": [],
   "source": []
  },
  {
   "cell_type": "code",
   "execution_count": null,
   "metadata": {},
   "outputs": [],
   "source": []
  },
  {
   "cell_type": "code",
   "execution_count": null,
   "metadata": {},
   "outputs": [],
   "source": []
  },
  {
   "cell_type": "code",
   "execution_count": null,
   "metadata": {},
   "outputs": [],
   "source": []
  }
 ],
 "metadata": {
  "kernelspec": {
   "display_name": "rocketPy",
   "language": "python",
   "name": "rocketpy"
  },
  "language_info": {
   "codemirror_mode": {
    "name": "ipython",
    "version": 3
   },
   "file_extension": ".py",
   "mimetype": "text/x-python",
   "name": "python",
   "nbconvert_exporter": "python",
   "pygments_lexer": "ipython3",
   "version": "3.6.7"
  }
 },
 "nbformat": 4,
 "nbformat_minor": 2
}
