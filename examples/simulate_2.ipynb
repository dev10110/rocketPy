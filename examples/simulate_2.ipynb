{
 "cells": [
  {
   "cell_type": "code",
   "execution_count": 1,
   "metadata": {},
   "outputs": [],
   "source": [
    "import numpy as np\n",
    "import numpy.linalg as la\n",
    "import scipy as sp\n",
    "import scipy.integrate as spint\n",
    "import matplotlib.pyplot as plt\n",
    "\n",
    "from rocketPy import Quaternion"
   ]
  },
  {
   "cell_type": "code",
   "execution_count": 2,
   "metadata": {},
   "outputs": [],
   "source": [
    "class SimpleRocket():\n",
    "    \n",
    "    def __init__(self):\n",
    "        \n",
    "        self.m0 = 40;\n",
    "        self.c = 2000;\n",
    "        \n",
    "        self.A_ref = np.pi*0.15**2/4;\n",
    "        \n",
    "        self.ax_roll = np.array([0,0,1])\n",
    "        self.ax_pitch = np.array([0,1,0])\n",
    "        self.ax_yaw = np.array([1,0,0])\n",
    "        \n",
    "        self.inertia_matrix = np.diag([100,100,10])\n",
    "        \n",
    "    def dynamics(self, time, state):\n",
    "        \n",
    "        # need to return the forces and moments acting at the cg in body fixed axes.\n",
    "        # z points towards the nose\n",
    "        # x points to the right fin\n",
    "        # y completes right hand coord system\n",
    "        \n",
    "        # m_dot is a scalar, negative if the mass is decreasing\n",
    "        \n",
    "        # compute thrust force\n",
    "        f_thrust, m_dot = self.f_thrust(time, state)\n",
    "        \n",
    "        # compute axial drag force\n",
    "        f_axial = self.f_axial(time, state)\n",
    "        \n",
    "        \n",
    "        \n",
    "        # sum forces\n",
    "        forces = f_thrust + f_axial;\n",
    "\n",
    "        # sum moments\n",
    "        moments = np.array([0,0,0])\n",
    "        \n",
    "        return forces, moments, m_dot\n",
    "    \n",
    "    \n",
    "    def f_thrust(self, time, state):\n",
    "        if time < 3:\n",
    "            f = 1000;\n",
    "        else:\n",
    "            f = 0;\n",
    "        \n",
    "        m_dot = -f/self.c\n",
    "        \n",
    "        return f*self.ax_roll, m_dot\n",
    "        \n",
    "    def f_axial(self, time, state):\n",
    "        \n",
    "        C_A = 0.5;\n",
    "        q_inf = self.dynamic_pressure(state);\n",
    "        F_A = q_inf * C_A * self.A_ref;\n",
    "        \n",
    "        # is aligned with negative z axis\n",
    "        F_A = np.array([0,0, -F_A]);\n",
    "        \n",
    "        return F_A\n",
    "    \n",
    "    def f_normal(self, time, state):\n",
    "        \n",
    "        C_Na = 9; # arbitrary for now\n",
    "        \n",
    "        return np.array([0,0,0])\n",
    "        \n",
    "    \n",
    "    ## these are implementation specific\n",
    "    ## ie as a person designing the rocket, you need to define how you determine the aero forces, \n",
    "    ## so you own these equations\n",
    "    ## the state just interfaces bewteen scipy solve ivp and rocket dynamics\n",
    "    \n",
    "    \n",
    "        \n",
    "        \n",
    "    def dynamic_pressure(self, state):\n",
    "        z = state.pos[2]\n",
    "        \n",
    "        # todo update to use the cp velocity\n",
    "        dynamic_pressure = 0.5 * state.env.rho(z) * self.v_cp(state) @ self.v_cp(state)\n",
    "        \n",
    "        return dynamic_pressure\n",
    "    \n",
    "    def v_body(self, state):\n",
    "        \"\"\"Returns the velocity of the body in earth coordinates\"\"\"\n",
    "        \n",
    "        return state.momentum/state.mass;\n",
    "    \n",
    "    def v_cg(self, state):\n",
    "        \"\"\"Returns the apparent airspeed at the CG in earth coordinates\n",
    "        v_cg = v_body + wind\n",
    "        \"\"\"\n",
    "        return self.v_body(state) + state.wind()\n",
    "    \n",
    "    def v_p(self, p):\n",
    "        \"\"\"Computes the airspeed at some location p.\n",
    "        p is the position vector of the point relative to the cg of the rocket in earth coordinates\n",
    "        \"\"\"\n",
    "        # todo (high): update with 6DOF\n",
    "        omega = np.array([0,0,0])\n",
    "        # todo convert p to earth coordinates\n",
    "        \n",
    "        return v_cg() + np.cross(omega, p)\n",
    "        \n",
    "        \n",
    "    def v_cp(self, state):\n",
    "        \"\"\"Returns the apparent airspeed at the CP\n",
    "        accounts for the rotation rate of the body\n",
    "        \"\"\"\n",
    "        \n",
    "        #todo (high): update to account for the rotation rate\n",
    "        \n",
    "        return self.v_cg(state)\n",
    "        \n",
    "    def alpha(self, p=None):\n",
    "        \"\"\"Return the angle of attack of the air at some location on the body p (relative to the cg)\"\"\"\n",
    "        \n",
    "        \n",
    "        # angle between roll axis and airspeed at p\n",
    "        # if p is none, use the cp\n",
    "        \n",
    "        \n",
    "        raise NotImplementedError\n",
    "    "
   ]
  },
  {
   "cell_type": "code",
   "execution_count": 3,
   "metadata": {},
   "outputs": [],
   "source": [
    "class Env():\n",
    "    \n",
    "    def __init__(self):\n",
    "        return\n",
    "    \n",
    "    def rho(self, z):\n",
    "        \"\"\" Return the density at some altitude in meters\"\"\"\n",
    "        return 1.225"
   ]
  },
  {
   "cell_type": "code",
   "execution_count": 4,
   "metadata": {},
   "outputs": [],
   "source": [
    "class State():\n",
    "    \n",
    "    def __init__(self):\n",
    "        \n",
    "        zero = np.array([0,0,0]);\n",
    "        \n",
    "        self.time = 0;\n",
    "        self.mass = 1;\n",
    "        self.pos = zero;\n",
    "        self.momentum = zero\n",
    "        self.quaternion = Quaternion(1,0,0,0) #no rotation\n",
    "        self.angular_momentum = zero;\n",
    "\n",
    "        \n",
    "        self.env = Env()\n",
    "    \n",
    "    def vector(self):\n",
    "        \"\"\"Convert state to vector\"\"\"\n",
    "        # passes the quaternion's vector\n",
    "        return np.hstack([[self.mass], self.pos, self.momentum, self.quaternion.q, self.angular_momentum]);\n",
    "    \n",
    "    def update(self,statev, time=None):\n",
    "        # take a state vector and pass it to the internal objects\n",
    "        if time is not None:\n",
    "            self.time = time\n",
    "            \n",
    "        self.mass = statev[0]  \n",
    "        self.pos = statev[1:4]\n",
    "        self.momentum = statev[4:7]\n",
    "        self.quaternion = Quaternion(*statev[7:11])\n",
    "        self.angular_momentum = statev[11:14]\n",
    "        \n",
    "        \n",
    "    def wind(self):\n",
    "        \"\"\"Returns the Earth coordinate wind vector at this state\"\"\"\n",
    "        # maybe allow it to take some offset vector?\n",
    "        # in either Earth or Body axes?\n",
    "        \n",
    "        # should be a deterministic function of state\n",
    "        # for now a constant with time and altitude, blowing to the negative x direction\n",
    "        return np.array([-5,0,0])\n",
    "    \n",
    "    \n",
    "    def __repr__(self):\n",
    "        return f'State  {self.v()}'"
   ]
  },
  {
   "cell_type": "code",
   "execution_count": null,
   "metadata": {},
   "outputs": [],
   "source": []
  },
  {
   "cell_type": "code",
   "execution_count": 13,
   "metadata": {},
   "outputs": [],
   "source": [
    "class Simulation():\n",
    "    \n",
    "    def __init__(self, rocket, state_initial):\n",
    "\n",
    "        self.rocket = rocket\n",
    "            \n",
    "        self.ax_x = np.array([1,0,0])\n",
    "        self.ax_y = np.array([0,1,0])\n",
    "        self.ax_z = np.array([0,0,1]) # vertically upwards\n",
    "        \n",
    "        self.g0 = 9.81;\n",
    "        self.g  = - self.g0*self.ax_z\n",
    "        \n",
    "        self.state = state_initial;\n",
    "        \n",
    "        self.launch_rail_length = 5;\n",
    "        \n",
    "        self.launch_angle = 6*np.pi/180\n",
    "        self.launch_v = np.array([np.sin(self.launch_angle), 0, np.cos(self.launch_angle)])\n",
    "        \n",
    "        self.state.quaternion = Quaternion.from_angle(self.launch_angle, self.ax_y)\n",
    "        \n",
    "    \n",
    "    def dynamics(self, time, statev):\n",
    "        \n",
    "        state = self.state;\n",
    "        \n",
    "        state.update(statev, time)\n",
    "        \n",
    "        # calculate the angular velocity of the rocket\n",
    "        R = state.quaternion.rot_matrix()\n",
    "        omega = R @ la.inv(self.rocket.inertia_matrix) @ R.T @ state.angular_momentum;\n",
    "        # this omega is in earth coordinates, about the cg\n",
    "        \n",
    "        \n",
    "        # get the rocket axis forces and moments\n",
    "        forces_b, moments_b, m_dot = self.rocket.dynamics(time, state)\n",
    "        \n",
    "        # convert body axis forces into earth axis\n",
    "        px, py, pz = state.momentum;\n",
    "        th = np.arctan2(px,pz)\n",
    "        R = np.array([[np.cos(th), 0, np.sin(th)],[0,1,0],[-np.sin(th), 0, np.cos(th)]])\n",
    "        \n",
    "        forces_e = R @ forces_b;\n",
    "        moments_e = R @ moments_b;\n",
    "        \n",
    "        # add gravity\n",
    "        forces = forces_e + state.mass*self.g;\n",
    "        moments = moments_e;\n",
    "        \n",
    "        \n",
    "        # apply launch rail\n",
    "        # compute v_cg\n",
    "        V_cg = self.state.momentum/self.state.mass;\n",
    "        if la.norm(state.pos) < self.launch_rail_length:\n",
    "            V_cg = self.launch_v * np.dot(V_cg, self.launch_v);\n",
    "            forces = self.launch_v * np.dot(forces, self.launch_v);\n",
    "        \n",
    "        # determine rate of change of quaternion\n",
    "        d_quaternion = state.quaternion.rate_of_change(omega)\n",
    "        \n",
    "        # set derivatives\n",
    "        d_mass = m_dot\n",
    "        d_pos = V_cg\n",
    "        d_momentum = forces;\n",
    "        #d_quaternion = d_quat\n",
    "        d_angular_momentum = moments;\n",
    "        \n",
    "        return np.hstack([d_mass, d_pos, d_momentum, d_quaternion, d_angular_momentum])\n",
    "    \n",
    "    \n",
    "    def solve(self, t_span = [0,100]):\n",
    "        # set initial state\n",
    "        s0 = self.state.vector()\n",
    "        \n",
    "        # when im no longer at the rail\n",
    "        def no_rail(t, y):\n",
    "            pos = la.norm(y[1:4]) - self.launch_rail_length;\n",
    "            return pos\n",
    "        no_rail.terminal = False\n",
    "        no_rail.direction = 1;\n",
    "        \n",
    "        def apogee(t, y):\n",
    "            return y[6]\n",
    "        apogee.terminal = False\n",
    "        apogee.direction = -1;\n",
    "        \n",
    "        def landing(t, y):\n",
    "            return y[3]\n",
    "        landing.terminal = True\n",
    "        landing.direction = -1;\n",
    "        \n",
    "        self.sim_result = spint.solve_ivp(self.dynamics, t_span, s0, dense_output=True, events=(no_rail, apogee,landing));\n",
    "        \n",
    "        self.output = self.sim_result.sol;\n",
    "        \n",
    "        return self.sim_result\n",
    "        \n",
    "        \n",
    "    \n",
    "        "
   ]
  },
  {
   "cell_type": "code",
   "execution_count": 14,
   "metadata": {},
   "outputs": [],
   "source": [
    "r = SimpleRocket()"
   ]
  },
  {
   "cell_type": "code",
   "execution_count": null,
   "metadata": {},
   "outputs": [],
   "source": []
  },
  {
   "cell_type": "code",
   "execution_count": 15,
   "metadata": {},
   "outputs": [],
   "source": [
    "s0 = State()\n",
    "s0.mass = 40;\n"
   ]
  },
  {
   "cell_type": "code",
   "execution_count": 16,
   "metadata": {},
   "outputs": [],
   "source": [
    "sim = Simulation(r, s0)"
   ]
  },
  {
   "cell_type": "code",
   "execution_count": 17,
   "metadata": {},
   "outputs": [
    {
     "data": {
      "text/plain": [
       "array([-0.  , -0.  , -9.81])"
      ]
     },
     "execution_count": 17,
     "metadata": {},
     "output_type": "execute_result"
    }
   ],
   "source": [
    "sim.g"
   ]
  },
  {
   "cell_type": "code",
   "execution_count": null,
   "metadata": {},
   "outputs": [],
   "source": []
  },
  {
   "cell_type": "code",
   "execution_count": 18,
   "metadata": {},
   "outputs": [
    {
     "data": {
      "text/plain": [
       "(array([  0.        ,   0.        , 999.86470289]), array([0, 0, 0]), -0.5)"
      ]
     },
     "execution_count": 18,
     "metadata": {},
     "output_type": "execute_result"
    }
   ],
   "source": [
    "r.dynamics(0, sim.state)"
   ]
  },
  {
   "cell_type": "code",
   "execution_count": null,
   "metadata": {},
   "outputs": [],
   "source": []
  },
  {
   "cell_type": "code",
   "execution_count": 20,
   "metadata": {},
   "outputs": [],
   "source": [
    "sol = sim.solve()"
   ]
  },
  {
   "cell_type": "code",
   "execution_count": 21,
   "metadata": {},
   "outputs": [],
   "source": [
    "sol;"
   ]
  },
  {
   "cell_type": "code",
   "execution_count": null,
   "metadata": {},
   "outputs": [],
   "source": []
  },
  {
   "cell_type": "code",
   "execution_count": 30,
   "metadata": {},
   "outputs": [
    {
     "data": {
      "text/plain": [
       "Text(0.5, 1.0, 'Ang Mom')"
      ]
     },
     "execution_count": 30,
     "metadata": {},
     "output_type": "execute_result"
    },
    {
     "data": {
      "image/png": "[encoded data removed]",
      "text/plain": [
       "<Figure size 720x1080 with 5 Axes>"
      ]
     },
     "metadata": {
      "needs_background": "light"
     },
     "output_type": "display_data"
    }
   ],
   "source": [
    "t_eval = np.linspace(sol.t[0], sol.t[-1], 500)\n",
    "\n",
    "\n",
    "plt.figure(figsize=(10,15))\n",
    "plt.subplot(511)\n",
    "plt.plot(t_eval,sol.sol(t_eval)[0])\n",
    "\n",
    "for t in sol.t_events:\n",
    "    plt.axvline(t, color='gray',linestyle='--')\n",
    "    \n",
    "plt.title('Mass')\n",
    "\n",
    "\n",
    "\n",
    "plt.subplot(512)\n",
    "plt.plot(t_eval,sol.sol(t_eval)[1], label='1, x')\n",
    "plt.plot(t_eval,sol.sol(t_eval)[2], label='2, y')\n",
    "plt.plot(t_eval,sol.sol(t_eval)[3], label='3, z')\n",
    "for t in sol.t_events:\n",
    "    plt.axvline(t, color='gray',linestyle='--')\n",
    "plt.legend()\n",
    "plt.title('Pos')\n",
    "\n",
    "\n",
    "\n",
    "plt.subplot(513)\n",
    "plt.plot(t_eval,sol.sol(t_eval)[4], label='4, Px')\n",
    "plt.plot(t_eval,sol.sol(t_eval)[5], label='5, Py')\n",
    "plt.plot(t_eval,sol.sol(t_eval)[6], label='6, Pz')\n",
    "for t in sol.t_events:\n",
    "    plt.axvline(t, color='gray',linestyle='--')\n",
    "    \n",
    "plt.legend()\n",
    "plt.title('Vel')\n",
    "\n",
    "\n",
    "\n",
    "plt.subplot(514)\n",
    "plt.plot(t_eval,sol.sol(t_eval)[7], label='7, s')\n",
    "plt.plot(t_eval,sol.sol(t_eval)[8], label='8, vx')\n",
    "plt.plot(t_eval,sol.sol(t_eval)[9], label='9, vy')\n",
    "plt.plot(t_eval,sol.sol(t_eval)[10], label='10, vz')\n",
    "for t in sol.t_events:\n",
    "    plt.axvline(t, color='gray',linestyle='--')\n",
    "    \n",
    "plt.legend()\n",
    "plt.title('Quat')\n",
    "\n",
    "\n",
    "\n",
    "plt.subplot(515)\n",
    "plt.plot(t_eval,sol.sol(t_eval)[11], label='11, Lx')\n",
    "plt.plot(t_eval,sol.sol(t_eval)[12], label='12, Ly')\n",
    "plt.plot(t_eval,sol.sol(t_eval)[13], label='13, Lz')\n",
    "for t in sol.t_events:\n",
    "    plt.axvline(t, color='gray',linestyle='--')\n",
    "    \n",
    "plt.legend()\n",
    "plt.title('Ang Mom')"
   ]
  },
  {
   "cell_type": "code",
   "execution_count": 31,
   "metadata": {},
   "outputs": [
    {
     "name": "stderr",
     "output_type": "stream",
     "text": [
      "/Users/Devansh/.virtualenvs/rocketPy/lib/python3.6/site-packages/ipykernel_launcher.py:7: MatplotlibDeprecationWarning: Adding an axes using the same arguments as a previous axes currently reuses the earlier instance.  In a future version, a new instance will always be created and returned.  Meanwhile, this warning can be suppressed, and the future behavior ensured, by passing a unique label to each axes instance.\n",
      "  import sys\n"
     ]
    },
    {
     "data": {
      "image/png": "[encoded data removed]",
      "text/plain": [
       "<Figure size 432x288 with 1 Axes>"
      ]
     },
     "metadata": {
      "needs_background": "light"
     },
     "output_type": "display_data"
    }
   ],
   "source": [
    "plt.plot(sol.sol(t_eval)[1], sol.sol(t_eval)[3])\n",
    "plt.plot(sol.y[1], sol.y[3],'x')\n",
    "\n",
    "plt.xlabel('x')\n",
    "plt.ylabel('z')\n",
    "\n",
    "plt.axes().set_aspect('equal', 'datalim')"
   ]
  },
  {
   "cell_type": "code",
   "execution_count": null,
   "metadata": {},
   "outputs": [],
   "source": [
    "plt.plot(sol.sol(t_eval)[1], sol.sol(t_eval)[3])\n",
    "plt.plot(sol.y[1], sol.y[3],'x')\n",
    "\n",
    "\n",
    "plt.xlabel('x')\n",
    "plt.ylabel('z')\n",
    "\n",
    "\n",
    "xrail = [0, sim.launch_rail_length*np.sin(sim.launch_angle)]\n",
    "zrail = [0, sim.launch_rail_length*np.cos(sim.launch_angle)]\n",
    "\n",
    "xrail2 = [0, 10*sim.launch_rail_length*np.sin(sim.launch_angle)]\n",
    "zrail2 = [0, 10*sim.launch_rail_length*np.cos(sim.launch_angle)]\n",
    "\n",
    "\n",
    "plt.plot(xrail, zrail)\n",
    "\n",
    "plt.ylim(-3,20)\n",
    "plt.xlim(-3,2)\n"
   ]
  },
  {
   "cell_type": "code",
   "execution_count": null,
   "metadata": {},
   "outputs": [],
   "source": [
    "t_eval;"
   ]
  },
  {
   "cell_type": "code",
   "execution_count": null,
   "metadata": {},
   "outputs": [],
   "source": [
    "angle = 180*np.arctan2(sol.sol(t_eval)[4], sol.sol(t_eval)[6])/np.pi\n",
    "angle_m = 180*np.arctan2(sol.y[4], sol.y[6])/np.pi\n",
    "\n",
    "plt.plot(t_eval,angle, '-',label='angle')\n",
    "plt.plot(sol.t,angle_m,'x', label='angle')\n",
    "for t in sol.t_events:\n",
    "    plt.axvline(t,linestyle='--',color='gray')\n",
    "    \n",
    "plt.legend()\n",
    "plt.title('angle')\n",
    "#plt.xlim(0,3)\n",
    "#plt.ylim(0,12)"
   ]
  },
  {
   "cell_type": "code",
   "execution_count": null,
   "metadata": {},
   "outputs": [],
   "source": [
    "sol.sol(t_eval)"
   ]
  },
  {
   "cell_type": "code",
   "execution_count": null,
   "metadata": {},
   "outputs": [],
   "source": []
  },
  {
   "cell_type": "code",
   "execution_count": null,
   "metadata": {},
   "outputs": [],
   "source": []
  },
  {
   "cell_type": "code",
   "execution_count": null,
   "metadata": {},
   "outputs": [],
   "source": []
  }
 ],
 "metadata": {
  "kernelspec": {
   "display_name": "rocketPy",
   "language": "python",
   "name": "rocketpy"
  },
  "language_info": {
   "codemirror_mode": {
    "name": "ipython",
    "version": 3
   },
   "file_extension": ".py",
   "mimetype": "text/x-python",
   "name": "python",
   "nbconvert_exporter": "python",
   "pygments_lexer": "ipython3",
   "version": "3.6.7"
  }
 },
 "nbformat": 4,
 "nbformat_minor": 2
}
