{
 "cells": [
  {
   "cell_type": "code",
   "execution_count": 1,
   "metadata": {},
   "outputs": [],
   "source": [
    "import numpy as np\n",
    "import numpy.linalg as la\n",
    "import scipy as sp\n",
    "import scipy.integrate as spint\n",
    "import matplotlib.pyplot as plt\n",
    "\n",
    "from fluids.atmosphere import ATMOSPHERE_1976 as atm\n",
    "\n",
    "import rocketPy as rp\n",
    "from rocketPy import ureg, si, unit_vector, angle_between\n",
    "\n",
    "\n"
   ]
  },
  {
   "cell_type": "code",
   "execution_count": null,
   "metadata": {},
   "outputs": [],
   "source": []
  },
  {
   "cell_type": "code",
   "execution_count": 2,
   "metadata": {
    "scrolled": false
   },
   "outputs": [
    {
     "name": "stdout",
     "output_type": "stream",
     "text": [
      "Rocket: Simple Rocket\n",
      "\n",
      "Rocket Details\n",
      "+--------------------------+---------------+-------------------+\n",
      "|        Parameter         |     Value     |       Notes       |\n",
      "+--------------------------+---------------+-------------------+\n",
      "|        Total Mass        |   2.5308 kg   |                   |\n",
      "|       Total Length       |   70.0000 in  |                   |\n",
      "|           X_CG           |   1.240669 m  |                   |\n",
      "|           X_CP           |    1.3603 m   | At default values |\n",
      "| Static Margin (calibers) |     0.7848    | At default values |\n",
      "|            CD            |     0.3391    | At default values |\n",
      "|           CNa            | 19.1828 / rad | At default values |\n",
      "+--------------------------+---------------+-------------------+\n",
      "\n",
      "Component Details\n",
      "+-----------+------------+------------+---------+-----------------+--------------+\n",
      "| Component |    Type    |  Material  |   Mass  | Mass Fraction % |     CNa      |\n",
      "+-----------+------------+------------+---------+-----------------+--------------+\n",
      "| Nose Cone |  NoseCone  |    PLA     | 0.23 kg |       9.08      | 2.097 / rad  |\n",
      "| Body Tube |  BodyTube  |  Phenolic  | 1.11 kg |      43.82      | 0.000 / rad  |\n",
      "| Boat Tail | Transition |  Phenolic  | 0.08 kg |       3.04      | -1.165 / rad |\n",
      "|    Fins   |   FinSet   | Al-6061-T6 | 1.11 kg |      44.05      | 18.251 / rad |\n",
      "+-----------+------------+------------+---------+-----------------+--------------+\n",
      "\n",
      "Describing all components in full:\n",
      "\n",
      "Nose Cone (type: NoseCone)\n",
      "+----------------+-------------------+--------------------+\n",
      "|   Parameter    |     Value (SI)    |       Value        |\n",
      "+----------------+-------------------+--------------------+\n",
      "|     shape      |      Conical      |                    |\n",
      "|     x_ref      |      0.000 m      |      0.000 m       |\n",
      "|    diameter    |      0.152 m      |      6.000 in      |\n",
      "|     length     |      0.457 m      |     18.000 in      |\n",
      "| wall_thickness |      0.002 m      |      2.000 mm      |\n",
      "|    material    |  PLA: (Material)) |                    |\n",
      "|      name      |     Nose Cone     |                    |\n",
      "|      mass      |      0.230 kg     |      0.230 kg      |\n",
      "|      I_xx      | 0.001 kg * m ** 2 | 1.034 in ** 2 * kg |\n",
      "|      I_yy      | 0.003 kg * m ** 2 | 4.137 in ** 2 * kg |\n",
      "|      I_zz      | 0.003 kg * m ** 2 | 4.137 in ** 2 * kg |\n",
      "|     y_ref      |      0.000 m      |      0.000 m       |\n",
      "|     z_ref      |      0.000 m      |      0.000 m       |\n",
      "|     A_ref      |    0.018 m ** 2   |   28.274 in ** 2   |\n",
      "+----------------+-------------------+--------------------+\n",
      "Body Tube (type: BodyTube)\n",
      "+----------------+-----------------------+----------------------+\n",
      "|   Parameter    |       Value (SI)      |        Value         |\n",
      "+----------------+-----------------------+----------------------+\n",
      "|     A_ref      |      0.018 m ** 2     |    28.274 in ** 2    |\n",
      "|     d_ref      |        0.152 m        |       6.000 in       |\n",
      "|    diameter    |        0.152 m        |       6.000 in       |\n",
      "|     length     |        1.219 m        |      48.000 in       |\n",
      "| wall_thickness |        0.002 m        |       2.000 mm       |\n",
      "|    material    | Phenolic: (Material)) |                      |\n",
      "|      name      |       Body Tube       |                      |\n",
      "|      mass      |        1.109 kg       |       1.109 kg       |\n",
      "|      I_xx      |   0.006 kg * m ** 2   |  9.982 in ** 2 * kg  |\n",
      "|      I_yy      |   0.137 kg * m ** 2   | 212.944 in ** 2 * kg |\n",
      "|      I_zz      |   0.137 kg * m ** 2   | 212.944 in ** 2 * kg |\n",
      "|     x_ref      |        0.457 m        |       0.457 m        |\n",
      "|     y_ref      |        0.000 m        |       0.000 m        |\n",
      "|     z_ref      |        0.000 m        |       0.000 m        |\n",
      "+----------------+-----------------------+----------------------+\n",
      "Boat Tail (type: Transition)\n",
      "+----------------+-----------------------+--------------------+\n",
      "|   Parameter    |       Value (SI)      |       Value        |\n",
      "+----------------+-----------------------+--------------------+\n",
      "|     A_ref      |      0.018 m ** 2     |   28.274 in ** 2   |\n",
      "|    fore_dia    |        0.152 m        |      6.000 in      |\n",
      "|    aft_dia     |        0.102 m        |      4.000 in      |\n",
      "|     d_ref      |        0.152 m        |      6.000 in      |\n",
      "|     length     |        0.102 m        |      4.000 in      |\n",
      "| wall_thickness |        0.002 m        |      2.000 mm      |\n",
      "|    material    | Phenolic: (Material)) |                    |\n",
      "|      name      |       Boat Tail       |                    |\n",
      "|      mass      |        0.077 kg       |      0.077 kg      |\n",
      "|      I_xx      |   0.000 kg * m ** 2   | 0.501 in ** 2 * kg |\n",
      "|      I_yy      |   0.000 kg * m ** 2   | 0.101 in ** 2 * kg |\n",
      "|      I_zz      |   0.000 kg * m ** 2   | 0.101 in ** 2 * kg |\n",
      "|     x_ref      |        1.676 m        |      1.676 m       |\n",
      "|     y_ref      |        0.000 m        |      0.000 m       |\n",
      "|     z_ref      |        0.000 m        |      0.000 m       |\n",
      "+----------------+-----------------------+--------------------+\n",
      "Fins (type: FinSet)\n",
      "+----------------+-------------------------+---------------------+\n",
      "|   Parameter    |        Value (SI)       |        Value        |\n",
      "+----------------+-------------------------+---------------------+\n",
      "|     A_ref      |       0.018 m ** 2      |    28.274 in ** 2   |\n",
      "|     d_ref      |         0.152 m         |       6.000 in      |\n",
      "|       n        |            4            |                     |\n",
      "|      span      |         0.203 m         |       8.000 in      |\n",
      "|   root_chord   |         0.305 m         |      12.000 in      |\n",
      "|   tip_chord    |         0.203 m         |       8.000 in      |\n",
      "|   mid_sweep    |        0.175 rad        |      10.000 deg     |\n",
      "| mid_chord_span |         0.206 m         |       8.123 in      |\n",
      "|    tube_dia    |         0.152 m         |       6.000 in      |\n",
      "|     length     |         0.000 m         |       0.000 m       |\n",
      "|   thickness    |         0.002 m         |       2.000 mm      |\n",
      "|  exposed_area  |       0.052 m ** 2      |    80.000 in ** 2   |\n",
      "| planform_area  |       0.075 m ** 2      |   116.000 in ** 2   |\n",
      "|    material    | Al-6061-T6: (Material)) |                     |\n",
      "|      name      |           Fins          |                     |\n",
      "|      mass      |         1.115 kg        |       1.115 kg      |\n",
      "|      I_xx      |    0.035 kg * m ** 2    | 53.636 in ** 2 * kg |\n",
      "|      I_yy      |    0.005 kg * m ** 2    |  8.376 in ** 2 * kg |\n",
      "|      I_zz      |    0.005 kg * m ** 2    |  8.376 in ** 2 * kg |\n",
      "|     x_ref      |         1.372 m         |       1.372 m       |\n",
      "|     y_ref      |         0.000 m         |       0.000 m       |\n",
      "|     z_ref      |         0.000 m         |       0.000 m       |\n",
      "+----------------+-------------------------+---------------------+\n"
     ]
    },
    {
     "data": {
      "image/png": "[encoded data removed]",
      "text/plain": [
       "<Figure size 432x288 with 1 Axes>"
      ]
     },
     "metadata": {
      "needs_background": "light"
     },
     "output_type": "display_data"
    }
   ],
   "source": [
    "# generate rocket\n",
    "\n",
    "## First, create a rocket.\n",
    "r = rp.Rocket(name='Simple Rocket')\n",
    "\n",
    "## create a nose cone\n",
    "nc = rp.NoseCone(name='Nose Cone', diameter=6*ureg.inch, fineness=3, material=rp.materials.PLA())\n",
    "# assign to rocket\n",
    "r.set_nose_cone(nc)\n",
    "\n",
    "## create a BodyTube\n",
    "bt = rp.BodyTube(name = 'Body Tube', diameter=6*ureg.inch, length=48*ureg.inch, wall_thickness=2*ureg.mm, material=rp.materials.Phenolic())\n",
    "# define its location\n",
    "bt.set_position(after=nc)\n",
    "# assign to rocket\n",
    "r.set_body_tube(bt)\n",
    "\n",
    "# create a boat tail\n",
    "boat_tail = rp.Transition(name='Boat Tail', fore_dia=6*ureg.inch, aft_dia=4*ureg.inch, length=4*ureg.inch, material=rp.materials.Phenolic())\n",
    "# define its location\n",
    "boat_tail.set_position(after=bt)\n",
    "# assign to rocket\n",
    "r.set_boat_tail(boat_tail)\n",
    "\n",
    "## create the fins\n",
    "fins = rp.FinSet(name='Fins', n=4, span=8*ureg.inch, root_chord=12*ureg.inch, tip_chord=8*ureg.inch, mid_sweep=10*ureg.degree, tube_dia=6*ureg.inch,  thickness=2*ureg.mm, material=rp.materials.Aluminium())\n",
    "# define its location\n",
    "fins.set_position(end_of=bt, offset=-fins.root_chord)\n",
    "#  assign to rocket\n",
    "r.set_fins(fins)\n",
    "\n",
    "# plot the entire rocket\n",
    "fig = plt.figure()\n",
    "ax = plt.gca()\n",
    "r.plot(ax, unit=ureg.inch)\n",
    "plt.draw()\n",
    "\n",
    "# describe the rocket\n",
    "r.describe(describe_components=True)\n",
    "\n",
    "plt.show()\n",
    "\n"
   ]
  },
  {
   "cell_type": "code",
   "execution_count": 3,
   "metadata": {},
   "outputs": [
    {
     "data": {
      "text/html": [
       "\\[1.3602772252343966\\ meter\\]"
      ],
      "text/latex": [
       "$1.3602772252343966\\ \\mathrm{meter}$"
      ],
      "text/plain": [
       "1.3602772252343966 <Unit('meter')>"
      ]
     },
     "execution_count": 3,
     "metadata": {},
     "output_type": "execute_result"
    }
   ],
   "source": [
    "r.xcp()"
   ]
  },
  {
   "cell_type": "code",
   "execution_count": 4,
   "metadata": {},
   "outputs": [
    {
     "data": {
      "text/html": [
       "\\[1.240668712985451\\ meter\\]"
      ],
      "text/latex": [
       "$1.240668712985451\\ \\mathrm{meter}$"
      ],
      "text/plain": [
       "1.240668712985451 <Unit('meter')>"
      ]
     },
     "execution_count": 4,
     "metadata": {},
     "output_type": "execute_result"
    }
   ],
   "source": [
    "r.xcg()"
   ]
  },
  {
   "cell_type": "code",
   "execution_count": 5,
   "metadata": {},
   "outputs": [
    {
     "data": {
      "text/html": [
       "\\[0.7848327575390134\\ dimensionless\\]"
      ],
      "text/latex": [
       "$0.7848327575390134\\ dimensionless$"
      ],
      "text/plain": [
       "0.7848327575390134 <Unit('dimensionless')>"
      ]
     },
     "execution_count": 5,
     "metadata": {},
     "output_type": "execute_result"
    }
   ],
   "source": [
    "((r.xcp()-r.xcg())/r.diameter).to_base_units()"
   ]
  },
  {
   "cell_type": "code",
   "execution_count": 6,
   "metadata": {},
   "outputs": [
    {
     "data": {
      "text/html": [
       "\\[0.7848327575390134\\ dimensionless\\]"
      ],
      "text/latex": [
       "$0.7848327575390134\\ dimensionless$"
      ],
      "text/plain": [
       "0.7848327575390134 <Unit('dimensionless')>"
      ]
     },
     "execution_count": 6,
     "metadata": {},
     "output_type": "execute_result"
    }
   ],
   "source": [
    "r.static_margin()"
   ]
  },
  {
   "cell_type": "code",
   "execution_count": 7,
   "metadata": {},
   "outputs": [
    {
     "data": {
      "text/html": [
       "\\[0.0030266791135803548\\ dimensionless\\]"
      ],
      "text/latex": [
       "$0.0030266791135803548\\ dimensionless$"
      ],
      "text/plain": [
       "0.0030266791135803548 <Unit('dimensionless')>"
      ]
     },
     "execution_count": 7,
     "metadata": {},
     "output_type": "execute_result"
    }
   ],
   "source": [
    "r.CD_body_alpha(alpha=(3*np.pi/180)*ureg.rad)"
   ]
  },
  {
   "cell_type": "code",
   "execution_count": 8,
   "metadata": {},
   "outputs": [
    {
     "data": {
      "text/html": [
       "\\[0.003026679113580355\\ dimensionless\\]"
      ],
      "text/latex": [
       "$0.003026679113580355\\ dimensionless$"
      ],
      "text/plain": [
       "0.003026679113580355 <Unit('dimensionless')>"
      ]
     },
     "execution_count": 8,
     "metadata": {},
     "output_type": "execute_result"
    }
   ],
   "source": [
    "r.CD_body_alpha(alpha=3*ureg.degree)"
   ]
  },
  {
   "cell_type": "code",
   "execution_count": 9,
   "metadata": {},
   "outputs": [],
   "source": [
    "class Environment():\n",
    "    \n",
    "    def __init__(self):\n",
    "        \n",
    "        # define constants\n",
    "        self.gamma = 1.4\n",
    "        self.R = 287*ureg.J/ureg.kg/ureg.degK\n",
    "        self.ref_temp = 291.15*ureg.degK\n",
    "        self.ref_visc = 1.827e-7*ureg.Pa/ureg.s\n",
    "        self.g_0_si = 9.80665\n",
    "        self.g_0 = self.g_0_si*ureg.m/ureg.s**2\n",
    "        self.rho_0 = 1.225*ureg.kg/ureg.m**3\n",
    "         \n",
    "            \n",
    "           \n",
    "    def _rho(self, z):\n",
    "        \n",
    "        return atm(z).rho\n",
    "    \n",
    "    def _mu(self, z):\n",
    "        \n",
    "        return atm(z).mu\n",
    "    \n",
    "    def _temp(self, z):\n",
    "        \n",
    "        return atm(z).T\n",
    "    \n",
    "    def _speed_of_sound(self, z):\n",
    "        \n",
    "        return atm(z).v_sonic\n",
    "    \n",
    "    \n",
    "    @ureg.wraps(ureg.kg/ureg.m**3, (None, ureg.m), strict=False)\n",
    "    def get_rho(self, z):\n",
    "        \n",
    "        return self._rho(z)\n",
    "    \n",
    "    @ureg.wraps(ureg.Pa*ureg.s, (None, ureg.m), strict=False)\n",
    "    def get_mu(self, z):\n",
    "        return self._mu(z)\n",
    "        \n",
    "    @ureg.wraps(ureg.degK, (None, ureg.m), strict=False)\n",
    "    def get_temp(self, z):\n",
    "        \n",
    "        return self._temp(z)\n",
    "    \n",
    "    @ureg.wraps(ureg.m/ureg.s, (None, ureg.m), strict=False)\n",
    "    def get_speed_of_sound(self, z):\n",
    "        \n",
    "        return self._speed_of_sound(z)\n",
    "        \n",
    "\n",
    "    \n",
    "    \n",
    "    def frozen_wind(t, state):\n",
    "        \n",
    "        # function to describe the wind vector (in earth frame) as a function of time or state\n",
    "        return np.array([1,0,0])\n",
    "    \n",
    "    "
   ]
  },
  {
   "cell_type": "code",
   "execution_count": null,
   "metadata": {},
   "outputs": [],
   "source": []
  },
  {
   "cell_type": "code",
   "execution_count": 10,
   "metadata": {},
   "outputs": [],
   "source": [
    "class State():\n",
    "    \n",
    "    def __init__(self, pos, quaternion, lin_mom, ang_mom, mass):\n",
    "        \n",
    "        self.pos = pos\n",
    "        self.quat = quaternion\n",
    "        self.lin_mom = lin_mom\n",
    "        self.ang_mom = ang_mom\n",
    "        self.mass = mass\n",
    "        \n",
    "    def vector(self):\n",
    "        \n",
    "        state = [si(self.pos), si(self.quat), si(self.lin_mom), si(self.ang_mom), si(self.mass)] \n",
    "\n",
    "        return np.hstack(state)\n",
    "    \n",
    "    @classmethod\n",
    "    def extract(cls, state):\n",
    "        \n",
    "        pos = state[0:3] * ureg.m\n",
    "        quat = rp.Quaternion(*state[3:7])\n",
    "        lin_mom = state[7:10] * ureg.kg*ureg.m/ureg.s\n",
    "        ang_mom = state[10:13] * ureg.kg*ureg.m**2/ureg.s\n",
    "        mass = state[13] * ureg.kg\n",
    "        \n",
    "        return cls(pos, quat, lin_mom, ang_mom, mass)\n",
    "    \n",
    "    @classmethod\n",
    "    def split(cls, state_vector):\n",
    "        \n",
    "        pos = state_vector[0:3]\n",
    "        quat = rp.Quaternion(*state_vector[3:7])\n",
    "        lin_mom = state_vector[7:10]\n",
    "        ang_mom = state_vector[10:13]\n",
    "        mass = state_vector[13]\n",
    "        \n",
    "        return (pos, quat, lin_mom, ang_mom, mass)\n",
    "    \n",
    "\n",
    "    \n",
    "    def __repr__(self):\n",
    "    \n",
    "        s  = 'State: \\n'\n",
    "        s += 'Pos:     ' + str(self.pos)  + '\\n'\n",
    "        s += 'Quat:    ' + str(self.quat) + '\\n'\n",
    "        s += 'Lin mom: ' + str(self.lin_mom) + '\\n'\n",
    "        s += 'Ang mom: ' + str(self.ang_mom) + '\\n'\n",
    "        s += 'Mass:    ' + str(self.mass)\n",
    "        \n",
    "        return s\n",
    "    \n",
    "        \n",
    "        "
   ]
  },
  {
   "cell_type": "code",
   "execution_count": null,
   "metadata": {},
   "outputs": [],
   "source": []
  },
  {
   "cell_type": "code",
   "execution_count": null,
   "metadata": {},
   "outputs": [],
   "source": []
  },
  {
   "cell_type": "code",
   "execution_count": 11,
   "metadata": {},
   "outputs": [],
   "source": [
    "class ConstantWind():\n",
    "\n",
    "    def __init__(self, wind_speed = 5 * ureg.m/ureg.s):\n",
    "        \n",
    "        self.wind_speed_0 = wind_speed\n",
    "        self.si_wind_speed = si(wind_speed)\n",
    "        \n",
    "    def vector(self, t=None, pos=None):\n",
    "        \n",
    "        return np.array([0, self.si_wind_speed, 0])\n",
    "    \n",
    "  "
   ]
  },
  {
   "cell_type": "code",
   "execution_count": null,
   "metadata": {},
   "outputs": [],
   "source": []
  },
  {
   "cell_type": "code",
   "execution_count": 12,
   "metadata": {},
   "outputs": [],
   "source": [
    "class Simulation():\n",
    "    \n",
    "    def __init__(self, rocket, environment):\n",
    "        \n",
    "        self.rocket = rocket\n",
    "        self.env = environment\n",
    "        \n",
    "        self.ref_axis_R = np.array([1,0,0]) # roll axis\n",
    "        self.ref_axis_P = np.array([0,1,0]) # pitch axis\n",
    "        self.ref_axis_Y = np.array([0,0,1]) # yaw axis\n",
    "        \n",
    "        self.L_rocket = si(self.rocket.length())\n",
    "        self.A_ref = si(self.rocket.A_ref)\n",
    "            \n",
    "            \n",
    "        return\n",
    "\n",
    "        \n",
    "    \n",
    "    def dynamics(self, time, state, control, wind):\n",
    "        \n",
    "        # everything here is assumed to be in si units\n",
    "        \n",
    "        L_rocket = self.L_rocket\n",
    "        A_ref = self.A_ref\n",
    "        \n",
    "        # extract state\n",
    "        if type(state) is State:\n",
    "            pos = si(state.pos)\n",
    "            quat = state.quat\n",
    "            lin_mom = si(state.lin_mom)\n",
    "            ang_mom = si(state.ang_mom)\n",
    "            mass = si(state.mass)\n",
    "        \n",
    "        pos, quat, lin_mom, ang_mom, mass = State.split(state)\n",
    "        \n",
    "        # extract extra stuff\n",
    "        R = quat.rot_matrix()\n",
    "        RA = unit_vector(R @ self.ref_axis_R) # roll axis\n",
    "        \n",
    "        inertia_matrix, inv_inertia_matrix = self.rocket.inertia_matrix(mass, with_inverse=True) # get the inertia matrix for a given total rocket mass\n",
    "        \n",
    "        # linear velocity\n",
    "        lin_vel = lin_mom / mass\n",
    "        \n",
    "        # angular velocity\n",
    "        \n",
    "        ang_vel = R @ inv_inertia_matrix @ R.T @ ang_mom\n",
    "        \n",
    "        # rate of change of quaterinon \n",
    "        qdot = self.get_qdot(quat, lin_vel, ang_vel)\n",
    "        \n",
    "        # get wind speed\n",
    "        w = wind.vector(time, pos)\n",
    "        \n",
    "        # calculate angle of attack\n",
    "        V_cm = lin_vel + w\n",
    "        \n",
    "        \n",
    "        # calculate all these parameters, automatically performing convergence as necessary\n",
    "        alpha, re, mach, xbar, V_omega, V_infty = self.calc_parameters_converged(V_cm, R, RA, pos, mass, ang_vel)\n",
    "        \n",
    "        #TODO (medium): calc fin roll torque\n",
    "        \n",
    "        z = pos[2]\n",
    "        qinf, Re, Ma = self.calc_q_Re_Ma(V_infty, z)\n",
    "        \n",
    "        # compute forces\n",
    "        F_thrust_mag, m_dot = control(time, state)\n",
    "        F_thrust = -F_thrust_mag * RA\n",
    "        \n",
    "        F_gravity = np.array([0, 0, -mass*self.env.g_0_si])\n",
    "        \n",
    "        CA = si(self.rocket.CA(alpha=alpha, Re=Re, Mach=Ma))\n",
    "        CN = si(self.rocket.CN(alpha=alpha, Re=Re, Mach=Ma))\n",
    "        \n",
    "        F_axial  = - (qinf * CA * A_ref)\n",
    "        F_axial_vec = F_axial * RA\n",
    "        F_normal = (qinf * CN * A_ref)\n",
    "        F_normal_vec = F_normal * np.cross(RA, np.cross(RA, V_infty))\n",
    "        \n",
    "        F_total = F_thrust + F_gravity + F_axial_vec + F_normal_vec\n",
    "        \n",
    "        # get torques\n",
    "        \n",
    "        normal_moment_arm = si(self.rocket.xcp(alpha=alpha*ureg.rad, Re=Re, Mach=Ma) - self.rocket.xcg(mass=mass))\n",
    "        \n",
    "        torque_normal = - F_normal * normal_moment_arm * np.cross(RA, V_infty)\n",
    "        \n",
    "        # todo (medium): account for thrust damping, roll torque from fins\n",
    "        \n",
    "        torque_total = torque_normal\n",
    "        \n",
    "        \n",
    "        return np.hstack([lin_vel, qdot, F_total, torque_total, m_dot])\n",
    "\n",
    "\n",
    "    def concise_dynamics(self, time, state):\n",
    "        \n",
    "        #determine controls\n",
    "        \n",
    "        # convert vector into state object\n",
    "        sv = State.extract(state)\n",
    "        \n",
    "        wind = self.env.wind\n",
    "        \n",
    "        dyn = self.dynamics(time=time, state=sv, control=self.control_law, wind=wind)\n",
    "        \n",
    "        return dyn\n",
    "\n",
    "        \n",
    "        \n",
    "    \n",
    "    def calc_parameters_converged(self, V_cm, R, RA, pos, mass, ang_vel):\n",
    "        \n",
    "        if la.norm(ang_vel) < 0.1:\n",
    "            \n",
    "            return self.calc_parameters(V_cm, V_cm, R, RA, pos, mass, ang_vel)\n",
    "\n",
    "        else:\n",
    "            #calculate using V_cm\n",
    "            alpha_old, re, mach, xbar, V_omega, V_infty = self.calc_parameters(V_cm, V_cm, R, RA, pos, mass, ang_vel)\n",
    "\n",
    "            # calculate new alpha\n",
    "            alpha, re, mach, xbar, V_omega, V_infty = self.calc_parameters(V_infty, V_cm, R, RA, pos, mass, ang_vel)\n",
    "\n",
    "\n",
    "            # if the difference is large, re-estimate\n",
    "            while abs(alpha_old - alpha) > 1e-6:\n",
    "\n",
    "                alpha_old = alpha\n",
    "                alpha, re, mach, xbar, V_omega, V_infty = self.calc_parameters(V_infty, V_cm, R, RA, pos, mass, ang_vel)\n",
    "\n",
    "        return alpha, re, mach, xbar, V_omega, V_infty \n",
    "\n",
    "    \n",
    "    def calc_parameters(self, V_infty, V_cm, R, RA, pos, mass, ang_vel):\n",
    "        # note, V_infty here is a guess, but the corrected value comes out of the function\n",
    "            \n",
    "        alpha = self.calc_alpha(V_infty, RA) #using V_cm as an approximation for V_infty\n",
    "        \n",
    "        z = pos[2]\n",
    "        q, re, mach = self.calc_q_Re_Ma(la.norm(V_infty), z)\n",
    "\n",
    "        xbar = abs((self.rocket.xcp(alpha, re, mach) - self.rocket.xcg(mass*ureg.kg)).m_as(ureg.m))\n",
    "        \n",
    "        V_omega = xbar * np.cross(RA, ang_vel)# linear speed at the center of pressure due to the rotation rate of the rocket\n",
    "\n",
    "        V_infty = V_cm + V_omega\n",
    "\n",
    "        return alpha, re, mach, xbar, V_omega, V_infty\n",
    "\n",
    "    def calc_q_Re_Ma(self, Vinf, z):\n",
    "        \"\"\"Calculate reynolds number for a given vinf and altitude z\"\"\"\n",
    "        \n",
    "        rho = self.env._rho(z)\n",
    "        mu  = self.env._mu(z)\n",
    "        a = self.env._speed_of_sound(z)\n",
    "        \n",
    "        L_rocket = self.L_rocket\n",
    "        \n",
    "        V = (la.norm(Vinf))\n",
    "        qinf = 0.5 * rho * V**2\n",
    "        Re = rho*V*L_rocket/mu\n",
    "        Ma = V/a\n",
    "        \n",
    "        return qinf, Re, Ma\n",
    "    \n",
    "    def calc_alpha(self, Vinf, RA):\n",
    "        \"\"\"Calc alpha for a given wind speed Vinf and roll axis RA\"\"\"\n",
    "        \n",
    "        return angle_between(Vinf, RA)\n",
    "\n",
    "        \n",
    "    def get_qdot(self, quat, lin_vel, ang_vel):\n",
    "        \"\"\"Compute the rate of change of the quaternion\"\"\"\n",
    "        s = float(quat.q[0])\n",
    "        sdot = 0.5 * ang_vel.T @ lin_vel\n",
    "        vdot = 0.5 * s * ang_vel + np.cross(ang_vel, ang_vel)\n",
    "        \n",
    "        qdot =  np.hstack([sdot, vdot])\n",
    "        return qdot"
   ]
  },
  {
   "cell_type": "code",
   "execution_count": 13,
   "metadata": {},
   "outputs": [],
   "source": [
    "env=Environment()\n",
    "\n",
    "# define wind model\n",
    "wind_constant = ConstantWind(0*ureg.m/ureg.s)      \n",
    "env.wind = wind_constant"
   ]
  },
  {
   "cell_type": "code",
   "execution_count": 14,
   "metadata": {},
   "outputs": [
    {
     "name": "stderr",
     "output_type": "stream",
     "text": [
      "/Users/Devansh/.virtualenvs/rocketPy/lib/python3.6/site-packages/pint/quantity.py:221: BehaviorChangeWarning: The way Pint handles NumPy operations has changed with the\n",
      "implementation of NEP 18. Unimplemented NumPy operations will now fail instead of making\n",
      "assumptions about units. Some functions, eg concat, will now return Quanties with units, where\n",
      "they returned ndarrays previously. See https://github.com/hgrecco/pint/pull/905.\n",
      "\n",
      "To hide this warning, wrap your first creation of an array Quantity with\n",
      "warnings.catch_warnings(), like the following:\n",
      "\n",
      "import numpy as np\n",
      "import warnings\n",
      "from pint import Quantity\n",
      "\n",
      "with warnings.catch_warnings():\n",
      "    warnings.simplefilter(\"ignore\")\n",
      "    Quantity([])\n",
      "\n",
      "To disable the new behavior, see\n",
      "https://www.numpy.org/neps/nep-0018-array-function-protocol.html#implementation\n",
      "\n",
      "  warnings.warn(array_function_change_msg, BehaviorChangeWarning)\n"
     ]
    }
   ],
   "source": [
    "pos0 = np.array([0,0,0])*ureg.m\n",
    "quat0 = rp.Quaternion.from_angle(86*ureg.degree, [0, 1, 0])\n",
    "lin_mom0 = np.array([0,0,0.1])*ureg.kg*ureg.m/ureg.s\n",
    "ang_mom0 = np.array([0,0,0])*ureg.kg*ureg.m**2/ureg.s\n",
    "mass0 = 40*ureg.kg\n",
    "\n",
    "state0 = State(pos0, quat0, lin_mom0, ang_mom0, mass0)"
   ]
  },
  {
   "cell_type": "code",
   "execution_count": 15,
   "metadata": {
    "scrolled": true
   },
   "outputs": [
    {
     "data": {
      "text/plain": [
       "State: \n",
       "Pos:     [0 0 0] meter\n",
       "Quat:    [0.7313537  0.         0.68199836 0.        ]\n",
       "Lin mom: [0.0 0.0 0.1] kilogram * meter / second\n",
       "Ang mom: [0.0 0.0 0.0] kilogram * meter ** 2 / second\n",
       "Mass:    40 kilogram"
      ]
     },
     "execution_count": 15,
     "metadata": {},
     "output_type": "execute_result"
    }
   ],
   "source": [
    "state0"
   ]
  },
  {
   "cell_type": "code",
   "execution_count": 16,
   "metadata": {},
   "outputs": [
    {
     "data": {
      "text/plain": [
       "[array([0, 0, 0]), array([0.7313537 , 0.        , 0.68199836, 0.        ])]"
      ]
     },
     "execution_count": 16,
     "metadata": {},
     "output_type": "execute_result"
    }
   ],
   "source": [
    "[si(pos0), si(quat0)]"
   ]
  },
  {
   "cell_type": "code",
   "execution_count": 17,
   "metadata": {
    "scrolled": true
   },
   "outputs": [
    {
     "data": {
      "text/plain": [
       "array([ 0.        ,  0.        ,  0.        ,  0.7313537 ,  0.        ,\n",
       "        0.68199836,  0.        ,  0.        ,  0.        ,  0.1       ,\n",
       "        0.        ,  0.        ,  0.        , 40.        ])"
      ]
     },
     "execution_count": 17,
     "metadata": {},
     "output_type": "execute_result"
    }
   ],
   "source": [
    "sv_0=state0.vector()\n",
    "sv_0"
   ]
  },
  {
   "cell_type": "code",
   "execution_count": 18,
   "metadata": {},
   "outputs": [],
   "source": [
    "def thrust_curve_simple_burn(time, state):\n",
    "    if time < 3:\n",
    "        T = 1500\n",
    "        c = 2000\n",
    "        mdot = -T/c\n",
    "        return T, mdot \n",
    "    else:\n",
    "        return 0., 0"
   ]
  },
  {
   "cell_type": "code",
   "execution_count": 19,
   "metadata": {},
   "outputs": [],
   "source": [
    "sim = Simulation(r, env)"
   ]
  },
  {
   "cell_type": "code",
   "execution_count": 20,
   "metadata": {},
   "outputs": [],
   "source": [
    "sim.control_law = thrust_curve_simple_burn"
   ]
  },
  {
   "cell_type": "code",
   "execution_count": 21,
   "metadata": {
    "scrolled": true
   },
   "outputs": [
    {
     "data": {
      "text/plain": [
       "State: \n",
       "Pos:     [0 0 0] meter\n",
       "Quat:    [0.7313537  0.         0.68199836 0.        ]\n",
       "Lin mom: [0.0 0.0 0.1] kilogram * meter / second\n",
       "Ang mom: [0.0 0.0 0.0] kilogram * meter ** 2 / second\n",
       "Mass:    40 kilogram"
      ]
     },
     "execution_count": 21,
     "metadata": {},
     "output_type": "execute_result"
    }
   ],
   "source": [
    "state0"
   ]
  },
  {
   "cell_type": "code",
   "execution_count": 22,
   "metadata": {},
   "outputs": [
    {
     "data": {
      "text/plain": [
       "array([[ 0.06975647,  0.        ,  0.99756405],\n",
       "       [ 0.        ,  1.        ,  0.        ],\n",
       "       [-0.99756405,  0.        ,  0.06975647]])"
      ]
     },
     "execution_count": 22,
     "metadata": {},
     "output_type": "execute_result"
    }
   ],
   "source": [
    "state0.quat.rot_matrix()"
   ]
  },
  {
   "cell_type": "code",
   "execution_count": null,
   "metadata": {},
   "outputs": [],
   "source": []
  },
  {
   "cell_type": "code",
   "execution_count": 23,
   "metadata": {
    "scrolled": true
   },
   "outputs": [
    {
     "data": {
      "text/plain": [
       "array([ 0.00000000e+00,  0.00000000e+00,  2.50000000e-03,  0.00000000e+00,\n",
       "        0.00000000e+00,  0.00000000e+00,  0.00000000e+00, -1.04634701e+02,\n",
       "        0.00000000e+00,  1.10407994e+03,  0.00000000e+00, -1.41978071e-10,\n",
       "        0.00000000e+00, -7.50000000e-01])"
      ]
     },
     "execution_count": 23,
     "metadata": {},
     "output_type": "execute_result"
    }
   ],
   "source": [
    "dyn=sim.dynamics(time=0,state=state0.vector(), control=thrust_curve_simple_burn, wind=wind_constant)\n",
    "dyn"
   ]
  },
  {
   "cell_type": "code",
   "execution_count": 24,
   "metadata": {},
   "outputs": [
    {
     "data": {
      "text/plain": [
       "State: \n",
       "Pos:     [0.0 0.0 0.0025] meter\n",
       "Quat:    [0. 0. 0. 0.]\n",
       "Lin mom: [-104.63470121718748 0.0 1104.079940949495] kilogram * meter / second\n",
       "Ang mom: [0.0 -1.419780713717375e-10 0.0] kilogram * meter ** 2 / second\n",
       "Mass:    -0.75 kilogram"
      ]
     },
     "execution_count": 24,
     "metadata": {},
     "output_type": "execute_result"
    }
   ],
   "source": [
    "State.extract(dyn)"
   ]
  },
  {
   "cell_type": "code",
   "execution_count": 25,
   "metadata": {},
   "outputs": [
    {
     "data": {
      "text/html": [
       "\\[0.0\\ meter/second\\]"
      ],
      "text/latex": [
       "$0.0\\ \\frac{\\mathrm{meter}}{\\mathrm{second}}$"
      ],
      "text/plain": [
       "0.0 <Unit('meter / second')>"
      ]
     },
     "execution_count": 25,
     "metadata": {},
     "output_type": "execute_result"
    }
   ],
   "source": [
    "wind_constant.wind_speed_0"
   ]
  },
  {
   "cell_type": "code",
   "execution_count": 26,
   "metadata": {
    "scrolled": true
   },
   "outputs": [
    {
     "data": {
      "text/plain": [
       "array([ 0.00000000e+00,  0.00000000e+00,  2.50000000e-03,  0.00000000e+00,\n",
       "        0.00000000e+00,  0.00000000e+00,  0.00000000e+00, -1.04634701e+02,\n",
       "        0.00000000e+00,  1.10407994e+03,  0.00000000e+00, -1.41978071e-10,\n",
       "        0.00000000e+00, -7.50000000e-01])"
      ]
     },
     "execution_count": 26,
     "metadata": {},
     "output_type": "execute_result"
    }
   ],
   "source": [
    "sim.dynamics(0, state0.vector(), thrust_curve_simple_burn, wind_constant)"
   ]
  },
  {
   "cell_type": "code",
   "execution_count": 27,
   "metadata": {},
   "outputs": [
    {
     "data": {
      "text/plain": [
       "14"
      ]
     },
     "execution_count": 27,
     "metadata": {},
     "output_type": "execute_result"
    }
   ],
   "source": [
    "len(sv_0)"
   ]
  },
  {
   "cell_type": "code",
   "execution_count": 28,
   "metadata": {},
   "outputs": [
    {
     "data": {
      "text/plain": [
       "array([ 0.00000000e+00,  0.00000000e+00,  2.50000000e-03,  0.00000000e+00,\n",
       "        0.00000000e+00,  0.00000000e+00,  0.00000000e+00, -1.04634701e+02,\n",
       "        0.00000000e+00,  1.10407994e+03,  0.00000000e+00, -1.41978071e-10,\n",
       "        0.00000000e+00, -7.50000000e-01])"
      ]
     },
     "execution_count": 28,
     "metadata": {},
     "output_type": "execute_result"
    }
   ],
   "source": [
    "sim.dynamics(0, sv_0, thrust_curve_simple_burn, wind_constant)"
   ]
  },
  {
   "cell_type": "code",
   "execution_count": 29,
   "metadata": {},
   "outputs": [
    {
     "data": {
      "text/plain": [
       "14"
      ]
     },
     "execution_count": 29,
     "metadata": {},
     "output_type": "execute_result"
    }
   ],
   "source": [
    "len(sim.dynamics(0, sv_0, thrust_curve_simple_burn, wind_constant))"
   ]
  },
  {
   "cell_type": "code",
   "execution_count": 30,
   "metadata": {},
   "outputs": [
    {
     "data": {
      "text/plain": [
       "array([ 0.        ,  0.        ,  0.        ,  0.7313537 ,  0.        ,\n",
       "        0.68199836,  0.        ,  0.        ,  0.        ,  0.1       ,\n",
       "        0.        ,  0.        ,  0.        , 40.        ])"
      ]
     },
     "execution_count": 30,
     "metadata": {},
     "output_type": "execute_result"
    }
   ],
   "source": [
    "state0.vector()"
   ]
  },
  {
   "cell_type": "code",
   "execution_count": 31,
   "metadata": {},
   "outputs": [
    {
     "data": {
      "text/plain": [
       "<__main__.ConstantWind at 0x1107b5be0>"
      ]
     },
     "execution_count": 31,
     "metadata": {},
     "output_type": "execute_result"
    }
   ],
   "source": [
    "wind_constant"
   ]
  },
  {
   "cell_type": "code",
   "execution_count": 85,
   "metadata": {},
   "outputs": [
    {
     "ename": "KeyboardInterrupt",
     "evalue": "",
     "output_type": "error",
     "traceback": [
      "\u001b[0;31m---------------------------------------------------------------------------\u001b[0m",
      "\u001b[0;31mKeyboardInterrupt\u001b[0m                         Traceback (most recent call last)",
      "\u001b[0;32m<ipython-input-85-c6fa0b16421b>\u001b[0m in \u001b[0;36m<module>\u001b[0;34m\u001b[0m\n\u001b[0;32m----> 1\u001b[0;31m \u001b[0msol\u001b[0m \u001b[0;34m=\u001b[0m \u001b[0mspint\u001b[0m\u001b[0;34m.\u001b[0m\u001b[0msolve_ivp\u001b[0m\u001b[0;34m(\u001b[0m\u001b[0msim\u001b[0m\u001b[0;34m.\u001b[0m\u001b[0mdynamics\u001b[0m\u001b[0;34m,\u001b[0m \u001b[0;34m[\u001b[0m\u001b[0;36m0\u001b[0m\u001b[0;34m,\u001b[0m\u001b[0;36m2.5\u001b[0m\u001b[0;34m]\u001b[0m\u001b[0;34m,\u001b[0m \u001b[0mstate0\u001b[0m\u001b[0;34m.\u001b[0m\u001b[0mvector\u001b[0m\u001b[0;34m(\u001b[0m\u001b[0;34m)\u001b[0m\u001b[0;34m,\u001b[0m \u001b[0margs\u001b[0m \u001b[0;34m=\u001b[0m \u001b[0;34m(\u001b[0m\u001b[0mthrust_curve_simple_burn\u001b[0m\u001b[0;34m,\u001b[0m \u001b[0mwind_constant\u001b[0m\u001b[0;34m)\u001b[0m\u001b[0;34m,\u001b[0m \u001b[0mmethod\u001b[0m\u001b[0;34m=\u001b[0m\u001b[0;34m'Radau'\u001b[0m\u001b[0;34m)\u001b[0m\u001b[0;34m\u001b[0m\u001b[0;34m\u001b[0m\u001b[0m\n\u001b[0m",
      "\u001b[0;32m~/.virtualenvs/rocketPy/lib/python3.6/site-packages/scipy/integrate/_ivp/ivp.py\u001b[0m in \u001b[0;36msolve_ivp\u001b[0;34m(fun, t_span, y0, method, t_eval, dense_output, events, vectorized, args, **options)\u001b[0m\n\u001b[1;32m    575\u001b[0m     \u001b[0mstatus\u001b[0m \u001b[0;34m=\u001b[0m \u001b[0;32mNone\u001b[0m\u001b[0;34m\u001b[0m\u001b[0;34m\u001b[0m\u001b[0m\n\u001b[1;32m    576\u001b[0m     \u001b[0;32mwhile\u001b[0m \u001b[0mstatus\u001b[0m \u001b[0;32mis\u001b[0m \u001b[0;32mNone\u001b[0m\u001b[0;34m:\u001b[0m\u001b[0;34m\u001b[0m\u001b[0;34m\u001b[0m\u001b[0m\n\u001b[0;32m--> 577\u001b[0;31m         \u001b[0mmessage\u001b[0m \u001b[0;34m=\u001b[0m \u001b[0msolver\u001b[0m\u001b[0;34m.\u001b[0m\u001b[0mstep\u001b[0m\u001b[0;34m(\u001b[0m\u001b[0;34m)\u001b[0m\u001b[0;34m\u001b[0m\u001b[0;34m\u001b[0m\u001b[0m\n\u001b[0m\u001b[1;32m    578\u001b[0m \u001b[0;34m\u001b[0m\u001b[0m\n\u001b[1;32m    579\u001b[0m         \u001b[0;32mif\u001b[0m \u001b[0msolver\u001b[0m\u001b[0;34m.\u001b[0m\u001b[0mstatus\u001b[0m \u001b[0;34m==\u001b[0m \u001b[0;34m'finished'\u001b[0m\u001b[0;34m:\u001b[0m\u001b[0;34m\u001b[0m\u001b[0;34m\u001b[0m\u001b[0m\n",
      "\u001b[0;32m~/.virtualenvs/rocketPy/lib/python3.6/site-packages/scipy/integrate/_ivp/base.py\u001b[0m in \u001b[0;36mstep\u001b[0;34m(self)\u001b[0m\n\u001b[1;32m    180\u001b[0m         \u001b[0;32melse\u001b[0m\u001b[0;34m:\u001b[0m\u001b[0;34m\u001b[0m\u001b[0;34m\u001b[0m\u001b[0m\n\u001b[1;32m    181\u001b[0m             \u001b[0mt\u001b[0m \u001b[0;34m=\u001b[0m \u001b[0mself\u001b[0m\u001b[0;34m.\u001b[0m\u001b[0mt\u001b[0m\u001b[0;34m\u001b[0m\u001b[0;34m\u001b[0m\u001b[0m\n\u001b[0;32m--> 182\u001b[0;31m             \u001b[0msuccess\u001b[0m\u001b[0;34m,\u001b[0m \u001b[0mmessage\u001b[0m \u001b[0;34m=\u001b[0m \u001b[0mself\u001b[0m\u001b[0;34m.\u001b[0m\u001b[0m_step_impl\u001b[0m\u001b[0;34m(\u001b[0m\u001b[0;34m)\u001b[0m\u001b[0;34m\u001b[0m\u001b[0;34m\u001b[0m\u001b[0m\n\u001b[0m\u001b[1;32m    183\u001b[0m \u001b[0;34m\u001b[0m\u001b[0m\n\u001b[1;32m    184\u001b[0m             \u001b[0;32mif\u001b[0m \u001b[0;32mnot\u001b[0m \u001b[0msuccess\u001b[0m\u001b[0;34m:\u001b[0m\u001b[0;34m\u001b[0m\u001b[0;34m\u001b[0m\u001b[0m\n",
      "\u001b[0;32m~/.virtualenvs/rocketPy/lib/python3.6/site-packages/scipy/integrate/_ivp/radau.py\u001b[0m in \u001b[0;36m_step_impl\u001b[0;34m(self)\u001b[0m\n\u001b[1;32m    448\u001b[0m                 converged, n_iter, Z, rate = solve_collocation_system(\n\u001b[1;32m    449\u001b[0m                     \u001b[0mself\u001b[0m\u001b[0;34m.\u001b[0m\u001b[0mfun\u001b[0m\u001b[0;34m,\u001b[0m \u001b[0mt\u001b[0m\u001b[0;34m,\u001b[0m \u001b[0my\u001b[0m\u001b[0;34m,\u001b[0m \u001b[0mh\u001b[0m\u001b[0;34m,\u001b[0m \u001b[0mZ0\u001b[0m\u001b[0;34m,\u001b[0m \u001b[0mscale\u001b[0m\u001b[0;34m,\u001b[0m \u001b[0mself\u001b[0m\u001b[0;34m.\u001b[0m\u001b[0mnewton_tol\u001b[0m\u001b[0;34m,\u001b[0m\u001b[0;34m\u001b[0m\u001b[0;34m\u001b[0m\u001b[0m\n\u001b[0;32m--> 450\u001b[0;31m                     LU_real, LU_complex, self.solve_lu)\n\u001b[0m\u001b[1;32m    451\u001b[0m \u001b[0;34m\u001b[0m\u001b[0m\n\u001b[1;32m    452\u001b[0m                 \u001b[0;32mif\u001b[0m \u001b[0;32mnot\u001b[0m \u001b[0mconverged\u001b[0m\u001b[0;34m:\u001b[0m\u001b[0;34m\u001b[0m\u001b[0;34m\u001b[0m\u001b[0m\n",
      "\u001b[0;32m~/.virtualenvs/rocketPy/lib/python3.6/site-packages/scipy/integrate/_ivp/radau.py\u001b[0m in \u001b[0;36msolve_collocation_system\u001b[0;34m(fun, t, y, h, Z0, scale, tol, LU_real, LU_complex, solve_lu)\u001b[0m\n\u001b[1;32m    102\u001b[0m     \u001b[0;32mfor\u001b[0m \u001b[0mk\u001b[0m \u001b[0;32min\u001b[0m \u001b[0mrange\u001b[0m\u001b[0;34m(\u001b[0m\u001b[0mNEWTON_MAXITER\u001b[0m\u001b[0;34m)\u001b[0m\u001b[0;34m:\u001b[0m\u001b[0;34m\u001b[0m\u001b[0;34m\u001b[0m\u001b[0m\n\u001b[1;32m    103\u001b[0m         \u001b[0;32mfor\u001b[0m \u001b[0mi\u001b[0m \u001b[0;32min\u001b[0m \u001b[0mrange\u001b[0m\u001b[0;34m(\u001b[0m\u001b[0;36m3\u001b[0m\u001b[0;34m)\u001b[0m\u001b[0;34m:\u001b[0m\u001b[0;34m\u001b[0m\u001b[0;34m\u001b[0m\u001b[0m\n\u001b[0;32m--> 104\u001b[0;31m             \u001b[0mF\u001b[0m\u001b[0;34m[\u001b[0m\u001b[0mi\u001b[0m\u001b[0;34m]\u001b[0m \u001b[0;34m=\u001b[0m \u001b[0mfun\u001b[0m\u001b[0;34m(\u001b[0m\u001b[0mt\u001b[0m \u001b[0;34m+\u001b[0m \u001b[0mch\u001b[0m\u001b[0;34m[\u001b[0m\u001b[0mi\u001b[0m\u001b[0;34m]\u001b[0m\u001b[0;34m,\u001b[0m \u001b[0my\u001b[0m \u001b[0;34m+\u001b[0m \u001b[0mZ\u001b[0m\u001b[0;34m[\u001b[0m\u001b[0mi\u001b[0m\u001b[0;34m]\u001b[0m\u001b[0;34m)\u001b[0m\u001b[0;34m\u001b[0m\u001b[0;34m\u001b[0m\u001b[0m\n\u001b[0m\u001b[1;32m    105\u001b[0m \u001b[0;34m\u001b[0m\u001b[0m\n\u001b[1;32m    106\u001b[0m         \u001b[0;32mif\u001b[0m \u001b[0;32mnot\u001b[0m \u001b[0mnp\u001b[0m\u001b[0;34m.\u001b[0m\u001b[0mall\u001b[0m\u001b[0;34m(\u001b[0m\u001b[0mnp\u001b[0m\u001b[0;34m.\u001b[0m\u001b[0misfinite\u001b[0m\u001b[0;34m(\u001b[0m\u001b[0mF\u001b[0m\u001b[0;34m)\u001b[0m\u001b[0;34m)\u001b[0m\u001b[0;34m:\u001b[0m\u001b[0;34m\u001b[0m\u001b[0;34m\u001b[0m\u001b[0m\n",
      "\u001b[0;32m~/.virtualenvs/rocketPy/lib/python3.6/site-packages/scipy/integrate/_ivp/base.py\u001b[0m in \u001b[0;36mfun\u001b[0;34m(t, y)\u001b[0m\n\u001b[1;32m    137\u001b[0m         \u001b[0;32mdef\u001b[0m \u001b[0mfun\u001b[0m\u001b[0;34m(\u001b[0m\u001b[0mt\u001b[0m\u001b[0;34m,\u001b[0m \u001b[0my\u001b[0m\u001b[0;34m)\u001b[0m\u001b[0;34m:\u001b[0m\u001b[0;34m\u001b[0m\u001b[0;34m\u001b[0m\u001b[0m\n\u001b[1;32m    138\u001b[0m             \u001b[0mself\u001b[0m\u001b[0;34m.\u001b[0m\u001b[0mnfev\u001b[0m \u001b[0;34m+=\u001b[0m \u001b[0;36m1\u001b[0m\u001b[0;34m\u001b[0m\u001b[0;34m\u001b[0m\u001b[0m\n\u001b[0;32m--> 139\u001b[0;31m             \u001b[0;32mreturn\u001b[0m \u001b[0mself\u001b[0m\u001b[0;34m.\u001b[0m\u001b[0mfun_single\u001b[0m\u001b[0;34m(\u001b[0m\u001b[0mt\u001b[0m\u001b[0;34m,\u001b[0m \u001b[0my\u001b[0m\u001b[0;34m)\u001b[0m\u001b[0;34m\u001b[0m\u001b[0;34m\u001b[0m\u001b[0m\n\u001b[0m\u001b[1;32m    140\u001b[0m \u001b[0;34m\u001b[0m\u001b[0m\n\u001b[1;32m    141\u001b[0m         \u001b[0mself\u001b[0m\u001b[0;34m.\u001b[0m\u001b[0mfun\u001b[0m \u001b[0;34m=\u001b[0m \u001b[0mfun\u001b[0m\u001b[0;34m\u001b[0m\u001b[0;34m\u001b[0m\u001b[0m\n",
      "\u001b[0;32m~/.virtualenvs/rocketPy/lib/python3.6/site-packages/scipy/integrate/_ivp/base.py\u001b[0m in \u001b[0;36mfun_wrapped\u001b[0;34m(t, y)\u001b[0m\n\u001b[1;32m     19\u001b[0m \u001b[0;34m\u001b[0m\u001b[0m\n\u001b[1;32m     20\u001b[0m     \u001b[0;32mdef\u001b[0m \u001b[0mfun_wrapped\u001b[0m\u001b[0;34m(\u001b[0m\u001b[0mt\u001b[0m\u001b[0;34m,\u001b[0m \u001b[0my\u001b[0m\u001b[0;34m)\u001b[0m\u001b[0;34m:\u001b[0m\u001b[0;34m\u001b[0m\u001b[0;34m\u001b[0m\u001b[0m\n\u001b[0;32m---> 21\u001b[0;31m         \u001b[0;32mreturn\u001b[0m \u001b[0mnp\u001b[0m\u001b[0;34m.\u001b[0m\u001b[0masarray\u001b[0m\u001b[0;34m(\u001b[0m\u001b[0mfun\u001b[0m\u001b[0;34m(\u001b[0m\u001b[0mt\u001b[0m\u001b[0;34m,\u001b[0m \u001b[0my\u001b[0m\u001b[0;34m)\u001b[0m\u001b[0;34m,\u001b[0m \u001b[0mdtype\u001b[0m\u001b[0;34m=\u001b[0m\u001b[0mdtype\u001b[0m\u001b[0;34m)\u001b[0m\u001b[0;34m\u001b[0m\u001b[0;34m\u001b[0m\u001b[0m\n\u001b[0m\u001b[1;32m     22\u001b[0m \u001b[0;34m\u001b[0m\u001b[0m\n\u001b[1;32m     23\u001b[0m     \u001b[0;32mreturn\u001b[0m \u001b[0mfun_wrapped\u001b[0m\u001b[0;34m,\u001b[0m \u001b[0my0\u001b[0m\u001b[0;34m\u001b[0m\u001b[0;34m\u001b[0m\u001b[0m\n",
      "\u001b[0;32m~/.virtualenvs/rocketPy/lib/python3.6/site-packages/scipy/integrate/_ivp/ivp.py\u001b[0m in \u001b[0;36m<lambda>\u001b[0;34m(t, x, fun)\u001b[0m\n\u001b[1;32m    513\u001b[0m         \u001b[0;31m# additional parameters.  Pass in the original fun as a keyword\u001b[0m\u001b[0;34m\u001b[0m\u001b[0;34m\u001b[0m\u001b[0;34m\u001b[0m\u001b[0m\n\u001b[1;32m    514\u001b[0m         \u001b[0;31m# argument to keep it in the scope of the lambda.\u001b[0m\u001b[0;34m\u001b[0m\u001b[0;34m\u001b[0m\u001b[0;34m\u001b[0m\u001b[0m\n\u001b[0;32m--> 515\u001b[0;31m         \u001b[0mfun\u001b[0m \u001b[0;34m=\u001b[0m \u001b[0;32mlambda\u001b[0m \u001b[0mt\u001b[0m\u001b[0;34m,\u001b[0m \u001b[0mx\u001b[0m\u001b[0;34m,\u001b[0m \u001b[0mfun\u001b[0m\u001b[0;34m=\u001b[0m\u001b[0mfun\u001b[0m\u001b[0;34m:\u001b[0m \u001b[0mfun\u001b[0m\u001b[0;34m(\u001b[0m\u001b[0mt\u001b[0m\u001b[0;34m,\u001b[0m \u001b[0mx\u001b[0m\u001b[0;34m,\u001b[0m \u001b[0;34m*\u001b[0m\u001b[0margs\u001b[0m\u001b[0;34m)\u001b[0m\u001b[0;34m\u001b[0m\u001b[0;34m\u001b[0m\u001b[0m\n\u001b[0m\u001b[1;32m    516\u001b[0m         \u001b[0mjac\u001b[0m \u001b[0;34m=\u001b[0m \u001b[0moptions\u001b[0m\u001b[0;34m.\u001b[0m\u001b[0mget\u001b[0m\u001b[0;34m(\u001b[0m\u001b[0;34m'jac'\u001b[0m\u001b[0;34m)\u001b[0m\u001b[0;34m\u001b[0m\u001b[0;34m\u001b[0m\u001b[0m\n\u001b[1;32m    517\u001b[0m         \u001b[0;32mif\u001b[0m \u001b[0mcallable\u001b[0m\u001b[0;34m(\u001b[0m\u001b[0mjac\u001b[0m\u001b[0;34m)\u001b[0m\u001b[0;34m:\u001b[0m\u001b[0;34m\u001b[0m\u001b[0;34m\u001b[0m\u001b[0m\n",
      "\u001b[0;32m<ipython-input-12-cfda07c8ed81>\u001b[0m in \u001b[0;36mdynamics\u001b[0;34m(self, time, state, control, wind)\u001b[0m\n\u001b[1;32m     39\u001b[0m         \u001b[0mRA\u001b[0m \u001b[0;34m=\u001b[0m \u001b[0munit_vector\u001b[0m\u001b[0;34m(\u001b[0m\u001b[0mR\u001b[0m \u001b[0;34m@\u001b[0m \u001b[0mself\u001b[0m\u001b[0;34m.\u001b[0m\u001b[0mref_axis_R\u001b[0m\u001b[0;34m)\u001b[0m \u001b[0;31m# roll axis\u001b[0m\u001b[0;34m\u001b[0m\u001b[0;34m\u001b[0m\u001b[0m\n\u001b[1;32m     40\u001b[0m \u001b[0;34m\u001b[0m\u001b[0m\n\u001b[0;32m---> 41\u001b[0;31m         \u001b[0minertia_matrix\u001b[0m\u001b[0;34m,\u001b[0m \u001b[0minv_inertia_matrix\u001b[0m \u001b[0;34m=\u001b[0m \u001b[0mself\u001b[0m\u001b[0;34m.\u001b[0m\u001b[0mrocket\u001b[0m\u001b[0;34m.\u001b[0m\u001b[0minertia_matrix\u001b[0m\u001b[0;34m(\u001b[0m\u001b[0mmass\u001b[0m\u001b[0;34m,\u001b[0m \u001b[0mwith_inverse\u001b[0m\u001b[0;34m=\u001b[0m\u001b[0;32mTrue\u001b[0m\u001b[0;34m)\u001b[0m \u001b[0;31m# get the inertia matrix for a given total rocket mass\u001b[0m\u001b[0;34m\u001b[0m\u001b[0;34m\u001b[0m\u001b[0m\n\u001b[0m\u001b[1;32m     42\u001b[0m \u001b[0;34m\u001b[0m\u001b[0m\n\u001b[1;32m     43\u001b[0m         \u001b[0;31m# linear velocity\u001b[0m\u001b[0;34m\u001b[0m\u001b[0;34m\u001b[0m\u001b[0;34m\u001b[0m\u001b[0m\n",
      "\u001b[0;32m~/.virtualenvs/rocketPy/lib/python3.6/site-packages/pint/registry_helpers.py\u001b[0m in \u001b[0;36mwrapper\u001b[0;34m(*values, **kw)\u001b[0m\n\u001b[1;32m    265\u001b[0m             \u001b[0mnew_values\u001b[0m\u001b[0;34m,\u001b[0m \u001b[0mvalues_by_name\u001b[0m \u001b[0;34m=\u001b[0m \u001b[0mconverter\u001b[0m\u001b[0;34m(\u001b[0m\u001b[0mureg\u001b[0m\u001b[0;34m,\u001b[0m \u001b[0mvalues\u001b[0m\u001b[0;34m,\u001b[0m \u001b[0mstrict\u001b[0m\u001b[0;34m)\u001b[0m\u001b[0;34m\u001b[0m\u001b[0;34m\u001b[0m\u001b[0m\n\u001b[1;32m    266\u001b[0m \u001b[0;34m\u001b[0m\u001b[0m\n\u001b[0;32m--> 267\u001b[0;31m             \u001b[0mresult\u001b[0m \u001b[0;34m=\u001b[0m \u001b[0mfunc\u001b[0m\u001b[0;34m(\u001b[0m\u001b[0;34m*\u001b[0m\u001b[0mnew_values\u001b[0m\u001b[0;34m,\u001b[0m \u001b[0;34m**\u001b[0m\u001b[0mkw\u001b[0m\u001b[0;34m)\u001b[0m\u001b[0;34m\u001b[0m\u001b[0;34m\u001b[0m\u001b[0m\n\u001b[0m\u001b[1;32m    268\u001b[0m \u001b[0;34m\u001b[0m\u001b[0m\n\u001b[1;32m    269\u001b[0m             \u001b[0;32mif\u001b[0m \u001b[0mis_ret_container\u001b[0m\u001b[0;34m:\u001b[0m\u001b[0;34m\u001b[0m\u001b[0;34m\u001b[0m\u001b[0m\n",
      "\u001b[0;32m~/Documents/GitHub/rocketPy/rocketPy/rocket.py\u001b[0m in \u001b[0;36minertia_matrix\u001b[0;34m(self, mass, with_inverse)\u001b[0m\n\u001b[1;32m    230\u001b[0m                 \u001b[0;32mreturn\u001b[0m \u001b[0mself\u001b[0m\u001b[0;34m.\u001b[0m\u001b[0minertia_matrix_0\u001b[0m\u001b[0;34m\u001b[0m\u001b[0;34m\u001b[0m\u001b[0m\n\u001b[1;32m    231\u001b[0m \u001b[0;34m\u001b[0m\u001b[0m\n\u001b[0;32m--> 232\u001b[0;31m         \u001b[0mI_xx\u001b[0m \u001b[0;34m=\u001b[0m \u001b[0msi\u001b[0m\u001b[0;34m(\u001b[0m\u001b[0mself\u001b[0m\u001b[0;34m.\u001b[0m\u001b[0minertia_xx\u001b[0m\u001b[0;34m(\u001b[0m\u001b[0;34m)\u001b[0m\u001b[0;34m)\u001b[0m\u001b[0;34m\u001b[0m\u001b[0;34m\u001b[0m\u001b[0m\n\u001b[0m\u001b[1;32m    233\u001b[0m         \u001b[0mI_yy\u001b[0m \u001b[0;34m=\u001b[0m \u001b[0msi\u001b[0m\u001b[0;34m(\u001b[0m\u001b[0mself\u001b[0m\u001b[0;34m.\u001b[0m\u001b[0minertia_yy\u001b[0m\u001b[0;34m(\u001b[0m\u001b[0;34m)\u001b[0m\u001b[0;34m)\u001b[0m\u001b[0;34m\u001b[0m\u001b[0;34m\u001b[0m\u001b[0m\n\u001b[1;32m    234\u001b[0m         \u001b[0mI_zz\u001b[0m \u001b[0;34m=\u001b[0m \u001b[0msi\u001b[0m\u001b[0;34m(\u001b[0m\u001b[0mself\u001b[0m\u001b[0;34m.\u001b[0m\u001b[0minertia_zz\u001b[0m\u001b[0;34m(\u001b[0m\u001b[0;34m)\u001b[0m\u001b[0;34m)\u001b[0m\u001b[0;34m\u001b[0m\u001b[0;34m\u001b[0m\u001b[0m\n",
      "\u001b[0;32m~/Documents/GitHub/rocketPy/rocketPy/rocket.py\u001b[0m in \u001b[0;36minertia_xx\u001b[0;34m(self)\u001b[0m\n\u001b[1;32m    249\u001b[0m \u001b[0;34m\u001b[0m\u001b[0m\n\u001b[1;32m    250\u001b[0m         return sum(comp.I_xx + comp.mass * (comp.x_ref + comp.xcg())\n\u001b[0;32m--> 251\u001b[0;31m                    ** 2 for comp in self.components)\n\u001b[0m\u001b[1;32m    252\u001b[0m \u001b[0;34m\u001b[0m\u001b[0m\n\u001b[1;32m    253\u001b[0m     \u001b[0;32mdef\u001b[0m \u001b[0minertia_yy\u001b[0m\u001b[0;34m(\u001b[0m\u001b[0mself\u001b[0m\u001b[0;34m)\u001b[0m\u001b[0;34m:\u001b[0m\u001b[0;34m\u001b[0m\u001b[0;34m\u001b[0m\u001b[0m\n",
      "\u001b[0;32m~/Documents/GitHub/rocketPy/rocketPy/rocket.py\u001b[0m in \u001b[0;36m<genexpr>\u001b[0;34m(.0)\u001b[0m\n\u001b[1;32m    249\u001b[0m \u001b[0;34m\u001b[0m\u001b[0m\n\u001b[1;32m    250\u001b[0m         return sum(comp.I_xx + comp.mass * (comp.x_ref + comp.xcg())\n\u001b[0;32m--> 251\u001b[0;31m                    ** 2 for comp in self.components)\n\u001b[0m\u001b[1;32m    252\u001b[0m \u001b[0;34m\u001b[0m\u001b[0m\n\u001b[1;32m    253\u001b[0m     \u001b[0;32mdef\u001b[0m \u001b[0minertia_yy\u001b[0m\u001b[0;34m(\u001b[0m\u001b[0mself\u001b[0m\u001b[0;34m)\u001b[0m\u001b[0;34m:\u001b[0m\u001b[0;34m\u001b[0m\u001b[0;34m\u001b[0m\u001b[0m\n",
      "\u001b[0;32m~/.virtualenvs/rocketPy/lib/python3.6/site-packages/pint/quantity.py\u001b[0m in \u001b[0;36m__add__\u001b[0;34m(self, other)\u001b[0m\n\u001b[1;32m    969\u001b[0m             \u001b[0;32mreturn\u001b[0m \u001b[0mself\u001b[0m\u001b[0;34m.\u001b[0m\u001b[0mto_timedelta\u001b[0m\u001b[0;34m(\u001b[0m\u001b[0;34m)\u001b[0m \u001b[0;34m+\u001b[0m \u001b[0mother\u001b[0m\u001b[0;34m\u001b[0m\u001b[0;34m\u001b[0m\u001b[0m\n\u001b[1;32m    970\u001b[0m         \u001b[0;32melse\u001b[0m\u001b[0;34m:\u001b[0m\u001b[0;34m\u001b[0m\u001b[0;34m\u001b[0m\u001b[0m\n\u001b[0;32m--> 971\u001b[0;31m             \u001b[0;32mreturn\u001b[0m \u001b[0mself\u001b[0m\u001b[0;34m.\u001b[0m\u001b[0m_add_sub\u001b[0m\u001b[0;34m(\u001b[0m\u001b[0mother\u001b[0m\u001b[0;34m,\u001b[0m \u001b[0moperator\u001b[0m\u001b[0;34m.\u001b[0m\u001b[0madd\u001b[0m\u001b[0;34m)\u001b[0m\u001b[0;34m\u001b[0m\u001b[0;34m\u001b[0m\u001b[0m\n\u001b[0m\u001b[1;32m    972\u001b[0m \u001b[0;34m\u001b[0m\u001b[0m\n\u001b[1;32m    973\u001b[0m     \u001b[0m__radd__\u001b[0m \u001b[0;34m=\u001b[0m \u001b[0m__add__\u001b[0m\u001b[0;34m\u001b[0m\u001b[0;34m\u001b[0m\u001b[0m\n",
      "\u001b[0;32m~/.virtualenvs/rocketPy/lib/python3.6/site-packages/pint/quantity.py\u001b[0m in \u001b[0;36mwrapped\u001b[0;34m(self, *args, **kwargs)\u001b[0m\n\u001b[1;32m    104\u001b[0m         \u001b[0;32melif\u001b[0m \u001b[0misinstance\u001b[0m\u001b[0;34m(\u001b[0m\u001b[0mother\u001b[0m\u001b[0;34m,\u001b[0m \u001b[0mlist\u001b[0m\u001b[0;34m)\u001b[0m \u001b[0;32mand\u001b[0m \u001b[0mother\u001b[0m \u001b[0;32mand\u001b[0m \u001b[0misinstance\u001b[0m\u001b[0;34m(\u001b[0m\u001b[0mother\u001b[0m\u001b[0;34m[\u001b[0m\u001b[0;36m0\u001b[0m\u001b[0;34m]\u001b[0m\u001b[0;34m,\u001b[0m \u001b[0mtype\u001b[0m\u001b[0;34m(\u001b[0m\u001b[0mself\u001b[0m\u001b[0;34m)\u001b[0m\u001b[0;34m)\u001b[0m\u001b[0;34m:\u001b[0m\u001b[0;34m\u001b[0m\u001b[0;34m\u001b[0m\u001b[0m\n\u001b[1;32m    105\u001b[0m             \u001b[0;32mreturn\u001b[0m \u001b[0mNotImplemented\u001b[0m\u001b[0;34m\u001b[0m\u001b[0;34m\u001b[0m\u001b[0m\n\u001b[0;32m--> 106\u001b[0;31m         \u001b[0mresult\u001b[0m \u001b[0;34m=\u001b[0m \u001b[0mf\u001b[0m\u001b[0;34m(\u001b[0m\u001b[0mself\u001b[0m\u001b[0;34m,\u001b[0m \u001b[0;34m*\u001b[0m\u001b[0margs\u001b[0m\u001b[0;34m,\u001b[0m \u001b[0;34m**\u001b[0m\u001b[0mkwargs\u001b[0m\u001b[0;34m)\u001b[0m\u001b[0;34m\u001b[0m\u001b[0;34m\u001b[0m\u001b[0m\n\u001b[0m\u001b[1;32m    107\u001b[0m         \u001b[0;32mreturn\u001b[0m \u001b[0mresult\u001b[0m\u001b[0;34m\u001b[0m\u001b[0;34m\u001b[0m\u001b[0m\n\u001b[1;32m    108\u001b[0m \u001b[0;34m\u001b[0m\u001b[0m\n",
      "\u001b[0;32m~/.virtualenvs/rocketPy/lib/python3.6/site-packages/pint/quantity.py\u001b[0m in \u001b[0;36m_add_sub\u001b[0;34m(self, other, op)\u001b[0m\n\u001b[1;32m    906\u001b[0m             \u001b[0;32melse\u001b[0m\u001b[0;34m:\u001b[0m\u001b[0;34m\u001b[0m\u001b[0;34m\u001b[0m\u001b[0m\n\u001b[1;32m    907\u001b[0m                 \u001b[0munits\u001b[0m \u001b[0;34m=\u001b[0m \u001b[0mself\u001b[0m\u001b[0;34m.\u001b[0m\u001b[0m_units\u001b[0m\u001b[0;34m\u001b[0m\u001b[0;34m\u001b[0m\u001b[0m\n\u001b[0;32m--> 908\u001b[0;31m                 \u001b[0mmagnitude\u001b[0m \u001b[0;34m=\u001b[0m \u001b[0mop\u001b[0m\u001b[0;34m(\u001b[0m\u001b[0mself\u001b[0m\u001b[0;34m.\u001b[0m\u001b[0m_magnitude\u001b[0m\u001b[0;34m,\u001b[0m \u001b[0mother\u001b[0m\u001b[0;34m.\u001b[0m\u001b[0mto\u001b[0m\u001b[0;34m(\u001b[0m\u001b[0mself\u001b[0m\u001b[0;34m.\u001b[0m\u001b[0m_units\u001b[0m\u001b[0;34m)\u001b[0m\u001b[0;34m.\u001b[0m\u001b[0mmagnitude\u001b[0m\u001b[0;34m)\u001b[0m\u001b[0;34m\u001b[0m\u001b[0;34m\u001b[0m\u001b[0m\n\u001b[0m\u001b[1;32m    909\u001b[0m \u001b[0;34m\u001b[0m\u001b[0m\n\u001b[1;32m    910\u001b[0m         elif (\n",
      "\u001b[0;31mKeyboardInterrupt\u001b[0m: "
     ]
    }
   ],
   "source": [
    "sol = spint.solve_ivp(sim.dynamics, [0,2.5], state0.vector(), args = (thrust_curve_simple_burn, wind_constant), method='Radau')"
   ]
  },
  {
   "cell_type": "code",
   "execution_count": null,
   "metadata": {},
   "outputs": [],
   "source": []
  },
  {
   "cell_type": "code",
   "execution_count": null,
   "metadata": {},
   "outputs": [],
   "source": [
    "sol"
   ]
  },
  {
   "cell_type": "code",
   "execution_count": null,
   "metadata": {},
   "outputs": [],
   "source": [
    "pos_sol = sol.y[0:3][:]"
   ]
  },
  {
   "cell_type": "code",
   "execution_count": null,
   "metadata": {},
   "outputs": [],
   "source": [
    "pos_sol"
   ]
  },
  {
   "cell_type": "code",
   "execution_count": null,
   "metadata": {},
   "outputs": [],
   "source": [
    "plt.plot(pos_sol[0][:], pos_sol[2][:])\n",
    "ax=plt.gca()\n",
    "ax.set_aspect(1)"
   ]
  },
  {
   "cell_type": "code",
   "execution_count": null,
   "metadata": {},
   "outputs": [],
   "source": [
    "plt.plot(pos_sol[0][:], pos_sol[2][:])\n",
    "ax=plt.gca()\n",
    "ax.set_aspect(1)"
   ]
  },
  {
   "cell_type": "code",
   "execution_count": null,
   "metadata": {},
   "outputs": [],
   "source": [
    "plt.plot(sol.t, pos_sol.T)"
   ]
  },
  {
   "cell_type": "code",
   "execution_count": null,
   "metadata": {},
   "outputs": [],
   "source": [
    "plt.plot(sol.t, sol.y[10][:])"
   ]
  },
  {
   "cell_type": "code",
   "execution_count": null,
   "metadata": {},
   "outputs": [],
   "source": [
    "\n",
    "(r.xcp(Mach=0) - r.xcg())"
   ]
  },
  {
   "cell_type": "code",
   "execution_count": null,
   "metadata": {},
   "outputs": [],
   "source": [
    "r.CA(alpha=0*ureg.rad, Re=1000000.0, Mach=0.3)"
   ]
  },
  {
   "cell_type": "code",
   "execution_count": null,
   "metadata": {},
   "outputs": [],
   "source": []
  },
  {
   "cell_type": "code",
   "execution_count": 54,
   "metadata": {},
   "outputs": [],
   "source": [
    "def exponential_decay(t, y): return -0.5 * y"
   ]
  },
  {
   "cell_type": "code",
   "execution_count": 56,
   "metadata": {},
   "outputs": [],
   "source": [
    "sol = spint.solve_ivp(exponential_decay, [0, 10], [2, 4, 8])"
   ]
  },
  {
   "cell_type": "code",
   "execution_count": 57,
   "metadata": {},
   "outputs": [
    {
     "data": {
      "text/plain": [
       "  message: 'The solver successfully reached the end of the integration interval.'\n",
       "     nfev: 44\n",
       "     njev: 0\n",
       "      nlu: 0\n",
       "      sol: None\n",
       "   status: 0\n",
       "  success: True\n",
       "        t: array([ 0.        ,  0.11487653,  1.26364188,  3.06061781,  4.81611105,\n",
       "        6.57445806,  8.33328988, 10.        ])\n",
       " t_events: None\n",
       "        y: array([[2.        , 1.88836035, 1.06327177, 0.43319312, 0.18017253,\n",
       "        0.07483045, 0.03107158, 0.01350781],\n",
       "       [4.        , 3.7767207 , 2.12654355, 0.86638624, 0.36034507,\n",
       "        0.14966091, 0.06214316, 0.02701561],\n",
       "       [8.        , 7.5534414 , 4.25308709, 1.73277247, 0.72069014,\n",
       "        0.29932181, 0.12428631, 0.05403123]])\n",
       " y_events: None"
      ]
     },
     "execution_count": 57,
     "metadata": {},
     "output_type": "execute_result"
    }
   ],
   "source": [
    "sol"
   ]
  },
  {
   "cell_type": "code",
   "execution_count": 59,
   "metadata": {},
   "outputs": [
    {
     "data": {
      "text/plain": [
       "array([2.        , 1.88836035, 1.06327177, 0.43319312, 0.18017253,\n",
       "       0.07483045, 0.03107158, 0.01350781])"
      ]
     },
     "execution_count": 59,
     "metadata": {},
     "output_type": "execute_result"
    }
   ],
   "source": [
    "sol.y[0]"
   ]
  },
  {
   "cell_type": "code",
   "execution_count": 71,
   "metadata": {},
   "outputs": [],
   "source": [
    "def upward_cannon(t, y): return [y[1], -0.5*y[0]]"
   ]
  },
  {
   "cell_type": "code",
   "execution_count": 72,
   "metadata": {},
   "outputs": [],
   "source": [
    "def hit_ground(t, y): return y[0]"
   ]
  },
  {
   "cell_type": "code",
   "execution_count": 73,
   "metadata": {},
   "outputs": [],
   "source": [
    "hit_ground.terminal = True"
   ]
  },
  {
   "cell_type": "code",
   "execution_count": 74,
   "metadata": {},
   "outputs": [
    {
     "data": {
      "text/plain": [
       "<function __main__.hit_ground(t, y)>"
      ]
     },
     "execution_count": 74,
     "metadata": {},
     "output_type": "execute_result"
    }
   ],
   "source": [
    "hit_ground"
   ]
  },
  {
   "cell_type": "code",
   "execution_count": 75,
   "metadata": {},
   "outputs": [],
   "source": [
    "hit_ground.direction = -1"
   ]
  },
  {
   "cell_type": "code",
   "execution_count": 79,
   "metadata": {},
   "outputs": [],
   "source": [
    "sol = spint.solve_ivp(upward_cannon, [0, 100], [0, 10], events=hit_ground,dense_output=True)"
   ]
  },
  {
   "cell_type": "code",
   "execution_count": 80,
   "metadata": {},
   "outputs": [
    {
     "data": {
      "text/plain": [
       "  message: 'A termination event occurred.'\n",
       "     nfev: 50\n",
       "     njev: 0\n",
       "      nlu: 0\n",
       "      sol: <scipy.integrate._ivp.common.OdeSolution object at 0x126ab1cf8>\n",
       "   status: 1\n",
       "  success: True\n",
       "        t: array([0.00000000e+00, 9.99900010e-05, 1.09989001e-03, 1.10988901e-02,\n",
       "       1.11088891e-01, 9.66880435e-01, 2.26470287e+00, 3.67221427e+00,\n",
       "       4.44205765e+00])\n",
       " t_events: [array([4.44205765])]\n",
       "        y: array([[ 0.00000000e+00,  9.99900009e-04,  1.09988990e-02,\n",
       "         1.10987762e-01,  1.10974683e+00,  8.93303481e+00,\n",
       "         1.41349831e+01,  7.32375567e+00,  7.10542736e-15],\n",
       "       [ 1.00000000e+01,  9.99999998e+00,  9.99999698e+00,\n",
       "         9.99969204e+00,  9.96916401e+00,  7.75234128e+00,\n",
       "        -3.08043508e-01, -8.55423172e+00, -1.00034492e+01]])\n",
       " y_events: [array([[ 7.10542736e-15, -1.00034492e+01]])]"
      ]
     },
     "execution_count": 80,
     "metadata": {},
     "output_type": "execute_result"
    }
   ],
   "source": [
    "sol"
   ]
  },
  {
   "cell_type": "code",
   "execution_count": 81,
   "metadata": {},
   "outputs": [
    {
     "data": {
      "text/plain": [
       "[<matplotlib.lines.Line2D at 0x126b1abe0>,\n",
       " <matplotlib.lines.Line2D at 0x126aecda0>]"
      ]
     },
     "execution_count": 81,
     "metadata": {},
     "output_type": "execute_result"
    },
    {
     "data": {
      "image/png": "[encoded data removed]",
      "text/plain": [
       "<Figure size 432x288 with 1 Axes>"
      ]
     },
     "metadata": {
      "needs_background": "light"
     },
     "output_type": "display_data"
    }
   ],
   "source": [
    "plt.plot(sol.t,sol.y.T)"
   ]
  },
  {
   "cell_type": "code",
   "execution_count": null,
   "metadata": {},
   "outputs": [],
   "source": []
  }
 ],
 "metadata": {
  "kernelspec": {
   "display_name": "rocketPy",
   "language": "python",
   "name": "rocketpy"
  },
  "language_info": {
   "codemirror_mode": {
    "name": "ipython",
    "version": 3
   },
   "file_extension": ".py",
   "mimetype": "text/x-python",
   "name": "python",
   "nbconvert_exporter": "python",
   "pygments_lexer": "ipython3",
   "version": "3.6.7"
  }
 },
 "nbformat": 4,
 "nbformat_minor": 2
}
