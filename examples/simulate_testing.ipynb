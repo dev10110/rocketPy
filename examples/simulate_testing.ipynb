{
 "cells": [
  {
   "cell_type": "code",
   "execution_count": 1,
   "metadata": {},
   "outputs": [],
   "source": [
    "import numpy as np\n",
    "import scipy as sp\n",
    "import matplotlib.pyplot as plt\n",
    "\n",
    "import rocketPy as rp\n",
    "from rocketPy import ureg\n"
   ]
  },
  {
   "cell_type": "code",
   "execution_count": null,
   "metadata": {},
   "outputs": [],
   "source": []
  },
  {
   "cell_type": "code",
   "execution_count": 2,
   "metadata": {
    "scrolled": false
   },
   "outputs": [
    {
     "name": "stdout",
     "output_type": "stream",
     "text": [
      "Rocket: Simple Rocket\n",
      "\n",
      "Rocket Details\n",
      "+--------------+--------------+-------------------+\n",
      "|  Parameter   |    Value     |       Notes       |\n",
      "+--------------+--------------+-------------------+\n",
      "|  Total Mass  |  1.9803 kg   |                   |\n",
      "| Total Length |  70.0000 in  |                   |\n",
      "|     X_CG     |  1.152304 m  |                   |\n",
      "|     X_CP     |   1.1799 m   | At default values |\n",
      "|      CD      |    ERROR     | At default values |\n",
      "|     CNa      | 9.0907 / rad | At default values |\n",
      "+--------------+--------------+-------------------+\n",
      "\n",
      "Component Details\n",
      "+-----------+------------+------------+---------+-----------------+--------------+\n",
      "| Component |    Type    |  Material  |   Mass  | Mass Fraction % |     CNa      |\n",
      "+-----------+------------+------------+---------+-----------------+--------------+\n",
      "| Nose Cone |  NoseCone  |    PLA     | 0.23 kg |      11.61      | 2.097 / rad  |\n",
      "| Body Tube |  BodyTube  |  Phenolic  | 1.11 kg |      56.00      | 0.000 / rad  |\n",
      "| Boat Tail | Transition |  Phenolic  | 0.08 kg |       3.89      | -1.165 / rad |\n",
      "|    Fins   |   FinSet   | Al-6061-T6 | 0.56 kg |      28.50      | 8.159 / rad  |\n",
      "+-----------+------------+------------+---------+-----------------+--------------+\n",
      "\n",
      "Describing all components in full:\n",
      "\n",
      "Nose Cone (type: NoseCone)\n",
      "+----------------+-------------------+--------------------+\n",
      "|   Parameter    |     Value (SI)    |       Value        |\n",
      "+----------------+-------------------+--------------------+\n",
      "|     shape      |      Conical      |                    |\n",
      "|     x_ref      |      0.000 m      |      0.000 m       |\n",
      "|    diameter    |      0.152 m      |      6.000 in      |\n",
      "|     length     |      0.457 m      |     18.000 in      |\n",
      "| wall_thickness |      0.002 m      |      2.000 mm      |\n",
      "|    material    |  PLA: (Material)) |                    |\n",
      "|      name      |     Nose Cone     |                    |\n",
      "|      mass      |      0.230 kg     |      0.230 kg      |\n",
      "|      I_xx      | 0.001 kg * m ** 2 | 1.034 in ** 2 * kg |\n",
      "|      I_yy      | 0.003 kg * m ** 2 | 4.137 in ** 2 * kg |\n",
      "|      I_zz      | 0.003 kg * m ** 2 | 4.137 in ** 2 * kg |\n",
      "|     y_ref      |      0.000 m      |      0.000 m       |\n",
      "|     z_ref      |      0.000 m      |      0.000 m       |\n",
      "|     A_ref      |    0.018 m ** 2   |   28.274 in ** 2   |\n",
      "+----------------+-------------------+--------------------+\n",
      "Body Tube (type: BodyTube)\n",
      "+----------------+-----------------------+----------------------+\n",
      "|   Parameter    |       Value (SI)      |        Value         |\n",
      "+----------------+-----------------------+----------------------+\n",
      "|     A_ref      |      0.018 m ** 2     |    28.274 in ** 2    |\n",
      "|     d_ref      |        0.152 m        |       6.000 in       |\n",
      "|    diameter    |        0.152 m        |       6.000 in       |\n",
      "|     length     |        1.219 m        |      48.000 in       |\n",
      "| wall_thickness |        0.002 m        |       2.000 mm       |\n",
      "|    material    | Phenolic: (Material)) |                      |\n",
      "|      name      |       Body Tube       |                      |\n",
      "|      mass      |        1.109 kg       |       1.109 kg       |\n",
      "|      I_xx      |   0.006 kg * m ** 2   |  9.982 in ** 2 * kg  |\n",
      "|      I_yy      |   0.137 kg * m ** 2   | 212.944 in ** 2 * kg |\n",
      "|      I_zz      |   0.137 kg * m ** 2   | 212.944 in ** 2 * kg |\n",
      "|     x_ref      |        0.457 m        |       0.457 m        |\n",
      "|     y_ref      |        0.000 m        |       0.000 m        |\n",
      "|     z_ref      |        0.000 m        |       0.000 m        |\n",
      "+----------------+-----------------------+----------------------+\n",
      "Boat Tail (type: Transition)\n",
      "+----------------+-----------------------+--------------------+\n",
      "|   Parameter    |       Value (SI)      |       Value        |\n",
      "+----------------+-----------------------+--------------------+\n",
      "|     A_ref      |      0.018 m ** 2     |   28.274 in ** 2   |\n",
      "|    fore_dia    |        0.152 m        |      6.000 in      |\n",
      "|    aft_dia     |        0.102 m        |      4.000 in      |\n",
      "|     d_ref      |        0.152 m        |      6.000 in      |\n",
      "|     length     |        0.102 m        |      4.000 in      |\n",
      "| wall_thickness |        0.002 m        |      2.000 mm      |\n",
      "|    material    | Phenolic: (Material)) |                    |\n",
      "|      name      |       Boat Tail       |                    |\n",
      "|      mass      |        0.077 kg       |      0.077 kg      |\n",
      "|      I_xx      |   0.000 kg * m ** 2   | 0.501 in ** 2 * kg |\n",
      "|      I_yy      |   0.000 kg * m ** 2   | 0.101 in ** 2 * kg |\n",
      "|      I_zz      |   0.000 kg * m ** 2   | 0.101 in ** 2 * kg |\n",
      "|     x_ref      |        1.676 m        |      1.676 m       |\n",
      "|     y_ref      |        0.000 m        |      0.000 m       |\n",
      "|     z_ref      |        0.000 m        |      0.000 m       |\n",
      "+----------------+-----------------------+--------------------+\n",
      "Fins (type: FinSet)\n",
      "+----------------+-------------------------+---------------------+\n",
      "|   Parameter    |        Value (SI)       |        Value        |\n",
      "+----------------+-------------------------+---------------------+\n",
      "|     A_ref      |       0.018 m ** 2      |    28.274 in ** 2   |\n",
      "|     d_ref      |         0.152 m         |       6.000 in      |\n",
      "|       n        |            3            |                     |\n",
      "|      span      |         0.152 m         |       6.000 in      |\n",
      "|   root_chord   |         0.305 m         |      12.000 in      |\n",
      "|   tip_chord    |         0.152 m         |       6.000 in      |\n",
      "|   mid_sweep    |        0.175 rad        |      10.000 deg     |\n",
      "| mid_chord_span |         0.155 m         |       6.093 in      |\n",
      "|    tube_dia    |         0.152 m         |       6.000 in      |\n",
      "|     length     |         0.000 m         |       0.000 m       |\n",
      "|   thickness    |         0.002 m         |       2.000 mm      |\n",
      "|  exposed_area  |       0.035 m ** 2      |    54.000 in ** 2   |\n",
      "| planform_area  |       0.058 m ** 2      |    90.000 in ** 2   |\n",
      "|    material    | Al-6061-T6: (Material)) |                     |\n",
      "|      name      |           Fins          |                     |\n",
      "|      mass      |         0.564 kg        |       0.564 kg      |\n",
      "|      I_xx      |    0.013 kg * m ** 2    | 19.754 in ** 2 * kg |\n",
      "|      I_yy      |    0.003 kg * m ** 2    |  4.284 in ** 2 * kg |\n",
      "|      I_zz      |    0.003 kg * m ** 2    |  4.284 in ** 2 * kg |\n",
      "|     x_ref      |         1.372 m         |       1.372 m       |\n",
      "|     y_ref      |         0.000 m         |       0.000 m       |\n",
      "|     z_ref      |         0.000 m         |       0.000 m       |\n",
      "+----------------+-------------------------+---------------------+\n"
     ]
    },
    {
     "data": {
      "image/png": "[encoded data removed]",
      "text/plain": [
       "<Figure size 432x288 with 1 Axes>"
      ]
     },
     "metadata": {
      "needs_background": "light"
     },
     "output_type": "display_data"
    }
   ],
   "source": [
    "# generate rocket\n",
    "\n",
    "## First, create a rocket.\n",
    "r = rp.Rocket(name='Simple Rocket')\n",
    "\n",
    "## create a nose cone\n",
    "nc = rp.NoseCone(name='Nose Cone', diameter=6*ureg.inch, fineness=3, material=rp.materials.PLA())\n",
    "# assign to rocket\n",
    "r.set_nose_cone(nc)\n",
    "\n",
    "## create a BodyTube\n",
    "bt = rp.BodyTube(name = 'Body Tube', diameter=6*ureg.inch, length=48*ureg.inch, wall_thickness=2*ureg.mm, material=rp.materials.Phenolic())\n",
    "# define its location\n",
    "bt.set_position(after=nc)\n",
    "# assign to rocket\n",
    "r.set_body_tube(bt)\n",
    "\n",
    "# create a boat tail\n",
    "boat_tail = rp.Transition(name='Boat Tail', fore_dia=6*ureg.inch, aft_dia=4*ureg.inch, length=4*ureg.inch, material=rp.materials.Phenolic())\n",
    "# define its location\n",
    "boat_tail.set_position(after=bt)\n",
    "# assign to rocket\n",
    "r.set_boat_tail(boat_tail)\n",
    "\n",
    "## create the fins\n",
    "fins = rp.FinSet(name='Fins', n=3, span=6*ureg.inch, root_chord=12*ureg.inch, tip_chord=6*ureg.inch, mid_sweep=10*ureg.degree, tube_dia=6*ureg.inch,  thickness=2*ureg.mm, material=rp.materials.Aluminium())\n",
    "# define its location\n",
    "fins.set_position(end_of=bt, offset=-fins.root_chord)\n",
    "#  assign to rocket\n",
    "r.set_fins(fins)\n",
    "\n",
    "# plot the entire rocket\n",
    "fig = plt.figure()\n",
    "ax = plt.gca()\n",
    "r.plot(ax, unit=ureg.inch)\n",
    "plt.draw()\n",
    "\n",
    "# describe the rocket\n",
    "r.describe(describe_components=True)\n",
    "\n",
    "plt.show()\n",
    "\n"
   ]
  },
  {
   "cell_type": "code",
   "execution_count": 3,
   "metadata": {},
   "outputs": [
    {
     "ename": "NameError",
     "evalue": "name 'mach_correction' is not defined",
     "output_type": "error",
     "traceback": [
      "\u001b[0;31m---------------------------------------------------------------------------\u001b[0m",
      "\u001b[0;31mNameError\u001b[0m                                 Traceback (most recent call last)",
      "\u001b[0;32m<ipython-input-3-89b03924d9cc>\u001b[0m in \u001b[0;36m<module>\u001b[0;34m\u001b[0m\n\u001b[0;32m----> 1\u001b[0;31m \u001b[0mr\u001b[0m\u001b[0;34m.\u001b[0m\u001b[0mCD\u001b[0m\u001b[0;34m(\u001b[0m\u001b[0;34m)\u001b[0m\u001b[0;34m\u001b[0m\u001b[0;34m\u001b[0m\u001b[0m\n\u001b[0m",
      "\u001b[0;32m~/Documents/GitHub/rocketPy/rocketPy/rocket.py\u001b[0m in \u001b[0;36mCD\u001b[0;34m(self, alpha, Re, Mach)\u001b[0m\n\u001b[1;32m    216\u001b[0m \u001b[0;34m\u001b[0m\u001b[0m\n\u001b[1;32m    217\u001b[0m         \u001b[0;31m# perform a mach number correction\u001b[0m\u001b[0;34m\u001b[0m\u001b[0;34m\u001b[0m\u001b[0;34m\u001b[0m\u001b[0m\n\u001b[0;32m--> 218\u001b[0;31m         \u001b[0mCD\u001b[0m \u001b[0;34m=\u001b[0m \u001b[0mCD\u001b[0m\u001b[0;34m*\u001b[0m\u001b[0mmach_correction\u001b[0m\u001b[0;34m(\u001b[0m\u001b[0mMach\u001b[0m\u001b[0;34m)\u001b[0m\u001b[0;34m\u001b[0m\u001b[0;34m\u001b[0m\u001b[0m\n\u001b[0m\u001b[1;32m    219\u001b[0m \u001b[0;34m\u001b[0m\u001b[0m\n\u001b[1;32m    220\u001b[0m         \u001b[0;32mreturn\u001b[0m \u001b[0mCD\u001b[0m\u001b[0;34m\u001b[0m\u001b[0;34m\u001b[0m\u001b[0m\n",
      "\u001b[0;31mNameError\u001b[0m: name 'mach_correction' is not defined"
     ]
    }
   ],
   "source": [
    "r.CD()"
   ]
  },
  {
   "cell_type": "code",
   "execution_count": null,
   "metadata": {},
   "outputs": [],
   "source": []
  },
  {
   "cell_type": "code",
   "execution_count": null,
   "metadata": {},
   "outputs": [],
   "source": []
  },
  {
   "cell_type": "code",
   "execution_count": null,
   "metadata": {},
   "outputs": [],
   "source": []
  }
 ],
 "metadata": {
  "kernelspec": {
   "display_name": "rocketPy",
   "language": "python",
   "name": "rocketpy"
  },
  "language_info": {
   "codemirror_mode": {
    "name": "ipython",
    "version": 3
   },
   "file_extension": ".py",
   "mimetype": "text/x-python",
   "name": "python",
   "nbconvert_exporter": "python",
   "pygments_lexer": "ipython3",
   "version": "3.6.7"
  }
 },
 "nbformat": 4,
 "nbformat_minor": 2
}
