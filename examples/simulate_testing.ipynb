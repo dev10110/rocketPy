{
 "cells": [
  {
   "cell_type": "code",
   "execution_count": 1,
   "metadata": {},
   "outputs": [],
   "source": [
    "import numpy as np\n",
    "import numpy.linalg as la\n",
    "import scipy as sp\n",
    "import matplotlib.pyplot as plt\n",
    "\n",
    "from fluids.atmosphere import ATMOSPHERE_1976 as atm\n",
    "\n",
    "import rocketPy as rp\n",
    "from rocketPy import ureg, si, unit_vector, angle_between\n"
   ]
  },
  {
   "cell_type": "code",
   "execution_count": null,
   "metadata": {},
   "outputs": [],
   "source": []
  },
  {
   "cell_type": "code",
   "execution_count": 2,
   "metadata": {
    "scrolled": false
   },
   "outputs": [
    {
     "name": "stdout",
     "output_type": "stream",
     "text": [
      "Rocket: Simple Rocket\n",
      "\n",
      "Rocket Details\n",
      "+--------------------------+--------------+-------------------+\n",
      "|        Parameter         |    Value     |       Notes       |\n",
      "+--------------------------+--------------+-------------------+\n",
      "|        Total Mass        |  1.9803 kg   |                   |\n",
      "|       Total Length       |  70.0000 in  |                   |\n",
      "|           X_CG           |  1.152304 m  |                   |\n",
      "|           X_CP           |   1.1799 m   | At default values |\n",
      "| Static Margin (calibers) |    ERROR     | At default values |\n",
      "|            CD            |    0.2894    | At default values |\n",
      "|           CNa            | 9.0907 / rad | At default values |\n",
      "+--------------------------+--------------+-------------------+\n",
      "\n",
      "Component Details\n",
      "+-----------+------------+------------+---------+-----------------+--------------+\n",
      "| Component |    Type    |  Material  |   Mass  | Mass Fraction % |     CNa      |\n",
      "+-----------+------------+------------+---------+-----------------+--------------+\n",
      "| Nose Cone |  NoseCone  |    PLA     | 0.23 kg |      11.61      | 2.097 / rad  |\n",
      "| Body Tube |  BodyTube  |  Phenolic  | 1.11 kg |      56.00      | 0.000 / rad  |\n",
      "| Boat Tail | Transition |  Phenolic  | 0.08 kg |       3.89      | -1.165 / rad |\n",
      "|    Fins   |   FinSet   | Al-6061-T6 | 0.56 kg |      28.50      | 8.159 / rad  |\n",
      "+-----------+------------+------------+---------+-----------------+--------------+\n",
      "\n",
      "Describing all components in full:\n",
      "\n"
     ]
    },
    {
     "data": {
      "image/png": "[encoded data removed]",
      "text/plain": [
       "<Figure size 432x288 with 1 Axes>"
      ]
     },
     "metadata": {
      "needs_background": "light"
     },
     "output_type": "display_data"
    }
   ],
   "source": [
    "# generate rocket\n",
    "\n",
    "## First, create a rocket.\n",
    "r = rp.Rocket(name='Simple Rocket')\n",
    "\n",
    "## create a nose cone\n",
    "nc = rp.NoseCone(name='Nose Cone', diameter=6*ureg.inch, fineness=3, material=rp.materials.PLA())\n",
    "# assign to rocket\n",
    "r.set_nose_cone(nc)\n",
    "\n",
    "## create a BodyTube\n",
    "bt = rp.BodyTube(name = 'Body Tube', diameter=6*ureg.inch, length=48*ureg.inch, wall_thickness=2*ureg.mm, material=rp.materials.Phenolic())\n",
    "# define its location\n",
    "bt.set_position(after=nc)\n",
    "# assign to rocket\n",
    "r.set_body_tube(bt)\n",
    "\n",
    "# create a boat tail\n",
    "boat_tail = rp.Transition(name='Boat Tail', fore_dia=6*ureg.inch, aft_dia=4*ureg.inch, length=4*ureg.inch, material=rp.materials.Phenolic())\n",
    "# define its location\n",
    "boat_tail.set_position(after=bt)\n",
    "# assign to rocket\n",
    "r.set_boat_tail(boat_tail)\n",
    "\n",
    "## create the fins\n",
    "fins = rp.FinSet(name='Fins', n=3, span=6*ureg.inch, root_chord=12*ureg.inch, tip_chord=6*ureg.inch, mid_sweep=10*ureg.degree, tube_dia=6*ureg.inch,  thickness=2*ureg.mm, material=rp.materials.Aluminium())\n",
    "# define its location\n",
    "fins.set_position(end_of=bt, offset=-fins.root_chord)\n",
    "#  assign to rocket\n",
    "r.set_fins(fins)\n",
    "\n",
    "# plot the entire rocket\n",
    "fig = plt.figure()\n",
    "ax = plt.gca()\n",
    "r.plot(ax, unit=ureg.inch)\n",
    "plt.draw()\n",
    "\n",
    "# describe the rocket\n",
    "r.describe(describe_components=False)\n",
    "\n",
    "plt.show()\n",
    "\n"
   ]
  },
  {
   "cell_type": "code",
   "execution_count": 3,
   "metadata": {},
   "outputs": [
    {
     "data": {
      "text/html": [
       "\\[0.37951776952621363\\ dimensionless\\]"
      ],
      "text/latex": [
       "$0.37951776952621363\\ dimensionless$"
      ],
      "text/plain": [
       "0.37951776952621363 <Unit('dimensionless')>"
      ]
     },
     "execution_count": 3,
     "metadata": {},
     "output_type": "execute_result"
    }
   ],
   "source": [
    "r.CD(alpha=2*ureg.degree)"
   ]
  },
  {
   "cell_type": "code",
   "execution_count": null,
   "metadata": {},
   "outputs": [],
   "source": []
  },
  {
   "cell_type": "code",
   "execution_count": null,
   "metadata": {},
   "outputs": [],
   "source": []
  },
  {
   "cell_type": "code",
   "execution_count": 4,
   "metadata": {},
   "outputs": [
    {
     "data": {
      "text/plain": [
       "[[0.99862953]\n",
       " [0.        ]\n",
       " [0.05233596]\n",
       " [0.        ]]"
      ]
     },
     "execution_count": 4,
     "metadata": {},
     "output_type": "execute_result"
    }
   ],
   "source": [
    "q = rp.Quaternion.from_angle(6.0*np.pi/180.0, np.array([0,1,0]))\n",
    "q"
   ]
  },
  {
   "cell_type": "code",
   "execution_count": 5,
   "metadata": {},
   "outputs": [],
   "source": [
    "class Environment():\n",
    "    \n",
    "    def __init__(self):\n",
    "        \n",
    "        # define constants\n",
    "        self.gamma = 1.4\n",
    "        self.R = 287*ureg.J/ureg.kg/ureg.degK\n",
    "        self.ref_temp = 291.15*ureg.degK\n",
    "        self.ref_visc = 1.827e-7*ureg.Pa/ureg.s\n",
    "        self.g_0 = 9.80665*ureg.m/ureg.s**2\n",
    "        self.rho_0 = 1.225*ureg.kg/ureg.m**3\n",
    "           \n",
    "    def get_rho(self, z):\n",
    "        \n",
    "        try:\n",
    "            return atm(z).rho #return in si\n",
    "        except:\n",
    "            return atm((z.to(ureg.m)).magnitude).rho*ureg.kg/ureg.m**3\n",
    "    \n",
    "    def get_mu(self, z):\n",
    "        \n",
    "        try:\n",
    "            return atm(z).mu #return in si\n",
    "        except:\n",
    "            return atm((z.to(ureg.m)).magnitude).mu*ureg.Pa*ureg.s\n",
    "\n",
    "    def get_temp(self, z):\n",
    "        \n",
    "        try:\n",
    "            return atm(z).T #return in si\n",
    "        except:\n",
    "            return atm((z.to(ureg.m)).magnitude).T*ureg.degK\n",
    "    \n",
    "    def get_speed_of_sound(self, z):\n",
    "        \n",
    "        try:\n",
    "            return atm(z).v_sonic#return in si\n",
    "        except:\n",
    "            return atm((z.to(ureg.m)).magnitude).v_sonic*ureg.m/ureg.s\n",
    "        \n",
    "    def frozen_wind(t, state):\n",
    "        \n",
    "        # function to describe the wind vector (in earth frame) as a function of time or state\n",
    "        \n",
    "        return np.array([[1,0,0]]).T\n",
    "\n",
    "    "
   ]
  },
  {
   "cell_type": "code",
   "execution_count": 6,
   "metadata": {},
   "outputs": [],
   "source": [
    "env=Environment()"
   ]
  },
  {
   "cell_type": "code",
   "execution_count": 7,
   "metadata": {},
   "outputs": [
    {
     "data": {
      "text/plain": [
       "1.1672725123243854"
      ]
     },
     "execution_count": 7,
     "metadata": {},
     "output_type": "execute_result"
    }
   ],
   "source": [
    "env.get_rho(500)"
   ]
  },
  {
   "cell_type": "code",
   "execution_count": 8,
   "metadata": {},
   "outputs": [
    {
     "data": {
      "text/plain": [
       "(4580.105311485027 <Unit('inch ** 2 * kilogram')>,\n",
       " 221.4656914751491 <Unit('inch ** 2 * kilogram')>,\n",
       " 221.4656914751491 <Unit('inch ** 2 * kilogram')>)"
      ]
     },
     "execution_count": 8,
     "metadata": {},
     "output_type": "execute_result"
    }
   ],
   "source": [
    "r.inertia()"
   ]
  },
  {
   "cell_type": "code",
   "execution_count": 9,
   "metadata": {},
   "outputs": [],
   "source": [
    "class State():\n",
    "    \n",
    "    def __init__(self, pos, quaternion, lin_mom, ang_mom, mass):\n",
    "        \n",
    "        self.pos = pos\n",
    "        self.quat = quaternion\n",
    "        self.lin_mom = lin_mom\n",
    "        self.ang_mom = ang_mom\n",
    "        self.mass = mass\n",
    "        \n",
    "    def get_state_vector(self):\n",
    "        \n",
    "        state = [self.pos, self.quat, self.lin_mom, self.ang_mom, self.mass] \n",
    "\n",
    "        return np.vstack([si(s) for s in state])\n",
    "    \n",
    "    @classmethod\n",
    "    def extract(cls, state):\n",
    "        \n",
    "        pos = state[0:3] * ureg.m\n",
    "        quat = state[3:7]\n",
    "        lin_mom = state[7:10] * ureg.kg*ureg.m/ureg.s\n",
    "        ang_mom = state[10:13] * ureg.kg*ureg.m**2/ureg.s\n",
    "        mass = state[13] * ureg.m\n",
    "        \n",
    "        return cls(pos, quat, lin_mom, ang_mom, mass)\n",
    "    \n",
    "    def __repr__(self):\n",
    "    \n",
    "        s  = 'State: \\n'\n",
    "        s += 'Pos:     ' + str(self.pos)  + '\\n'\n",
    "        s += 'Quat:    ' + str(self.quat) + '\\n'\n",
    "        s += 'Lin mom: ' + str(self.lin_mom) + '\\n'\n",
    "        s += 'Ang mom: ' + str(self.ang_mom) + '\\n'\n",
    "        s += 'Mass:    ' + str(self.mass)\n",
    "        \n",
    "        return s\n",
    "    \n",
    "        \n",
    "        "
   ]
  },
  {
   "cell_type": "code",
   "execution_count": 31,
   "metadata": {},
   "outputs": [],
   "source": [
    "pos0 = np.array([[0,0,0]]).T*ureg.m\n",
    "quat0 = rp.Quaternion.from_angle(6*ureg.degree, [0, 1, 0])\n",
    "lin_mom0 = np.array([[1,0,0]]).T*ureg.kg*ureg.m/ureg.s\n",
    "ang_mom0 = np.array([[0,0,0.7]]).T*ureg.kg*ureg.m**2/ureg.s\n",
    "mass0 = 40*ureg.kg\n",
    "\n",
    "state0 = State(pos0, quat0, lin_mom0, ang_mom0, mass0)"
   ]
  },
  {
   "cell_type": "code",
   "execution_count": 32,
   "metadata": {},
   "outputs": [
    {
     "data": {
      "text/plain": [
       "State: \n",
       "Pos:     [[0] [0] [0]] meter\n",
       "Quat:    [[0.99862953]\n",
       " [0.        ]\n",
       " [0.05233596]\n",
       " [0.        ]]\n",
       "Lin mom: [[1.0] [0.0] [0.0]] kilogram * meter / second\n",
       "Ang mom: [[0.0] [0.0] [0.7]] kilogram * meter ** 2 / second\n",
       "Mass:    40 kilogram"
      ]
     },
     "execution_count": 32,
     "metadata": {},
     "output_type": "execute_result"
    }
   ],
   "source": [
    "state0"
   ]
  },
  {
   "cell_type": "code",
   "execution_count": 33,
   "metadata": {
    "scrolled": true
   },
   "outputs": [],
   "source": [
    "sv=state0.get_state_vector()"
   ]
  },
  {
   "cell_type": "code",
   "execution_count": 34,
   "metadata": {},
   "outputs": [],
   "source": [
    "s1 = State.extract(sv)"
   ]
  },
  {
   "cell_type": "code",
   "execution_count": 35,
   "metadata": {},
   "outputs": [
    {
     "data": {
      "text/plain": [
       "State: \n",
       "Pos:     [[0.0] [0.0] [0.0]] meter\n",
       "Quat:    [[0.99862953]\n",
       " [0.        ]\n",
       " [0.05233596]\n",
       " [0.        ]]\n",
       "Lin mom: [[1.0] [0.0] [0.0]] kilogram * meter / second\n",
       "Ang mom: [[0.0] [0.0] [0.7]] kilogram * meter ** 2 / second\n",
       "Mass:    [40.0] meter"
      ]
     },
     "execution_count": 35,
     "metadata": {},
     "output_type": "execute_result"
    }
   ],
   "source": [
    "s1"
   ]
  },
  {
   "cell_type": "code",
   "execution_count": 36,
   "metadata": {},
   "outputs": [],
   "source": [
    "class ConstantWind():\n",
    "    \n",
    "    def __init__(self):\n",
    "        \n",
    "        self.w0 = 5 * ureg.m/ureg.s\n",
    "        \n",
    "    def vector(self, t=None, pos=None):\n",
    "        \n",
    "        return np.array([[0, si(self.w0), 0]]).T * ureg.m/ureg.s\n",
    "    \n",
    "    \n",
    "        "
   ]
  },
  {
   "cell_type": "code",
   "execution_count": 37,
   "metadata": {},
   "outputs": [],
   "source": [
    "wind_constant = ConstantWind()"
   ]
  },
  {
   "cell_type": "code",
   "execution_count": 38,
   "metadata": {},
   "outputs": [
    {
     "data": {
      "text/html": [
       "\\[\\begin{pmatrix}0.0\\\\ \n",
       "5.0\\\\ \n",
       "0.0\\end{pmatrix} meter/second\\]"
      ],
      "text/latex": [
       "$\\begin{pmatrix}0.0\\\\ \n",
       "5.0\\\\ \n",
       "0.0\\end{pmatrix}\\ \\frac{\\mathrm{meter}}{\\mathrm{second}}$"
      ],
      "text/plain": [
       "array([[0.],\n",
       "       [5.],\n",
       "       [0.]]) <Unit('meter / second')>"
      ]
     },
     "execution_count": 38,
     "metadata": {},
     "output_type": "execute_result"
    }
   ],
   "source": [
    "wind_constant.vector(None, None)"
   ]
  },
  {
   "cell_type": "code",
   "execution_count": 39,
   "metadata": {},
   "outputs": [],
   "source": [
    "class Simulation():\n",
    "    \n",
    "    def __init__(self, rocket, environment):\n",
    "        \n",
    "        self.rocket = rocket\n",
    "        self.env = environment\n",
    "        \n",
    "        self.ref_axis_R = np.array([[1,0,0]]).T # roll axis\n",
    "        self.ref_axis_P = np.array([[0,1,0]]).T # pitch axis\n",
    "        self.ref_axis_Y = np.array([[0,0,1]]).T # yaw axis\n",
    "        \n",
    "        return\n",
    "    \n",
    "    def dynamics(self, state, control, time, wind):\n",
    "        \n",
    "        # everything here is assumed to be in si units\n",
    "        \n",
    "        # extract state\n",
    "        pos = si(state.pos)\n",
    "        quat = state.quat\n",
    "        lin_mom = si(state.lin_mom)\n",
    "        ang_mom = si(state.ang_mom)\n",
    "        mass = si(state.mass)\n",
    "        \n",
    "        # extract extra stuff\n",
    "        R = quat.rot_matrix()\n",
    "        RA = unit_vector(R @ self.ref_axis_R) # roll axis\n",
    "        \n",
    "        inertia_matrix = self.rocket.inertia_matrix(mass) # get the inertia matrix for a given total rocket mass\n",
    "        \n",
    "        # linear velocity\n",
    "        lin_vel = lin_mom / mass\n",
    "        \n",
    "        # angular velocity\n",
    "        \n",
    "        ang_vel = R @ la.inv(inertia_matrix) @ R.T @ ang_mom\n",
    "        \n",
    "        print(ang_vel)\n",
    "        \n",
    "        # rate of change of quaterinon \n",
    "        qdot = self.get_qdot(quat, lin_vel, ang_vel)\n",
    "        \n",
    "        # get wind speed\n",
    "        w = si(wind.vector(time, pos))\n",
    "        \n",
    "        # calculate angle of attack\n",
    "        V_cm = lin_vel + w\n",
    "        \n",
    "        # calculate all these parameters, automatically performing convergence as necessary\n",
    "        alpha, re, mach, xbar, V_omega, V_infty = self.calc_parameters_converged(V_cm, R, RA, pos, mass, ang_vel)\n",
    "        \n",
    "        # TODO (high): continue working here\n",
    "        \n",
    "        return alpha, re, mach, xbar, V_omega, V_infty \n",
    "        \n",
    "    def calc_parameters_converged(self, V_cm, R, RA, pos, mass, ang_vel):\n",
    "        \n",
    "        if la.norm(ang_vel) < 0.1:\n",
    "            \n",
    "            return self.calc_parameters(V_cm, V_cm, R, RA, pos, mass, ang_vel)\n",
    "\n",
    "        else:\n",
    "            #calculate using V_cm\n",
    "            alpha_old, re, mach, xbar, V_omega, V_infty = self.calc_parameters(V_cm, V_cm, R, RA, pos, mass, ang_vel)\n",
    "\n",
    "            # calculate new alpha\n",
    "            alpha, re, mach, xbar, V_omega, V_infty = self.calc_parameters(V_infty, V_cm, R, RA, pos, mass, ang_vel)\n",
    "\n",
    "\n",
    "            # if the difference is large, re-estimate\n",
    "            while abs(alpha_old - alpha) > 1e-6:\n",
    "\n",
    "                alpha_old = alpha\n",
    "                alpha, re, mach, xbar, V_omega, V_infty = self.calc_parameters(V_infty, V_cm, R, RA, pos, mass, ang_vel)\n",
    "\n",
    "        return alpha, re, mach, xbar, V_omega, V_infty \n",
    "\n",
    "    \n",
    "    def calc_parameters(self, V_infty, V_cm, R, RA, pos, mass, ang_vel):\n",
    "        # note, V_infty here is a guess, but the corrected value comes out of the function\n",
    "            \n",
    "        alpha = self.calc_alpha(V_infty, RA) #using V_cm as an approximation for V_infty\n",
    "        \n",
    "        z = pos[2][0]\n",
    "        re = self.calc_Re(la.norm(V_infty), z)\n",
    "        mach = self.calc_Mach(la.norm(V_infty), z)\n",
    "\n",
    "        xbar = abs((self.rocket.xcp(alpha, re, mach) - self.rocket.xcg(mass*ureg.kg)).m_as(ureg.m))\n",
    "        \n",
    "        V_omega = xbar * np.cross(RA, ang_vel, axis=0)# linear speed at the center of pressure due to the rotation rate of the rocket\n",
    "\n",
    "        V_infty = V_cm + V_omega\n",
    "\n",
    "        return alpha, re, mach, xbar, V_omega, V_infty\n",
    "\n",
    "    def calc_Re(self, Vinf, z):\n",
    "        \"\"\"Calculate reynolds number for a given vinf and altitude z\"\"\"\n",
    "        \n",
    "        rho = self.env.get_rho(z)\n",
    "        mu  = self.env.get_mu(z)\n",
    "        \n",
    "        X_rocket = (self.rocket.length()).m_as(ureg.m)\n",
    "        \n",
    "        Re = rho*Vinf*X_rocket/mu\n",
    "        \n",
    "        return Re\n",
    "        \n",
    "        \n",
    "    def calc_Mach(self, Vinf, z):\n",
    "        \n",
    "        a = self.env.get_speed_of_sound(z)\n",
    "        \n",
    "        return Vinf/a\n",
    "    \n",
    "    def calc_alpha(self, Vinf, RA):\n",
    "        \"\"\"Calc alpha for a given wind speed Vinf and roll axis RA\"\"\"\n",
    "        \n",
    "        return angle_between(Vinf, RA)\n",
    "\n",
    "\n",
    "\n",
    "        \n",
    "    def get_qdot(self, quat, lin_vel, ang_vel):\n",
    "        \"\"\"Compute the rate of change of the quaternion\"\"\"\n",
    "        s = float(quat.q[0])\n",
    "        sdot = 0.5 * float( np.dot(ang_vel.T, lin_vel))\n",
    "        vdot = 0.5 * s * ang_vel + np.cross(ang_vel, ang_vel,axis=0)\n",
    "        qdot =  np.vstack([sdot, vdot])\n",
    "        return qdot\n",
    "    \n",
    "    \n",
    "    \n",
    "    \n",
    "    "
   ]
  },
  {
   "cell_type": "code",
   "execution_count": 40,
   "metadata": {},
   "outputs": [],
   "source": [
    "sim = Simulation(r, env)"
   ]
  },
  {
   "cell_type": "code",
   "execution_count": 41,
   "metadata": {},
   "outputs": [
    {
     "data": {
      "text/plain": [
       "State: \n",
       "Pos:     [[0] [0] [0]] meter\n",
       "Quat:    [[0.99862953]\n",
       " [0.        ]\n",
       " [0.05233596]\n",
       " [0.        ]]\n",
       "Lin mom: [[1.0] [0.0] [0.0]] kilogram * meter / second\n",
       "Ang mom: [[0.0] [0.0] [0.7]] kilogram * meter ** 2 / second\n",
       "Mass:    40 kilogram"
      ]
     },
     "execution_count": 41,
     "metadata": {},
     "output_type": "execute_result"
    }
   ],
   "source": [
    "state0"
   ]
  },
  {
   "cell_type": "code",
   "execution_count": 42,
   "metadata": {},
   "outputs": [
    {
     "data": {
      "text/html": [
       "\\[\\begin{pmatrix}0.0\\\\ \n",
       "5.0\\\\ \n",
       "0.0\\end{pmatrix} meter/second\\]"
      ],
      "text/latex": [
       "$\\begin{pmatrix}0.0\\\\ \n",
       "5.0\\\\ \n",
       "0.0\\end{pmatrix}\\ \\frac{\\mathrm{meter}}{\\mathrm{second}}$"
      ],
      "text/plain": [
       "array([[0.],\n",
       "       [5.],\n",
       "       [0.]]) <Unit('meter / second')>"
      ]
     },
     "execution_count": 42,
     "metadata": {},
     "output_type": "execute_result"
    }
   ],
   "source": [
    "wind_constant.vector(None, None)"
   ]
  },
  {
   "cell_type": "code",
   "execution_count": 43,
   "metadata": {},
   "outputs": [
    {
     "data": {
      "text/html": [
       "\\[\\begin{pmatrix}0.025\\\\ \n",
       "5.0\\\\ \n",
       "0.0\\end{pmatrix} meter/second\\]"
      ],
      "text/latex": [
       "$\\begin{pmatrix}0.025\\\\ \n",
       "5.0\\\\ \n",
       "0.0\\end{pmatrix}\\ \\frac{\\mathrm{meter}}{\\mathrm{second}}$"
      ],
      "text/plain": [
       "array([[0.025],\n",
       "       [5.   ],\n",
       "       [0.   ]]) <Unit('meter / second')>"
      ]
     },
     "execution_count": 43,
     "metadata": {},
     "output_type": "execute_result"
    }
   ],
   "source": [
    "v=state0.lin_mom/state0.mass + wind_constant.vector()\n",
    "v"
   ]
  },
  {
   "cell_type": "code",
   "execution_count": 44,
   "metadata": {},
   "outputs": [
    {
     "data": {
      "text/plain": [
       "0.014693356085789222"
      ]
     },
     "execution_count": 44,
     "metadata": {},
     "output_type": "execute_result"
    }
   ],
   "source": [
    "la.norm(v.m_as('m/s'))/env.get_speed_of_sound(z=0)"
   ]
  },
  {
   "cell_type": "code",
   "execution_count": 45,
   "metadata": {},
   "outputs": [
    {
     "name": "stdout",
     "output_type": "stream",
     "text": [
      "[[0.48467271]\n",
      " [0.        ]\n",
      " [4.84824735]]\n"
     ]
    },
    {
     "data": {
      "text/plain": [
       "(1.5655793369794446,\n",
       " 580097.8267762188,\n",
       " 0.014004961183580992,\n",
       " 0.04807942601707582,\n",
       " array([[ 0.       ],\n",
       "        [-0.2342598],\n",
       "        [ 0.       ]]),\n",
       " array([[0.025    ],\n",
       "        [4.7657402],\n",
       "        [0.       ]]))"
      ]
     },
     "execution_count": 45,
     "metadata": {},
     "output_type": "execute_result"
    }
   ],
   "source": [
    "sim.dynamics(state0, None, None, wind_constant)"
   ]
  },
  {
   "cell_type": "code",
   "execution_count": 46,
   "metadata": {},
   "outputs": [
    {
     "name": "stdout",
     "output_type": "stream",
     "text": [
      "Rocket: Simple Rocket\n",
      "\n",
      "Rocket Details\n",
      "+--------------------------+--------------+-------------------+\n",
      "|        Parameter         |    Value     |       Notes       |\n",
      "+--------------------------+--------------+-------------------+\n",
      "|        Total Mass        |  1.9803 kg   |                   |\n",
      "|       Total Length       |  70.0000 in  |                   |\n",
      "|           X_CG           |  1.152304 m  |                   |\n",
      "|           X_CP           |   1.1799 m   | At default values |\n",
      "| Static Margin (calibers) |    ERROR     | At default values |\n",
      "|            CD            |    0.2894    | At default values |\n",
      "|           CNa            | 9.0907 / rad | At default values |\n",
      "+--------------------------+--------------+-------------------+\n",
      "\n",
      "Component Details\n",
      "+-----------+------------+------------+---------+-----------------+--------------+\n",
      "| Component |    Type    |  Material  |   Mass  | Mass Fraction % |     CNa      |\n",
      "+-----------+------------+------------+---------+-----------------+--------------+\n",
      "| Nose Cone |  NoseCone  |    PLA     | 0.23 kg |      11.61      | 2.097 / rad  |\n",
      "| Body Tube |  BodyTube  |  Phenolic  | 1.11 kg |      56.00      | 0.000 / rad  |\n",
      "| Boat Tail | Transition |  Phenolic  | 0.08 kg |       3.89      | -1.165 / rad |\n",
      "|    Fins   |   FinSet   | Al-6061-T6 | 0.56 kg |      28.50      | 8.159 / rad  |\n",
      "+-----------+------------+------------+---------+-----------------+--------------+\n",
      "\n",
      "Describing all components in full:\n",
      "\n"
     ]
    }
   ],
   "source": [
    "r.describe()"
   ]
  },
  {
   "cell_type": "code",
   "execution_count": 30,
   "metadata": {},
   "outputs": [
    {
     "data": {
      "text/html": [
       "\\[0.02762305134464249\\ meter\\]"
      ],
      "text/latex": [
       "$0.02762305134464249\\ \\mathrm{meter}$"
      ],
      "text/plain": [
       "0.02762305134464249 <Unit('meter')>"
      ]
     },
     "execution_count": 30,
     "metadata": {},
     "output_type": "execute_result"
    }
   ],
   "source": [
    "\n",
    "(r.xcp(Mach=0) - r.xcg())"
   ]
  },
  {
   "cell_type": "code",
   "execution_count": null,
   "metadata": {},
   "outputs": [],
   "source": [
    "r."
   ]
  },
  {
   "cell_type": "code",
   "execution_count": null,
   "metadata": {},
   "outputs": [],
   "source": [
    "R @ la.inv(im)"
   ]
  },
  {
   "cell_type": "code",
   "execution_count": null,
   "metadata": {},
   "outputs": [],
   "source": [
    "float(state0.quat.q[0])"
   ]
  },
  {
   "cell_type": "code",
   "execution_count": null,
   "metadata": {},
   "outputs": [],
   "source": [
    "r.inertia_matrix()"
   ]
  },
  {
   "cell_type": "code",
   "execution_count": null,
   "metadata": {},
   "outputs": [],
   "source": [
    "import scipy.integrate as spint"
   ]
  },
  {
   "cell_type": "code",
   "execution_count": null,
   "metadata": {},
   "outputs": [],
   "source": [
    "state = np.array([0, 3])"
   ]
  },
  {
   "cell_type": "code",
   "execution_count": null,
   "metadata": {},
   "outputs": [],
   "source": [
    "x, y = state"
   ]
  },
  {
   "cell_type": "code",
   "execution_count": null,
   "metadata": {},
   "outputs": [],
   "source": []
  },
  {
   "cell_type": "code",
   "execution_count": null,
   "metadata": {},
   "outputs": [],
   "source": [
    "def dynamics(state, control, time):\n",
    "    # extract\n",
    "    x, xd = state\n",
    "    u = control\n",
    "    \n",
    "    # compute dynamics\n",
    "    xdd = u\n",
    "    \n",
    "    return np.array([xd, xdd])"
   ]
  },
  {
   "cell_type": "code",
   "execution_count": null,
   "metadata": {},
   "outputs": [],
   "source": [
    "def control(state, time):\n",
    "    \n",
    "    x, xd = state\n",
    "    u = -0.1*(x-5) -0.1*xd\n",
    "        \n",
    "    return u"
   ]
  },
  {
   "cell_type": "code",
   "execution_count": null,
   "metadata": {},
   "outputs": [],
   "source": []
  },
  {
   "cell_type": "code",
   "execution_count": null,
   "metadata": {},
   "outputs": [],
   "source": [
    "def concise_dynamics(time, state):\n",
    "    \n",
    "    u = control(state, time)\n",
    "    \n",
    "    dyn = dynamics(state, u, time)\n",
    "    \n",
    "    return dyn\n",
    "    "
   ]
  },
  {
   "cell_type": "code",
   "execution_count": null,
   "metadata": {},
   "outputs": [],
   "source": [
    "concise_dynamics(0, np.array([5,6]))"
   ]
  },
  {
   "cell_type": "code",
   "execution_count": null,
   "metadata": {},
   "outputs": [],
   "source": [
    "state0 = np.array([0, 0])"
   ]
  },
  {
   "cell_type": "code",
   "execution_count": null,
   "metadata": {},
   "outputs": [],
   "source": [
    "sol1=spint.solve_ivp(concise_dynamics, (0, 100), state0, max_step=0.1)\n",
    "sol2=spint.solve_ivp(concise_dynamics, (0, 100), state0, max_step=1)\n",
    "sol3=spint.solve_ivp(concise_dynamics, (0, 100), state0)"
   ]
  },
  {
   "cell_type": "code",
   "execution_count": null,
   "metadata": {},
   "outputs": [],
   "source": [
    "sol"
   ]
  },
  {
   "cell_type": "code",
   "execution_count": null,
   "metadata": {},
   "outputs": [],
   "source": [
    "plt.plot(sol.t, sol.y[1,:])"
   ]
  },
  {
   "cell_type": "code",
   "execution_count": null,
   "metadata": {},
   "outputs": [],
   "source": [
    "plt.plot(sol.t, sol.y[0,:],'x')"
   ]
  },
  {
   "cell_type": "code",
   "execution_count": null,
   "metadata": {},
   "outputs": [],
   "source": [
    "plt.plot(np.diff(sol.t))"
   ]
  },
  {
   "cell_type": "code",
   "execution_count": null,
   "metadata": {},
   "outputs": [],
   "source": []
  },
  {
   "cell_type": "code",
   "execution_count": null,
   "metadata": {},
   "outputs": [],
   "source": [
    "plt.plot(sol1.t, sol1.y[0])\n",
    "plt.plot(sol2.t, sol2.y[0])\n",
    "plt.plot(sol3.t, sol3.y[0])"
   ]
  },
  {
   "cell_type": "code",
   "execution_count": null,
   "metadata": {},
   "outputs": [],
   "source": [
    "plt.plot(np.diff(sol1.t))\n",
    "plt.plot(np.diff(sol2.t))\n",
    "plt.plot(np.diff(sol3.t))"
   ]
  },
  {
   "cell_type": "code",
   "execution_count": null,
   "metadata": {},
   "outputs": [],
   "source": []
  },
  {
   "cell_type": "code",
   "execution_count": null,
   "metadata": {},
   "outputs": [],
   "source": []
  }
 ],
 "metadata": {
  "kernelspec": {
   "display_name": "rocketPy",
   "language": "python",
   "name": "rocketpy"
  },
  "language_info": {
   "codemirror_mode": {
    "name": "ipython",
    "version": 3
   },
   "file_extension": ".py",
   "mimetype": "text/x-python",
   "name": "python",
   "nbconvert_exporter": "python",
   "pygments_lexer": "ipython3",
   "version": "3.6.7"
  }
 },
 "nbformat": 4,
 "nbformat_minor": 2
}
