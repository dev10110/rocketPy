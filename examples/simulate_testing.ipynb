{
 "cells": [
  {
   "cell_type": "code",
   "execution_count": 1,
   "metadata": {},
   "outputs": [],
   "source": [
    "import numpy as np\n",
    "import numpy.linalg as la\n",
    "import scipy as sp\n",
    "import scipy.integrate as spint\n",
    "import matplotlib.pyplot as plt\n",
    "\n",
    "from fluids.atmosphere import ATMOSPHERE_1976 as atm\n",
    "\n",
    "import rocketPy as rp\n",
    "from rocketPy import ureg, si, unit_vector, angle_between\n",
    "\n",
    "\n"
   ]
  },
  {
   "cell_type": "code",
   "execution_count": null,
   "metadata": {},
   "outputs": [],
   "source": []
  },
  {
   "cell_type": "code",
   "execution_count": 2,
   "metadata": {
    "scrolled": false
   },
   "outputs": [
    {
     "name": "stdout",
     "output_type": "stream",
     "text": [
      "Rocket: Simple Rocket\n",
      "\n",
      "Rocket Details\n",
      "+--------------------------+--------------+-------------------+\n",
      "|        Parameter         |    Value     |       Notes       |\n",
      "+--------------------------+--------------+-------------------+\n",
      "|        Total Mass        |  1.9803 kg   |                   |\n",
      "|       Total Length       |  70.0000 in  |                   |\n",
      "|           X_CG           |  1.152304 m  |                   |\n",
      "|           X_CP           |   1.1799 m   | At default values |\n",
      "| Static Margin (calibers) |    0.1813    | At default values |\n",
      "|            CD            |    0.2894    | At default values |\n",
      "|           CNa            | 9.0907 / rad | At default values |\n",
      "+--------------------------+--------------+-------------------+\n",
      "\n",
      "Component Details\n",
      "+-----------+------------+------------+---------+-----------------+--------------+\n",
      "| Component |    Type    |  Material  |   Mass  | Mass Fraction % |     CNa      |\n",
      "+-----------+------------+------------+---------+-----------------+--------------+\n",
      "| Nose Cone |  NoseCone  |    PLA     | 0.23 kg |      11.61      | 2.097 / rad  |\n",
      "| Body Tube |  BodyTube  |  Phenolic  | 1.11 kg |      56.00      | 0.000 / rad  |\n",
      "| Boat Tail | Transition |  Phenolic  | 0.08 kg |       3.89      | -1.165 / rad |\n",
      "|    Fins   |   FinSet   | Al-6061-T6 | 0.56 kg |      28.50      | 8.159 / rad  |\n",
      "+-----------+------------+------------+---------+-----------------+--------------+\n",
      "\n",
      "Describing all components in full:\n",
      "\n"
     ]
    },
    {
     "data": {
      "image/png": "[encoded data removed]",
      "text/plain": [
       "<Figure size 432x288 with 1 Axes>"
      ]
     },
     "metadata": {
      "needs_background": "light"
     },
     "output_type": "display_data"
    }
   ],
   "source": [
    "# generate rocket\n",
    "\n",
    "## First, create a rocket.\n",
    "r = rp.Rocket(name='Simple Rocket')\n",
    "\n",
    "## create a nose cone\n",
    "nc = rp.NoseCone(name='Nose Cone', diameter=6*ureg.inch, fineness=3, material=rp.materials.PLA())\n",
    "# assign to rocket\n",
    "r.set_nose_cone(nc)\n",
    "\n",
    "## create a BodyTube\n",
    "bt = rp.BodyTube(name = 'Body Tube', diameter=6*ureg.inch, length=48*ureg.inch, wall_thickness=2*ureg.mm, material=rp.materials.Phenolic())\n",
    "# define its location\n",
    "bt.set_position(after=nc)\n",
    "# assign to rocket\n",
    "r.set_body_tube(bt)\n",
    "\n",
    "# create a boat tail\n",
    "boat_tail = rp.Transition(name='Boat Tail', fore_dia=6*ureg.inch, aft_dia=4*ureg.inch, length=4*ureg.inch, material=rp.materials.Phenolic())\n",
    "# define its location\n",
    "boat_tail.set_position(after=bt)\n",
    "# assign to rocket\n",
    "r.set_boat_tail(boat_tail)\n",
    "\n",
    "## create the fins\n",
    "fins = rp.FinSet(name='Fins', n=3, span=6*ureg.inch, root_chord=12*ureg.inch, tip_chord=6*ureg.inch, mid_sweep=10*ureg.degree, tube_dia=6*ureg.inch,  thickness=2*ureg.mm, material=rp.materials.Aluminium())\n",
    "# define its location\n",
    "fins.set_position(end_of=bt, offset=-fins.root_chord)\n",
    "#  assign to rocket\n",
    "r.set_fins(fins)\n",
    "\n",
    "# plot the entire rocket\n",
    "fig = plt.figure()\n",
    "ax = plt.gca()\n",
    "r.plot(ax, unit=ureg.inch)\n",
    "plt.draw()\n",
    "\n",
    "# describe the rocket\n",
    "r.describe(describe_components=False)\n",
    "\n",
    "plt.show()\n",
    "\n"
   ]
  },
  {
   "cell_type": "code",
   "execution_count": 3,
   "metadata": {},
   "outputs": [
    {
     "data": {
      "text/html": [
       "\\[1.1799275034283525\\ meter\\]"
      ],
      "text/latex": [
       "$1.1799275034283525\\ \\mathrm{meter}$"
      ],
      "text/plain": [
       "1.1799275034283525 <Unit('meter')>"
      ]
     },
     "execution_count": 3,
     "metadata": {},
     "output_type": "execute_result"
    }
   ],
   "source": [
    "r.xcp()"
   ]
  },
  {
   "cell_type": "code",
   "execution_count": 4,
   "metadata": {},
   "outputs": [
    {
     "data": {
      "text/html": [
       "\\[1.1799275034283525\\ meter\\]"
      ],
      "text/latex": [
       "$1.1799275034283525\\ \\mathrm{meter}$"
      ],
      "text/plain": [
       "1.1799275034283525 <Unit('meter')>"
      ]
     },
     "execution_count": 4,
     "metadata": {},
     "output_type": "execute_result"
    }
   ],
   "source": [
    "r.xcp()"
   ]
  },
  {
   "cell_type": "code",
   "execution_count": 5,
   "metadata": {},
   "outputs": [
    {
     "data": {
      "text/html": [
       "\\[0.18125361774699797\\ dimensionless\\]"
      ],
      "text/latex": [
       "$0.18125361774699797\\ dimensionless$"
      ],
      "text/plain": [
       "0.18125361774699797 <Unit('dimensionless')>"
      ]
     },
     "execution_count": 5,
     "metadata": {},
     "output_type": "execute_result"
    }
   ],
   "source": [
    "r.static_margin()"
   ]
  },
  {
   "cell_type": "code",
   "execution_count": 6,
   "metadata": {},
   "outputs": [
    {
     "data": {
      "text/html": [
       "\\[0.0030266791135803548\\ dimensionless\\]"
      ],
      "text/latex": [
       "$0.0030266791135803548\\ dimensionless$"
      ],
      "text/plain": [
       "0.0030266791135803548 <Unit('dimensionless')>"
      ]
     },
     "execution_count": 6,
     "metadata": {},
     "output_type": "execute_result"
    }
   ],
   "source": [
    "r.CD_body_alpha(alpha=(3*np.pi/180)*ureg.rad)"
   ]
  },
  {
   "cell_type": "code",
   "execution_count": 7,
   "metadata": {},
   "outputs": [
    {
     "data": {
      "text/html": [
       "\\[0.003026679113580355\\ dimensionless\\]"
      ],
      "text/latex": [
       "$0.003026679113580355\\ dimensionless$"
      ],
      "text/plain": [
       "0.003026679113580355 <Unit('dimensionless')>"
      ]
     },
     "execution_count": 7,
     "metadata": {},
     "output_type": "execute_result"
    }
   ],
   "source": [
    "r.CD_body_alpha(alpha=3*ureg.degree)"
   ]
  },
  {
   "cell_type": "code",
   "execution_count": 8,
   "metadata": {},
   "outputs": [],
   "source": [
    "class Environment():\n",
    "    \n",
    "    def __init__(self):\n",
    "        \n",
    "        # define constants\n",
    "        self.gamma = 1.4\n",
    "        self.R = 287*ureg.J/ureg.kg/ureg.degK\n",
    "        self.ref_temp = 291.15*ureg.degK\n",
    "        self.ref_visc = 1.827e-7*ureg.Pa/ureg.s\n",
    "        self.g_0_si = 9.80665\n",
    "        self.g_0 = self.g_0_si*ureg.m/ureg.s**2\n",
    "        self.rho_0 = 1.225*ureg.kg/ureg.m**3\n",
    "         \n",
    "            \n",
    "           \n",
    "    def _rho(self, z):\n",
    "        \n",
    "        return atm(z).rho\n",
    "    \n",
    "    def _mu(self, z):\n",
    "        \n",
    "        return atm(z).mu\n",
    "    \n",
    "    def _temp(self, z):\n",
    "        \n",
    "        return atm(z).T\n",
    "    \n",
    "    def _speed_of_sound(self, z):\n",
    "        \n",
    "        return atm(z).v_sonic\n",
    "    \n",
    "    \n",
    "    @ureg.wraps(ureg.kg/ureg.m**3, (None, ureg.m), strict=False)\n",
    "    def get_rho(self, z):\n",
    "        \n",
    "        return self._rho(z)\n",
    "    \n",
    "    @ureg.wraps(ureg.Pa*ureg.s, (None, ureg.m), strict=False)\n",
    "    def get_mu(self, z):\n",
    "        return self._mu(z)\n",
    "        \n",
    "    @ureg.wraps(ureg.degK, (None, ureg.m), strict=False)\n",
    "    def get_temp(self, z):\n",
    "        \n",
    "        return self._temp(z)\n",
    "    \n",
    "    @ureg.wraps(ureg.m/ureg.s, (None, ureg.m), strict=False)\n",
    "    def get_speed_of_sound(self, z):\n",
    "        \n",
    "        return self._speed_of_sound(z)\n",
    "        \n",
    "\n",
    "    \n",
    "    \n",
    "    def frozen_wind(t, state):\n",
    "        \n",
    "        # function to describe the wind vector (in earth frame) as a function of time or state\n",
    "        return np.array([1,0,0])\n",
    "    \n",
    "    "
   ]
  },
  {
   "cell_type": "code",
   "execution_count": null,
   "metadata": {},
   "outputs": [],
   "source": []
  },
  {
   "cell_type": "code",
   "execution_count": 9,
   "metadata": {},
   "outputs": [],
   "source": [
    "class State():\n",
    "    \n",
    "    def __init__(self, pos, quaternion, lin_mom, ang_mom, mass):\n",
    "        \n",
    "        self.pos = pos\n",
    "        self.quat = quaternion\n",
    "        self.lin_mom = lin_mom\n",
    "        self.ang_mom = ang_mom\n",
    "        self.mass = mass\n",
    "        \n",
    "    def vector(self):\n",
    "        \n",
    "        state = [si(self.pos), si(self.quat), si(self.lin_mom), si(self.ang_mom), si(self.mass)] \n",
    "\n",
    "        return np.hstack(state)\n",
    "    \n",
    "    @classmethod\n",
    "    def extract(cls, state):\n",
    "        \n",
    "        pos = state[0:3] * ureg.m\n",
    "        quat = rp.Quaternion(*state[3:7])\n",
    "        lin_mom = state[7:10] * ureg.kg*ureg.m/ureg.s\n",
    "        ang_mom = state[10:13] * ureg.kg*ureg.m**2/ureg.s\n",
    "        mass = state[13] * ureg.kg\n",
    "        \n",
    "        return cls(pos, quat, lin_mom, ang_mom, mass)\n",
    "    \n",
    "    @classmethod\n",
    "    def split(cls, state_vector):\n",
    "        \n",
    "        pos = state_vector[0:3]\n",
    "        quat = rp.Quaternion(*state_vector[3:7])\n",
    "        lin_mom = state_vector[7:10]\n",
    "        ang_mom = state_vector[10:13]\n",
    "        mass = state_vector[13]\n",
    "        \n",
    "        return (pos, quat, lin_mom, ang_mom, mass)\n",
    "    \n",
    "\n",
    "    \n",
    "    def __repr__(self):\n",
    "    \n",
    "        s  = 'State: \\n'\n",
    "        s += 'Pos:     ' + str(self.pos)  + '\\n'\n",
    "        s += 'Quat:    ' + str(self.quat) + '\\n'\n",
    "        s += 'Lin mom: ' + str(self.lin_mom) + '\\n'\n",
    "        s += 'Ang mom: ' + str(self.ang_mom) + '\\n'\n",
    "        s += 'Mass:    ' + str(self.mass)\n",
    "        \n",
    "        return s\n",
    "    \n",
    "        \n",
    "        "
   ]
  },
  {
   "cell_type": "code",
   "execution_count": null,
   "metadata": {},
   "outputs": [],
   "source": []
  },
  {
   "cell_type": "code",
   "execution_count": null,
   "metadata": {},
   "outputs": [],
   "source": []
  },
  {
   "cell_type": "code",
   "execution_count": 10,
   "metadata": {},
   "outputs": [],
   "source": [
    "class ConstantWind():\n",
    "\n",
    "    def __init__(self, wind_speed = 5 * ureg.m/ureg.s):\n",
    "        \n",
    "        self.wind_speed_0 = wind_speed\n",
    "        self.si_wind_speed = si(wind_speed)\n",
    "        \n",
    "    def vector(self, t=None, pos=None):\n",
    "        \n",
    "        return np.array([0, self.si_wind_speed, 0])\n",
    "    \n",
    "  "
   ]
  },
  {
   "cell_type": "code",
   "execution_count": null,
   "metadata": {},
   "outputs": [],
   "source": []
  },
  {
   "cell_type": "code",
   "execution_count": 90,
   "metadata": {},
   "outputs": [],
   "source": [
    "class Simulation():\n",
    "    \n",
    "    def __init__(self, rocket, environment):\n",
    "        \n",
    "        self.rocket = rocket\n",
    "        self.env = environment\n",
    "        \n",
    "        self.ref_axis_R = np.array([1,0,0]) # roll axis\n",
    "        self.ref_axis_P = np.array([0,1,0]) # pitch axis\n",
    "        self.ref_axis_Y = np.array([0,0,1]) # yaw axis\n",
    "        \n",
    "        self.L_rocket = si(self.rocket.length())\n",
    "        self.A_ref = si(self.rocket.A_ref)\n",
    "            \n",
    "            \n",
    "        return\n",
    "\n",
    "        \n",
    "    \n",
    "    def dynamics(self, time, state, control, wind):\n",
    "        \n",
    "        # everything here is assumed to be in si units\n",
    "        \n",
    "        L_rocket = self.L_rocket\n",
    "        A_ref = self.A_ref\n",
    "        \n",
    "        # extract state\n",
    "        if type(state) is State:\n",
    "            pos = si(state.pos)\n",
    "            quat = state.quat\n",
    "            lin_mom = si(state.lin_mom)\n",
    "            ang_mom = si(state.ang_mom)\n",
    "            mass = si(state.mass)\n",
    "        \n",
    "        pos, quat, lin_mom, ang_mom, mass = State.split(state)\n",
    "        \n",
    "        # extract extra stuff\n",
    "        R = quat.rot_matrix()\n",
    "        RA = unit_vector(R @ self.ref_axis_R) # roll axis\n",
    "        \n",
    "        inertia_matrix, inv_inertia_matrix = self.rocket.inertia_matrix(mass, with_inverse=True) # get the inertia matrix for a given total rocket mass\n",
    "        \n",
    "        # linear velocity\n",
    "        lin_vel = lin_mom / mass\n",
    "        \n",
    "        # angular velocity\n",
    "        \n",
    "        ang_vel = R @ inv_inertia_matrix @ R.T @ ang_mom\n",
    "        \n",
    "        # rate of change of quaterinon \n",
    "        qdot = self.get_qdot(quat, lin_vel, ang_vel)\n",
    "        \n",
    "        # get wind speed\n",
    "        w = wind.vector(time, pos)\n",
    "        \n",
    "        # calculate angle of attack\n",
    "        V_cm = lin_vel + w\n",
    "        \n",
    "        \n",
    "        # calculate all these parameters, automatically performing convergence as necessary\n",
    "        alpha, re, mach, xbar, V_omega, V_infty = self.calc_parameters_converged(V_cm, R, RA, pos, mass, ang_vel)\n",
    "        \n",
    "        #TODO (medium): calc fin roll torque\n",
    "        \n",
    "        z = pos[2]\n",
    "        qinf, Re, Ma = self.calc_q_Re_Ma(V_infty, z)\n",
    "        \n",
    "        # compute forces\n",
    "        F_thrust_mag, m_dot = control(time, state)\n",
    "        F_thrust = -F_thrust_mag * RA\n",
    "        \n",
    "        F_gravity = np.array([0, 0, -mass*self.env.g_0_si])\n",
    "        \n",
    "        CA = si(self.rocket.CA(alpha=alpha, Re=Re, Mach=Ma))\n",
    "        CN = si(self.rocket.CN(alpha=alpha, Re=Re, Mach=Ma))\n",
    "        \n",
    "        F_axial  = - (qinf * CA * A_ref)\n",
    "        F_axial_vec = F_axial * RA\n",
    "        F_normal = (qinf * CN * A_ref)\n",
    "        F_normal_vec = F_normal * np.cross(RA, np.cross(RA, V_infty))\n",
    "        \n",
    "        F_total = F_thrust + F_gravity + F_axial_vec + F_normal_vec\n",
    "        \n",
    "        # get torques\n",
    "        \n",
    "        normal_moment_arm = si(self.rocket.xcp(alpha=alpha*ureg.rad, Re=Re, Mach=Ma) - self.rocket.xcg(mass=mass))\n",
    "        \n",
    "        torque_normal = - F_normal * normal_moment_arm * np.cross(RA, V_infty)\n",
    "        \n",
    "        # todo (medium): account for thrust damping, roll torque from fins\n",
    "        \n",
    "        torque_total = torque_normal\n",
    "        \n",
    "        \n",
    "        return np.hstack([lin_vel, qdot, F_total, torque_total, m_dot])\n",
    "\n",
    "\n",
    "    def concise_dynamics(self, time, state):\n",
    "        \n",
    "        #determine controls\n",
    "        \n",
    "        # convert vector into state object\n",
    "        sv = State.extract(state)\n",
    "        \n",
    "        wind = self.env.wind\n",
    "        \n",
    "        dyn = self.dynamics(time=time, state=sv, control=self.control_law, wind=wind)\n",
    "        \n",
    "        return dyn\n",
    "\n",
    "        \n",
    "        \n",
    "    \n",
    "    def calc_parameters_converged(self, V_cm, R, RA, pos, mass, ang_vel):\n",
    "        \n",
    "        if la.norm(ang_vel) < 0.1:\n",
    "            \n",
    "            return self.calc_parameters(V_cm, V_cm, R, RA, pos, mass, ang_vel)\n",
    "\n",
    "        else:\n",
    "            #calculate using V_cm\n",
    "            alpha_old, re, mach, xbar, V_omega, V_infty = self.calc_parameters(V_cm, V_cm, R, RA, pos, mass, ang_vel)\n",
    "\n",
    "            # calculate new alpha\n",
    "            alpha, re, mach, xbar, V_omega, V_infty = self.calc_parameters(V_infty, V_cm, R, RA, pos, mass, ang_vel)\n",
    "\n",
    "\n",
    "            # if the difference is large, re-estimate\n",
    "            while abs(alpha_old - alpha) > 1e-6:\n",
    "\n",
    "                alpha_old = alpha\n",
    "                alpha, re, mach, xbar, V_omega, V_infty = self.calc_parameters(V_infty, V_cm, R, RA, pos, mass, ang_vel)\n",
    "\n",
    "        return alpha, re, mach, xbar, V_omega, V_infty \n",
    "\n",
    "    \n",
    "    def calc_parameters(self, V_infty, V_cm, R, RA, pos, mass, ang_vel):\n",
    "        # note, V_infty here is a guess, but the corrected value comes out of the function\n",
    "            \n",
    "        alpha = self.calc_alpha(V_infty, RA) #using V_cm as an approximation for V_infty\n",
    "        \n",
    "        z = pos[2]\n",
    "        q, re, mach = self.calc_q_Re_Ma(la.norm(V_infty), z)\n",
    "\n",
    "        xbar = abs((self.rocket.xcp(alpha, re, mach) - self.rocket.xcg(mass*ureg.kg)).m_as(ureg.m))\n",
    "        \n",
    "        V_omega = xbar * np.cross(RA, ang_vel)# linear speed at the center of pressure due to the rotation rate of the rocket\n",
    "\n",
    "        V_infty = V_cm + V_omega\n",
    "\n",
    "        return alpha, re, mach, xbar, V_omega, V_infty\n",
    "\n",
    "    def calc_q_Re_Ma(self, Vinf, z):\n",
    "        \"\"\"Calculate reynolds number for a given vinf and altitude z\"\"\"\n",
    "        \n",
    "        rho = self.env._rho(z)\n",
    "        mu  = self.env._mu(z)\n",
    "        a = self.env._speed_of_sound(z)\n",
    "        \n",
    "        L_rocket = self.L_rocket\n",
    "        \n",
    "        V = (la.norm(Vinf))\n",
    "        qinf = 0.5 * rho * V**2\n",
    "        Re = rho*V*L_rocket/mu\n",
    "        Ma = V/a\n",
    "        \n",
    "        return qinf, Re, Ma\n",
    "    \n",
    "    def calc_alpha(self, Vinf, RA):\n",
    "        \"\"\"Calc alpha for a given wind speed Vinf and roll axis RA\"\"\"\n",
    "        \n",
    "        return angle_between(Vinf, RA)\n",
    "\n",
    "        \n",
    "    def get_qdot(self, quat, lin_vel, ang_vel):\n",
    "        \"\"\"Compute the rate of change of the quaternion\"\"\"\n",
    "        s = float(quat.q[0])\n",
    "        sdot = 0.5 * ang_vel.T @ lin_vel\n",
    "        vdot = 0.5 * s * ang_vel + np.cross(ang_vel, ang_vel)\n",
    "        \n",
    "        qdot =  np.hstack([sdot, vdot])\n",
    "        return qdot"
   ]
  },
  {
   "cell_type": "code",
   "execution_count": 91,
   "metadata": {},
   "outputs": [],
   "source": [
    "env=Environment()\n",
    "\n",
    "# define wind model\n",
    "wind_constant = ConstantWind(0*ureg.m/ureg.s)      \n",
    "env.wind = wind_constant"
   ]
  },
  {
   "cell_type": "code",
   "execution_count": 92,
   "metadata": {},
   "outputs": [],
   "source": [
    "pos0 = np.array([0,0,0])*ureg.m\n",
    "quat0 = rp.Quaternion.from_angle(86*ureg.degree, [0, 1, 0])\n",
    "lin_mom0 = np.array([0,0,0.1])*ureg.kg*ureg.m/ureg.s\n",
    "ang_mom0 = np.array([0,0,0])*ureg.kg*ureg.m**2/ureg.s\n",
    "mass0 = 40*ureg.kg\n",
    "\n",
    "state0 = State(pos0, quat0, lin_mom0, ang_mom0, mass0)"
   ]
  },
  {
   "cell_type": "code",
   "execution_count": 93,
   "metadata": {},
   "outputs": [
    {
     "data": {
      "text/plain": [
       "State: \n",
       "Pos:     [0 0 0] meter\n",
       "Quat:    [0.7313537  0.         0.68199836 0.        ]\n",
       "Lin mom: [0.0 0.0 0.1] kilogram * meter / second\n",
       "Ang mom: [0.0 0.0 0.0] kilogram * meter ** 2 / second\n",
       "Mass:    40 kilogram"
      ]
     },
     "execution_count": 93,
     "metadata": {},
     "output_type": "execute_result"
    }
   ],
   "source": [
    "state0"
   ]
  },
  {
   "cell_type": "code",
   "execution_count": 94,
   "metadata": {},
   "outputs": [
    {
     "data": {
      "text/plain": [
       "[array([0, 0, 0]), array([0.7313537 , 0.        , 0.68199836, 0.        ])]"
      ]
     },
     "execution_count": 94,
     "metadata": {},
     "output_type": "execute_result"
    }
   ],
   "source": [
    "[si(pos0), si(quat0)]"
   ]
  },
  {
   "cell_type": "code",
   "execution_count": 95,
   "metadata": {
    "scrolled": true
   },
   "outputs": [
    {
     "data": {
      "text/plain": [
       "array([ 0.        ,  0.        ,  0.        ,  0.7313537 ,  0.        ,\n",
       "        0.68199836,  0.        ,  0.        ,  0.        ,  0.1       ,\n",
       "        0.        ,  0.        ,  0.        , 40.        ])"
      ]
     },
     "execution_count": 95,
     "metadata": {},
     "output_type": "execute_result"
    }
   ],
   "source": [
    "sv_0=state0.vector()\n",
    "sv_0"
   ]
  },
  {
   "cell_type": "code",
   "execution_count": 96,
   "metadata": {},
   "outputs": [],
   "source": [
    "def thrust_curve_simple_burn(time, state):\n",
    "    if time < 3:\n",
    "        T = 1500\n",
    "        c = 2000\n",
    "        mdot = -T/c\n",
    "        return T, mdot \n",
    "    else:\n",
    "        return 0., 0"
   ]
  },
  {
   "cell_type": "code",
   "execution_count": 97,
   "metadata": {},
   "outputs": [],
   "source": [
    "sim = Simulation(r, env)"
   ]
  },
  {
   "cell_type": "code",
   "execution_count": 98,
   "metadata": {},
   "outputs": [],
   "source": [
    "sim.control_law = thrust_curve_simple_burn"
   ]
  },
  {
   "cell_type": "code",
   "execution_count": 99,
   "metadata": {
    "scrolled": true
   },
   "outputs": [
    {
     "data": {
      "text/plain": [
       "State: \n",
       "Pos:     [0 0 0] meter\n",
       "Quat:    [0.7313537  0.         0.68199836 0.        ]\n",
       "Lin mom: [0.0 0.0 0.1] kilogram * meter / second\n",
       "Ang mom: [0.0 0.0 0.0] kilogram * meter ** 2 / second\n",
       "Mass:    40 kilogram"
      ]
     },
     "execution_count": 99,
     "metadata": {},
     "output_type": "execute_result"
    }
   ],
   "source": [
    "state0"
   ]
  },
  {
   "cell_type": "code",
   "execution_count": 100,
   "metadata": {},
   "outputs": [
    {
     "data": {
      "text/plain": [
       "array([[ 0.06975647,  0.        ,  0.99756405],\n",
       "       [ 0.        ,  1.        ,  0.        ],\n",
       "       [-0.99756405,  0.        ,  0.06975647]])"
      ]
     },
     "execution_count": 100,
     "metadata": {},
     "output_type": "execute_result"
    }
   ],
   "source": [
    "state0.quat.rot_matrix()"
   ]
  },
  {
   "cell_type": "code",
   "execution_count": null,
   "metadata": {},
   "outputs": [],
   "source": []
  },
  {
   "cell_type": "code",
   "execution_count": 101,
   "metadata": {
    "scrolled": true
   },
   "outputs": [
    {
     "data": {
      "text/plain": [
       "array([ 0.00000000e+00,  0.00000000e+00,  2.50000000e-03,  0.00000000e+00,\n",
       "        0.00000000e+00,  0.00000000e+00,  0.00000000e+00, -1.04634707e+02,\n",
       "        0.00000000e+00,  1.10408002e+03,  0.00000000e+00, -1.01125010e-10,\n",
       "        0.00000000e+00, -7.50000000e-01])"
      ]
     },
     "execution_count": 101,
     "metadata": {},
     "output_type": "execute_result"
    }
   ],
   "source": [
    "dyn=sim.dynamics(time=0,state=state0.vector(), control=thrust_curve_simple_burn, wind=wind_constant)\n",
    "dyn"
   ]
  },
  {
   "cell_type": "code",
   "execution_count": 102,
   "metadata": {},
   "outputs": [
    {
     "data": {
      "text/plain": [
       "State: \n",
       "Pos:     [0.0 0.0 0.0025] meter\n",
       "Quat:    [0. 0. 0. 0.]\n",
       "Lin mom: [-104.63470665355477 0.0 1104.0800186983317] kilogram * meter / second\n",
       "Ang mom: [0.0 -1.0112500967214171e-10 0.0] kilogram * meter ** 2 / second\n",
       "Mass:    -0.75 kilogram"
      ]
     },
     "execution_count": 102,
     "metadata": {},
     "output_type": "execute_result"
    }
   ],
   "source": [
    "State.extract(dyn)"
   ]
  },
  {
   "cell_type": "code",
   "execution_count": 103,
   "metadata": {},
   "outputs": [
    {
     "data": {
      "text/html": [
       "\\[0.0\\ meter/second\\]"
      ],
      "text/latex": [
       "$0.0\\ \\frac{\\mathrm{meter}}{\\mathrm{second}}$"
      ],
      "text/plain": [
       "0.0 <Unit('meter / second')>"
      ]
     },
     "execution_count": 103,
     "metadata": {},
     "output_type": "execute_result"
    }
   ],
   "source": [
    "wind_constant.wind_speed_0"
   ]
  },
  {
   "cell_type": "code",
   "execution_count": 104,
   "metadata": {
    "scrolled": true
   },
   "outputs": [
    {
     "data": {
      "text/plain": [
       "array([ 0.00000000e+00,  0.00000000e+00,  2.50000000e-03,  0.00000000e+00,\n",
       "        0.00000000e+00,  0.00000000e+00,  0.00000000e+00, -1.04634707e+02,\n",
       "        0.00000000e+00,  1.10408002e+03,  0.00000000e+00, -1.01125010e-10,\n",
       "        0.00000000e+00, -7.50000000e-01])"
      ]
     },
     "execution_count": 104,
     "metadata": {},
     "output_type": "execute_result"
    }
   ],
   "source": [
    "sim.dynamics(0, state0.vector(), thrust_curve_simple_burn, wind_constant)"
   ]
  },
  {
   "cell_type": "code",
   "execution_count": 105,
   "metadata": {},
   "outputs": [
    {
     "data": {
      "text/plain": [
       "14"
      ]
     },
     "execution_count": 105,
     "metadata": {},
     "output_type": "execute_result"
    }
   ],
   "source": [
    "len(sv_0)"
   ]
  },
  {
   "cell_type": "code",
   "execution_count": 106,
   "metadata": {},
   "outputs": [
    {
     "data": {
      "text/plain": [
       "array([ 0.00000000e+00,  0.00000000e+00,  2.50000000e-03,  0.00000000e+00,\n",
       "        0.00000000e+00,  0.00000000e+00,  0.00000000e+00, -1.04634707e+02,\n",
       "        0.00000000e+00,  1.10408002e+03,  0.00000000e+00, -1.01125010e-10,\n",
       "        0.00000000e+00, -7.50000000e-01])"
      ]
     },
     "execution_count": 106,
     "metadata": {},
     "output_type": "execute_result"
    }
   ],
   "source": [
    "sim.dynamics(0, sv_0, thrust_curve_simple_burn, wind_constant)"
   ]
  },
  {
   "cell_type": "code",
   "execution_count": 107,
   "metadata": {},
   "outputs": [
    {
     "data": {
      "text/plain": [
       "14"
      ]
     },
     "execution_count": 107,
     "metadata": {},
     "output_type": "execute_result"
    }
   ],
   "source": [
    "len(sim.dynamics(0, sv_0, thrust_curve_simple_burn, wind_constant))"
   ]
  },
  {
   "cell_type": "code",
   "execution_count": 108,
   "metadata": {},
   "outputs": [
    {
     "data": {
      "text/plain": [
       "array([ 0.        ,  0.        ,  0.        ,  0.7313537 ,  0.        ,\n",
       "        0.68199836,  0.        ,  0.        ,  0.        ,  0.1       ,\n",
       "        0.        ,  0.        ,  0.        , 40.        ])"
      ]
     },
     "execution_count": 108,
     "metadata": {},
     "output_type": "execute_result"
    }
   ],
   "source": [
    "state0.vector()"
   ]
  },
  {
   "cell_type": "code",
   "execution_count": 109,
   "metadata": {},
   "outputs": [
    {
     "data": {
      "text/plain": [
       "<__main__.ConstantWind at 0x121fc7550>"
      ]
     },
     "execution_count": 109,
     "metadata": {},
     "output_type": "execute_result"
    }
   ],
   "source": [
    "wind_constant"
   ]
  },
  {
   "cell_type": "code",
   "execution_count": null,
   "metadata": {},
   "outputs": [],
   "source": [
    "sol = spint.solve_ivp(sim.dynamics, [0,5], state0.vector(), args = (thrust_curve_simple_burn, wind_constant))"
   ]
  },
  {
   "cell_type": "code",
   "execution_count": null,
   "metadata": {},
   "outputs": [],
   "source": []
  },
  {
   "cell_type": "code",
   "execution_count": null,
   "metadata": {},
   "outputs": [],
   "source": [
    "sol"
   ]
  },
  {
   "cell_type": "code",
   "execution_count": null,
   "metadata": {},
   "outputs": [],
   "source": [
    "pos_sol = sol.y[0:3][:]"
   ]
  },
  {
   "cell_type": "code",
   "execution_count": null,
   "metadata": {},
   "outputs": [],
   "source": [
    "pos_sol"
   ]
  },
  {
   "cell_type": "code",
   "execution_count": null,
   "metadata": {},
   "outputs": [],
   "source": [
    "plt.plot(pos_sol[0][:], pos_sol[2][:])\n",
    "ax=plt.gca()\n",
    "ax.set_aspect(1)"
   ]
  },
  {
   "cell_type": "code",
   "execution_count": null,
   "metadata": {},
   "outputs": [],
   "source": [
    "plt.plot(sol.t, pos_sol.T)"
   ]
  },
  {
   "cell_type": "code",
   "execution_count": null,
   "metadata": {},
   "outputs": [],
   "source": []
  },
  {
   "cell_type": "code",
   "execution_count": null,
   "metadata": {},
   "outputs": [],
   "source": [
    "\n",
    "(r.xcp(Mach=0) - r.xcg())"
   ]
  },
  {
   "cell_type": "code",
   "execution_count": null,
   "metadata": {},
   "outputs": [],
   "source": [
    "r.CA(alpha=0*ureg.rad, Re=1000000.0, Mach=0.3)"
   ]
  },
  {
   "cell_type": "code",
   "execution_count": null,
   "metadata": {},
   "outputs": [],
   "source": [
    "R @ la.inv(im)"
   ]
  },
  {
   "cell_type": "code",
   "execution_count": null,
   "metadata": {},
   "outputs": [],
   "source": [
    "float(state0.quat.q[0])"
   ]
  },
  {
   "cell_type": "code",
   "execution_count": null,
   "metadata": {},
   "outputs": [],
   "source": [
    "r.inertia_matrix()"
   ]
  },
  {
   "cell_type": "code",
   "execution_count": null,
   "metadata": {},
   "outputs": [],
   "source": [
    "import scipy.integrate as spint"
   ]
  },
  {
   "cell_type": "code",
   "execution_count": null,
   "metadata": {},
   "outputs": [],
   "source": [
    "state = np.array([0, 3])"
   ]
  },
  {
   "cell_type": "code",
   "execution_count": null,
   "metadata": {},
   "outputs": [],
   "source": [
    "x, y = state"
   ]
  },
  {
   "cell_type": "code",
   "execution_count": null,
   "metadata": {},
   "outputs": [],
   "source": []
  },
  {
   "cell_type": "code",
   "execution_count": null,
   "metadata": {},
   "outputs": [],
   "source": [
    "def dynamics(state, control, time):\n",
    "    # extract\n",
    "    x, xd = state\n",
    "    u = control\n",
    "    \n",
    "    # compute dynamics\n",
    "    xdd = u\n",
    "    \n",
    "    return np.array([xd, xdd])"
   ]
  },
  {
   "cell_type": "code",
   "execution_count": null,
   "metadata": {},
   "outputs": [],
   "source": [
    "def control(state, time):\n",
    "    \n",
    "    x, xd = state\n",
    "    u = -0.1*(x-5) -0.1*xd\n",
    "        \n",
    "    return u"
   ]
  },
  {
   "cell_type": "code",
   "execution_count": null,
   "metadata": {},
   "outputs": [],
   "source": []
  },
  {
   "cell_type": "code",
   "execution_count": null,
   "metadata": {},
   "outputs": [],
   "source": [
    "def concise_dynamics(time, state):\n",
    "    \n",
    "    u = control(state, time)\n",
    "    \n",
    "    dyn = dynamics(state, u, time)\n",
    "    \n",
    "    return dyn\n",
    "    "
   ]
  },
  {
   "cell_type": "code",
   "execution_count": null,
   "metadata": {},
   "outputs": [],
   "source": [
    "concise_dynamics(0, np.array([5,6]))"
   ]
  },
  {
   "cell_type": "code",
   "execution_count": null,
   "metadata": {},
   "outputs": [],
   "source": [
    "state0 = np.array([0, 0])"
   ]
  },
  {
   "cell_type": "code",
   "execution_count": null,
   "metadata": {},
   "outputs": [],
   "source": [
    "sol1=spint.solve_ivp(concise_dynamics, (0, 100), state0, max_step=0.1)\n",
    "sol2=spint.solve_ivp(concise_dynamics, (0, 100), state0, max_step=1)\n",
    "sol3=spint.solve_ivp(concise_dynamics, (0, 100), state0)"
   ]
  },
  {
   "cell_type": "code",
   "execution_count": null,
   "metadata": {},
   "outputs": [],
   "source": [
    "sol"
   ]
  },
  {
   "cell_type": "code",
   "execution_count": null,
   "metadata": {},
   "outputs": [],
   "source": [
    "plt.plot(sol.t, sol.y[1,:])"
   ]
  },
  {
   "cell_type": "code",
   "execution_count": null,
   "metadata": {},
   "outputs": [],
   "source": [
    "plt.plot(sol.t, sol.y[0,:],'x')"
   ]
  },
  {
   "cell_type": "code",
   "execution_count": null,
   "metadata": {},
   "outputs": [],
   "source": [
    "plt.plot(np.diff(sol.t))"
   ]
  },
  {
   "cell_type": "code",
   "execution_count": null,
   "metadata": {},
   "outputs": [],
   "source": []
  },
  {
   "cell_type": "code",
   "execution_count": null,
   "metadata": {},
   "outputs": [],
   "source": [
    "plt.plot(sol1.t, sol1.y[0])\n",
    "plt.plot(sol2.t, sol2.y[0])\n",
    "plt.plot(sol3.t, sol3.y[0])"
   ]
  },
  {
   "cell_type": "code",
   "execution_count": null,
   "metadata": {},
   "outputs": [],
   "source": [
    "plt.plot(np.diff(sol1.t))\n",
    "plt.plot(np.diff(sol2.t))\n",
    "plt.plot(np.diff(sol3.t))"
   ]
  },
  {
   "cell_type": "code",
   "execution_count": null,
   "metadata": {},
   "outputs": [],
   "source": []
  },
  {
   "cell_type": "code",
   "execution_count": null,
   "metadata": {},
   "outputs": [],
   "source": []
  }
 ],
 "metadata": {
  "kernelspec": {
   "display_name": "rocketPy",
   "language": "python",
   "name": "rocketpy"
  },
  "language_info": {
   "codemirror_mode": {
    "name": "ipython",
    "version": 3
   },
   "file_extension": ".py",
   "mimetype": "text/x-python",
   "name": "python",
   "nbconvert_exporter": "python",
   "pygments_lexer": "ipython3",
   "version": "3.6.7"
  }
 },
 "nbformat": 4,
 "nbformat_minor": 2
}
