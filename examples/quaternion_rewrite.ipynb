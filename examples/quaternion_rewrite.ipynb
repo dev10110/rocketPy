{
 "cells": [
  {
   "cell_type": "code",
   "execution_count": 1,
   "metadata": {},
   "outputs": [],
   "source": [
    "import numpy as np"
   ]
  },
  {
   "cell_type": "code",
   "execution_count": 59,
   "metadata": {},
   "outputs": [],
   "source": [
    "\n",
    "class Quaternion(np.ndarray):\n",
    "    \"\"\"Only works with unit quaternions (as needed to describe rotations)\"\"\"\n",
    "    \n",
    "    def __new__(cls, input_array=[0.,1.,0.,0.]):\n",
    "        \"\"\"By default works with 0 rotation about x axis\"\"\"\n",
    "        input_array = np.array(input_array)/np.linalg.norm(input_array)\n",
    "        \n",
    "        obj = np.asarray(input_array).view(cls)\n",
    "        \n",
    "        return obj\n",
    "    \n",
    "    def __array__finalize(self, obj):\n",
    "        pass\n",
    "\n",
    "    \n",
    "    @classmethod\n",
    "    def from_angle(cls, theta, axis):\n",
    "        \"\"\"A rotation of angle `theta` about the axis `ax, ay, az`. Allows the axis to be not normalized\"\"\"\n",
    "\n",
    "        axis = np.array(axis)/np.linalg.norm(axis)\n",
    "\n",
    "        s = np.cos(theta / 2)\n",
    "        v = np.sin(theta / 2) * axis\n",
    "\n",
    "        return cls([s, *v])\n",
    "\n",
    "    def normalize(self):\n",
    "        \"\"\"Convert quaternion to unit vector\"\"\"\n",
    "        \n",
    "        self/np.linalg.norm(self)\n",
    "        \n",
    "    def rot_matrix(self):\n",
    "        \"\"\"Generate a rotation matrix\"\"\"\n",
    "\n",
    "        R = np.array([[1 - 2 * self[2]**2 - 2 * self[3]**2,\n",
    "                       2 * self[1] * self[2] - 2 * self[0] * self[3],\n",
    "                       2 * self[1] * self[3] + 2 * self[0] * self[2]],\n",
    "                [2 * self[1] * self[2] + 2 * self[0] * self[3],\n",
    "                 1 - 2 * self[1]**2 - 2 * self[3]**2,\n",
    "                 2 * self[2] * self[3] - 2 * self[0] * self[1]],\n",
    "                [2 * self[1] * self[3] - 2 * self[0] * self[2],\n",
    "                 2 * self[2] * self[3] + 2 * self[0] * self[1],\n",
    "                 1 - 2 * self[1]**2 - 2 * self[2]**2]])\n",
    "\n",
    "        return R\n",
    "\n",
    "    def rate_of_change(self, omega):\n",
    "        \"\"\"Return the rate of change of the quaternion based on an angular velocity\"\"\"\n",
    "        \n",
    "        # follows the formulation in Box\n",
    "        # note that there are other methods, which may be more accurate\n",
    "        \n",
    "        omega = np.array(omega)\n",
    "        \n",
    "        s = self[0]\n",
    "        v = np.array(self[1:])\n",
    "\n",
    "        sdot = - 0.5 * (omega @ v) # mistake in Box eqn 7 (based on https://www.sciencedirect.com/topics/computer-science/quaternion-multiplication and http://web.cs.iastate.edu/~cs577/handouts/quaternion.pdf)\n",
    "        vdot = 0.5 * (s * omega + np.cross(omega, v))\n",
    "\n",
    "        # returns a quaternion object as a rate of change is really just a quaternion\n",
    "        return Quaternion([sdot, *vdot])\n",
    "    \n",
    "    def __mul__(self, other):\n",
    "        raise NotImplementedError\n"
   ]
  },
  {
   "cell_type": "code",
   "execution_count": 51,
   "metadata": {},
   "outputs": [
    {
     "data": {
      "text/plain": [
       "Quaternion([0., 1., 0., 0.])"
      ]
     },
     "execution_count": 51,
     "metadata": {},
     "output_type": "execute_result"
    }
   ],
   "source": [
    "q = Quaternion()\n",
    "q"
   ]
  },
  {
   "cell_type": "code",
   "execution_count": 52,
   "metadata": {},
   "outputs": [
    {
     "data": {
      "text/plain": [
       "array([[ 1.,  0.,  0.],\n",
       "       [ 0., -1.,  0.],\n",
       "       [ 0.,  0., -1.]])"
      ]
     },
     "execution_count": 52,
     "metadata": {},
     "output_type": "execute_result"
    }
   ],
   "source": [
    "q.rot_matrix()"
   ]
  },
  {
   "cell_type": "code",
   "execution_count": 57,
   "metadata": {},
   "outputs": [
    {
     "data": {
      "text/plain": [
       "Quaternion([-0.        ,  0.        ,  0.70710678, -0.70710678])"
      ]
     },
     "execution_count": 57,
     "metadata": {},
     "output_type": "execute_result"
    }
   ],
   "source": [
    "q.rate_of_change(omega=[0.,1,1])"
   ]
  },
  {
   "cell_type": "code",
   "execution_count": 54,
   "metadata": {},
   "outputs": [
    {
     "data": {
      "text/plain": [
       "0.0"
      ]
     },
     "execution_count": 54,
     "metadata": {},
     "output_type": "execute_result"
    }
   ],
   "source": [
    "[0,1,1] @ np.array(q[1:])"
   ]
  },
  {
   "cell_type": "code",
   "execution_count": 55,
   "metadata": {},
   "outputs": [
    {
     "data": {
      "text/plain": [
       "0.0"
      ]
     },
     "execution_count": 55,
     "metadata": {},
     "output_type": "execute_result"
    }
   ],
   "source": [
    "q[0]"
   ]
  },
  {
   "cell_type": "code",
   "execution_count": null,
   "metadata": {},
   "outputs": [],
   "source": []
  }
 ],
 "metadata": {
  "kernelspec": {
   "display_name": "rocketPy",
   "language": "python",
   "name": "rocketpy"
  },
  "language_info": {
   "codemirror_mode": {
    "name": "ipython",
    "version": 3
   },
   "file_extension": ".py",
   "mimetype": "text/x-python",
   "name": "python",
   "nbconvert_exporter": "python",
   "pygments_lexer": "ipython3",
   "version": "3.6.7"
  }
 },
 "nbformat": 4,
 "nbformat_minor": 2
}
