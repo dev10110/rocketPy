{
 "cells": [
  {
   "cell_type": "code",
   "execution_count": 1,
   "metadata": {},
   "outputs": [],
   "source": [
    "import numpy as np\n",
    "import unyt as u\n",
    "from rocketPy import Quaternion"
   ]
  },
  {
   "cell_type": "code",
   "execution_count": 2,
   "metadata": {},
   "outputs": [],
   "source": [
    "class State(np.ndarray):\n",
    "\n",
    "    def __new__(cls, input_array):\n",
    "        # Input array is an already formed ndarray instance\n",
    "        # We first cast to be our class type\n",
    "        obj = np.asarray(input_array).view(cls)\n",
    "        # add the new attribute to the created instance\n",
    "        \n",
    "        # Finally, we must return the newly created object:\n",
    "        return obj\n",
    "\n",
    "    def __array_finalize__(self, obj):\n",
    "        # see InfoArray.__array_finalize__ for comments\n",
    "        #if obj is None: return\n",
    "        pass\n",
    "    \n",
    "    @classmethod\n",
    "    def zero(cls):\n",
    "        s = cls(np.zeros(14)) # create a state object\n",
    "        s.quat = [0,1,0,0]\n",
    "        return s\n",
    "    \n",
    "    def get_mass(self):\n",
    "        return self[0]\n",
    "    \n",
    "    def set_mass(self, mass):\n",
    "        self[0] = mass\n",
    "        \n",
    "    mass = property(get_mass, set_mass)\n",
    "        \n",
    "    def get_pos(self):\n",
    "        return self[1:4]\n",
    "    \n",
    "    def set_pos(self, pos):\n",
    "        self[1:4] = pos\n",
    "        \n",
    "    pos = property(get_pos, set_pos)\n",
    "    \n",
    "    def get_mom(self):\n",
    "        return self[4:7]\n",
    "    \n",
    "    def set_mom(self, mom):\n",
    "        self[4:7] = mom\n",
    "        \n",
    "    lin_mom = property(get_mom, set_mom)\n",
    "    \n",
    "    def get_quat(self):\n",
    "        return Quaternion(*self[7:11])\n",
    "    \n",
    "    def set_quat(self, quat):\n",
    "        if isinstance(quat, Quaternion):\n",
    "            self[7:11] = quat.q\n",
    "        else:\n",
    "            self[7:11] = quat # as if it were a simple numpy array\n",
    "        \n",
    "    quat = property(get_quat, set_quat)\n",
    "    \n",
    "    def get_ang_mom(self):\n",
    "        return self[11:14]\n",
    "    \n",
    "    def set_ang_mom(self, ang_mom):\n",
    "        self[11:14] = ang_mom\n",
    "        \n",
    "    ang_mom = property(get_ang_mom, set_ang_mom)\n",
    "    \n",
    "    def __str__(self):\n",
    "        if len(self)==14:\n",
    "            s = f\"State:\\n mass={self[0]} \\n position={self[1:4]} \\n lin_mom={self[4:7]} \\n quat={self[7:11]} \\n ang_mom={self[11:14]} \\n\"\n",
    "        else:\n",
    "            s = self.__repr__()\n",
    "        return s\n",
    "    "
   ]
  },
  {
   "cell_type": "code",
   "execution_count": 3,
   "metadata": {},
   "outputs": [],
   "source": [
    "q = Quaternion.from_angle(3*np.pi/180, [0,0,1])"
   ]
  },
  {
   "cell_type": "code",
   "execution_count": 4,
   "metadata": {},
   "outputs": [
    {
     "data": {
      "text/plain": [
       "array([0.99965732, 0.        , 0.        , 0.02617695])"
      ]
     },
     "execution_count": 4,
     "metadata": {},
     "output_type": "execute_result"
    }
   ],
   "source": [
    "q.q"
   ]
  },
  {
   "cell_type": "code",
   "execution_count": 5,
   "metadata": {},
   "outputs": [],
   "source": [
    "s = State.zero()"
   ]
  },
  {
   "cell_type": "code",
   "execution_count": 6,
   "metadata": {},
   "outputs": [
    {
     "data": {
      "text/plain": [
       "State([0., 0., 0., 0., 0., 0., 0., 0., 1., 0., 0., 0., 0., 0.])"
      ]
     },
     "execution_count": 6,
     "metadata": {},
     "output_type": "execute_result"
    }
   ],
   "source": [
    "s"
   ]
  },
  {
   "cell_type": "code",
   "execution_count": 7,
   "metadata": {},
   "outputs": [
    {
     "data": {
      "text/plain": [
       "State([40.,  0.,  0.,  0.,  0.,  0.,  0.,  0.,  1.,  0.,  0.,  0.,  0.,\n",
       "        0.])"
      ]
     },
     "execution_count": 7,
     "metadata": {},
     "output_type": "execute_result"
    }
   ],
   "source": [
    "s.mass=40\n",
    "s"
   ]
  },
  {
   "cell_type": "code",
   "execution_count": 8,
   "metadata": {},
   "outputs": [
    {
     "data": {
      "text/plain": [
       "State([40.,  1.,  2.,  3.,  0.,  0.,  0.,  0.,  1.,  0.,  0.,  0.,  0.,\n",
       "        0.])"
      ]
     },
     "execution_count": 8,
     "metadata": {},
     "output_type": "execute_result"
    }
   ],
   "source": [
    "s.pos=[1,2,3]\n",
    "s"
   ]
  },
  {
   "cell_type": "code",
   "execution_count": 9,
   "metadata": {},
   "outputs": [
    {
     "data": {
      "text/plain": [
       "State([40.,  1.,  2.,  3., 10., 20., 30.,  0.,  1.,  0.,  0.,  0.,  0.,\n",
       "        0.])"
      ]
     },
     "execution_count": 9,
     "metadata": {},
     "output_type": "execute_result"
    }
   ],
   "source": [
    "s.lin_mom=[10,20,30]\n",
    "s"
   ]
  },
  {
   "cell_type": "code",
   "execution_count": 10,
   "metadata": {},
   "outputs": [
    {
     "data": {
      "text/plain": [
       "State([4.00000000e+01, 1.00000000e+00, 2.00000000e+00, 3.00000000e+00,\n",
       "       1.00000000e+01, 2.00000000e+01, 3.00000000e+01, 9.99657325e-01,\n",
       "       0.00000000e+00, 0.00000000e+00, 2.61769483e-02, 0.00000000e+00,\n",
       "       0.00000000e+00, 0.00000000e+00])"
      ]
     },
     "execution_count": 10,
     "metadata": {},
     "output_type": "execute_result"
    }
   ],
   "source": [
    "s.quat=q\n",
    "s"
   ]
  },
  {
   "cell_type": "code",
   "execution_count": 11,
   "metadata": {},
   "outputs": [
    {
     "data": {
      "text/plain": [
       "State([4.00000000e+01, 1.00000000e+00, 2.00000000e+00, 3.00000000e+00,\n",
       "       1.00000000e+01, 2.00000000e+01, 3.00000000e+01, 9.99657325e-01,\n",
       "       0.00000000e+00, 0.00000000e+00, 2.61769483e-02, 5.00000000e+02,\n",
       "       6.00000000e+02, 7.00000000e+02])"
      ]
     },
     "execution_count": 11,
     "metadata": {},
     "output_type": "execute_result"
    }
   ],
   "source": [
    "s.ang_mom=[500,600,700]\n",
    "s"
   ]
  },
  {
   "cell_type": "code",
   "execution_count": 12,
   "metadata": {},
   "outputs": [
    {
     "data": {
      "text/plain": [
       "State([4.00000000e+01, 1.00000000e+00, 2.00000000e+00, 3.00000000e+00,\n",
       "       1.00000000e+01, 2.00000000e+01, 3.00000000e+01, 9.99657325e-01,\n",
       "       0.00000000e+00, 0.00000000e+00, 2.61769483e-02, 5.00000000e+02,\n",
       "       6.00000000e+02, 7.00000000e+02])"
      ]
     },
     "execution_count": 12,
     "metadata": {},
     "output_type": "execute_result"
    }
   ],
   "source": [
    "s"
   ]
  },
  {
   "cell_type": "code",
   "execution_count": 13,
   "metadata": {},
   "outputs": [
    {
     "name": "stdout",
     "output_type": "stream",
     "text": [
      "State:\n",
      " mass=40.0 \n",
      " position=State([1., 2., 3.]) \n",
      " lin_mom=State([10., 20., 30.]) \n",
      " quat=State([0.99965732, 0.        , 0.        , 0.02617695]) \n",
      " ang_mom=State([500., 600., 700.]) \n",
      "\n"
     ]
    }
   ],
   "source": [
    "print(s)"
   ]
  },
  {
   "cell_type": "code",
   "execution_count": 14,
   "metadata": {},
   "outputs": [
    {
     "data": {
      "text/plain": [
       "40.0"
      ]
     },
     "execution_count": 14,
     "metadata": {},
     "output_type": "execute_result"
    }
   ],
   "source": [
    "s.mass"
   ]
  },
  {
   "cell_type": "code",
   "execution_count": 15,
   "metadata": {
    "scrolled": true
   },
   "outputs": [
    {
     "name": "stdout",
     "output_type": "stream",
     "text": [
      "State:\n",
      " mass=40.0 \n",
      " position=State([1., 2., 3.]) \n",
      " lin_mom=State([10., 20., 30.]) \n",
      " quat=State([0.99965732, 0.        , 0.        , 0.02617695]) \n",
      " ang_mom=State([500., 600., 700.]) \n",
      "\n"
     ]
    }
   ],
   "source": [
    "print(s)"
   ]
  },
  {
   "cell_type": "code",
   "execution_count": null,
   "metadata": {},
   "outputs": [],
   "source": []
  },
  {
   "cell_type": "code",
   "execution_count": 16,
   "metadata": {},
   "outputs": [],
   "source": [
    "def mul2(t, state):\n",
    "    return 2*state"
   ]
  },
  {
   "cell_type": "code",
   "execution_count": 17,
   "metadata": {},
   "outputs": [],
   "source": [
    "import scipy.integrate as spint"
   ]
  },
  {
   "cell_type": "code",
   "execution_count": 36,
   "metadata": {},
   "outputs": [
    {
     "data": {
      "text/plain": [
       "  message: 'The solver successfully reached the end of the integration interval.'\n",
       "     nfev: 38\n",
       "     njev: 0\n",
       "      nlu: 0\n",
       "      sol: None\n",
       "   status: 0\n",
       "  success: True\n",
       "        t: array([0.        , 0.07701186, 0.57525844, 1.20968467, 1.89678211,\n",
       "       2.60553874, 3.        ])\n",
       " t_events: None\n",
       "        y: array([[4.00000000e+01, 4.66607427e+01, 1.26395424e+02, 4.49548555e+02,\n",
       "        1.77641677e+03, 7.33009738e+03, 1.61339017e+04],\n",
       "       [6.00000000e+00, 6.99911140e+00, 1.89593136e+01, 6.74322832e+01,\n",
       "        2.66462515e+02, 1.09951461e+03, 2.42008525e+03],\n",
       "       [7.00000000e+00, 8.16562996e+00, 2.21191992e+01, 7.86709971e+01,\n",
       "        3.10872934e+02, 1.28276704e+03, 2.82343279e+03],\n",
       "       [8.00000000e+00, 9.33214853e+00, 2.52790848e+01, 8.99097110e+01,\n",
       "        3.55283354e+02, 1.46601948e+03, 3.22678034e+03],\n",
       "       [5.00000000e+00, 5.83259283e+00, 1.57994280e+01, 5.61935694e+01,\n",
       "        2.22052096e+02, 9.16262173e+02, 2.01673771e+03],\n",
       "       [2.00000000e+01, 2.33303713e+01, 6.31977120e+01, 2.24774277e+02,\n",
       "        8.88208384e+02, 3.66504869e+03, 8.06695084e+03],\n",
       "       [3.00000000e+01, 3.49955570e+01, 9.47965680e+01, 3.37161416e+02,\n",
       "        1.33231258e+03, 5.49757304e+03, 1.21004263e+04],\n",
       "       [9.99657325e-01, 1.16611883e+00, 3.15880279e+00, 1.12348626e+01,\n",
       "        4.43952009e+01, 1.83189638e+02, 4.03209325e+02],\n",
       "       [0.00000000e+00, 0.00000000e+00, 0.00000000e+00, 0.00000000e+00,\n",
       "        0.00000000e+00, 0.00000000e+00, 0.00000000e+00],\n",
       "       [0.00000000e+00, 0.00000000e+00, 0.00000000e+00, 0.00000000e+00,\n",
       "        0.00000000e+00, 0.00000000e+00, 0.00000000e+00],\n",
       "       [2.61769483e-02, 3.05358962e-02, 8.27161620e-02, 2.94195232e-01,\n",
       "        1.16252925e+00, 4.79698951e+00, 1.05584078e+01],\n",
       "       [5.00000000e+02, 5.83259283e+02, 1.57994280e+03, 5.61935694e+03,\n",
       "        2.22052096e+04, 9.16262173e+04, 2.01673771e+05],\n",
       "       [6.00000000e+02, 6.99911140e+02, 1.89593136e+03, 6.74322832e+03,\n",
       "        2.66462515e+04, 1.09951461e+05, 2.42008525e+05],\n",
       "       [7.00000000e+02, 8.16562996e+02, 2.21191992e+03, 7.86709971e+03,\n",
       "        3.10872934e+04, 1.28276704e+05, 2.82343279e+05]])\n",
       " y_events: None"
      ]
     },
     "execution_count": 36,
     "metadata": {},
     "output_type": "execute_result"
    }
   ],
   "source": [
    "sol=spint.solve_ivp(mul2, [0,3], s)\n",
    "sol"
   ]
  },
  {
   "cell_type": "code",
   "execution_count": 43,
   "metadata": {},
   "outputs": [
    {
     "data": {
      "text/plain": [
       "3.0"
      ]
     },
     "execution_count": 43,
     "metadata": {},
     "output_type": "execute_result"
    }
   ],
   "source": [
    "tf = sol.t[-1]\n",
    "tf"
   ]
  },
  {
   "cell_type": "code",
   "execution_count": 46,
   "metadata": {},
   "outputs": [
    {
     "data": {
      "text/plain": [
       "40.0"
      ]
     },
     "execution_count": 46,
     "metadata": {},
     "output_type": "execute_result"
    }
   ],
   "source": [
    "m0 = s.mass\n",
    "m0"
   ]
  },
  {
   "cell_type": "code",
   "execution_count": null,
   "metadata": {},
   "outputs": [],
   "source": []
  },
  {
   "cell_type": "code",
   "execution_count": 44,
   "metadata": {},
   "outputs": [
    {
     "data": {
      "text/plain": [
       "16133.901685420298"
      ]
     },
     "execution_count": 44,
     "metadata": {},
     "output_type": "execute_result"
    }
   ],
   "source": [
    "mf = sol.y[0][-1]\n",
    "mf"
   ]
  },
  {
   "cell_type": "code",
   "execution_count": 21,
   "metadata": {},
   "outputs": [
    {
     "data": {
      "text/plain": [
       "State([4.00000000e+01, 1.00000000e+00, 2.00000000e+00, 3.00000000e+00,\n",
       "       5.00000000e+00, 2.00000000e+01, 3.00000000e+01, 9.99657325e-01,\n",
       "       0.00000000e+00, 0.00000000e+00, 2.61769483e-02, 5.00000000e+02,\n",
       "       6.00000000e+02, 7.00000000e+02])"
      ]
     },
     "execution_count": 21,
     "metadata": {},
     "output_type": "execute_result"
    }
   ],
   "source": [
    "ddt(s) = 2s\n",
    "s = s0 exp(2 t)"
   ]
  },
  {
   "cell_type": "code",
   "execution_count": 57,
   "metadata": {},
   "outputs": [
    {
     "ename": "AssertionError",
     "evalue": "\nItems are not equal to 7 significant digits:\n ACTUAL: 16137.151739709405\n DESIRED: 16133.901685420298",
     "output_type": "error",
     "traceback": [
      "\u001b[0;31m---------------------------------------------------------------------------\u001b[0m",
      "\u001b[0;31mAssertionError\u001b[0m                            Traceback (most recent call last)",
      "\u001b[0;32m<ipython-input-57-17dcd47071fe>\u001b[0m in \u001b[0;36m<module>\u001b[0;34m\u001b[0m\n\u001b[0;32m----> 1\u001b[0;31m \u001b[0mnp\u001b[0m\u001b[0;34m.\u001b[0m\u001b[0mtesting\u001b[0m\u001b[0;34m.\u001b[0m\u001b[0massert_approx_equal\u001b[0m\u001b[0;34m(\u001b[0m\u001b[0mm0\u001b[0m\u001b[0;34m*\u001b[0m\u001b[0mnp\u001b[0m\u001b[0;34m.\u001b[0m\u001b[0mexp\u001b[0m\u001b[0;34m(\u001b[0m\u001b[0;36m2\u001b[0m\u001b[0;34m*\u001b[0m\u001b[0mtf\u001b[0m\u001b[0;34m)\u001b[0m\u001b[0;34m,\u001b[0m\u001b[0mmf\u001b[0m\u001b[0;34m)\u001b[0m\u001b[0;34m\u001b[0m\u001b[0;34m\u001b[0m\u001b[0m\n\u001b[0m",
      "\u001b[0;32m~/.virtualenvs/rocketPy/lib/python3.6/site-packages/numpy/testing/_private/utils.py\u001b[0m in \u001b[0;36massert_approx_equal\u001b[0;34m(actual, desired, significant, err_msg, verbose)\u001b[0m\n\u001b[1;32m    698\u001b[0m         \u001b[0;32mpass\u001b[0m\u001b[0;34m\u001b[0m\u001b[0;34m\u001b[0m\u001b[0m\n\u001b[1;32m    699\u001b[0m     \u001b[0;32mif\u001b[0m \u001b[0mnp\u001b[0m\u001b[0;34m.\u001b[0m\u001b[0mabs\u001b[0m\u001b[0;34m(\u001b[0m\u001b[0msc_desired\u001b[0m \u001b[0;34m-\u001b[0m \u001b[0msc_actual\u001b[0m\u001b[0;34m)\u001b[0m \u001b[0;34m>=\u001b[0m \u001b[0mnp\u001b[0m\u001b[0;34m.\u001b[0m\u001b[0mpower\u001b[0m\u001b[0;34m(\u001b[0m\u001b[0;36m10.\u001b[0m\u001b[0;34m,\u001b[0m \u001b[0;34m-\u001b[0m\u001b[0;34m(\u001b[0m\u001b[0msignificant\u001b[0m\u001b[0;34m-\u001b[0m\u001b[0;36m1\u001b[0m\u001b[0;34m)\u001b[0m\u001b[0;34m)\u001b[0m\u001b[0;34m:\u001b[0m\u001b[0;34m\u001b[0m\u001b[0;34m\u001b[0m\u001b[0m\n\u001b[0;32m--> 700\u001b[0;31m         \u001b[0;32mraise\u001b[0m \u001b[0mAssertionError\u001b[0m\u001b[0;34m(\u001b[0m\u001b[0mmsg\u001b[0m\u001b[0;34m)\u001b[0m\u001b[0;34m\u001b[0m\u001b[0;34m\u001b[0m\u001b[0m\n\u001b[0m\u001b[1;32m    701\u001b[0m \u001b[0;34m\u001b[0m\u001b[0m\n\u001b[1;32m    702\u001b[0m \u001b[0;34m\u001b[0m\u001b[0m\n",
      "\u001b[0;31mAssertionError\u001b[0m: \nItems are not equal to 7 significant digits:\n ACTUAL: 16137.151739709405\n DESIRED: 16133.901685420298"
     ]
    }
   ],
   "source": [
    "np.testing.assert_approx_equal(m0*np.exp(2*tf),mf)"
   ]
  },
  {
   "cell_type": "code",
   "execution_count": 23,
   "metadata": {},
   "outputs": [
    {
     "data": {
      "text/plain": [
       "State([1., 2., 3.])"
      ]
     },
     "execution_count": 23,
     "metadata": {},
     "output_type": "execute_result"
    }
   ],
   "source": [
    "pp"
   ]
  },
  {
   "cell_type": "code",
   "execution_count": 24,
   "metadata": {},
   "outputs": [],
   "source": [
    "pp[2]=6"
   ]
  },
  {
   "cell_type": "code",
   "execution_count": 25,
   "metadata": {},
   "outputs": [
    {
     "data": {
      "text/plain": [
       "State([4.00000000e+01, 1.00000000e+00, 2.00000000e+00, 6.00000000e+00,\n",
       "       5.00000000e+00, 2.00000000e+01, 3.00000000e+01, 9.99657325e-01,\n",
       "       0.00000000e+00, 0.00000000e+00, 2.61769483e-02, 5.00000000e+02,\n",
       "       6.00000000e+02, 7.00000000e+02])"
      ]
     },
     "execution_count": 25,
     "metadata": {},
     "output_type": "execute_result"
    }
   ],
   "source": [
    "s"
   ]
  },
  {
   "cell_type": "code",
   "execution_count": 26,
   "metadata": {},
   "outputs": [],
   "source": [
    "p = np.array([6, 7,8])*u.m"
   ]
  },
  {
   "cell_type": "code",
   "execution_count": 27,
   "metadata": {},
   "outputs": [],
   "source": [
    "s.pos = p"
   ]
  },
  {
   "cell_type": "code",
   "execution_count": 28,
   "metadata": {
    "scrolled": true
   },
   "outputs": [
    {
     "data": {
      "text/plain": [
       "State([4.00000000e+01, 6.00000000e+00, 7.00000000e+00, 8.00000000e+00,\n",
       "       5.00000000e+00, 2.00000000e+01, 3.00000000e+01, 9.99657325e-01,\n",
       "       0.00000000e+00, 0.00000000e+00, 2.61769483e-02, 5.00000000e+02,\n",
       "       6.00000000e+02, 7.00000000e+02])"
      ]
     },
     "execution_count": 28,
     "metadata": {},
     "output_type": "execute_result"
    }
   ],
   "source": [
    "s"
   ]
  },
  {
   "cell_type": "code",
   "execution_count": 29,
   "metadata": {},
   "outputs": [
    {
     "data": {
      "text/plain": [
       "State([6., 7., 8.])"
      ]
     },
     "execution_count": 29,
     "metadata": {},
     "output_type": "execute_result"
    }
   ],
   "source": [
    "s.pos"
   ]
  },
  {
   "cell_type": "code",
   "execution_count": 30,
   "metadata": {},
   "outputs": [],
   "source": [
    "p[1]=4"
   ]
  },
  {
   "cell_type": "code",
   "execution_count": 31,
   "metadata": {},
   "outputs": [
    {
     "data": {
      "text/plain": [
       "State([4.00000000e+01, 6.00000000e+00, 7.00000000e+00, 8.00000000e+00,\n",
       "       5.00000000e+00, 2.00000000e+01, 3.00000000e+01, 9.99657325e-01,\n",
       "       0.00000000e+00, 0.00000000e+00, 2.61769483e-02, 5.00000000e+02,\n",
       "       6.00000000e+02, 7.00000000e+02])"
      ]
     },
     "execution_count": 31,
     "metadata": {},
     "output_type": "execute_result"
    }
   ],
   "source": [
    "s"
   ]
  },
  {
   "cell_type": "code",
   "execution_count": 32,
   "metadata": {},
   "outputs": [
    {
     "data": {
      "text/plain": [
       "[0.99965732 0.         0.         0.02617695]"
      ]
     },
     "execution_count": 32,
     "metadata": {},
     "output_type": "execute_result"
    }
   ],
   "source": [
    "s.quat"
   ]
  },
  {
   "cell_type": "code",
   "execution_count": 33,
   "metadata": {},
   "outputs": [],
   "source": [
    "s.quat = q"
   ]
  },
  {
   "cell_type": "code",
   "execution_count": 34,
   "metadata": {},
   "outputs": [
    {
     "data": {
      "text/plain": [
       "State([4.00000000e+01, 6.00000000e+00, 7.00000000e+00, 8.00000000e+00,\n",
       "       5.00000000e+00, 2.00000000e+01, 3.00000000e+01, 9.99657325e-01,\n",
       "       0.00000000e+00, 0.00000000e+00, 2.61769483e-02, 5.00000000e+02,\n",
       "       6.00000000e+02, 7.00000000e+02])"
      ]
     },
     "execution_count": 34,
     "metadata": {},
     "output_type": "execute_result"
    }
   ],
   "source": [
    "s"
   ]
  },
  {
   "cell_type": "code",
   "execution_count": 35,
   "metadata": {
    "scrolled": true
   },
   "outputs": [
    {
     "data": {
      "text/plain": [
       "[0.99965732 0.         0.         0.02617695]"
      ]
     },
     "execution_count": 35,
     "metadata": {},
     "output_type": "execute_result"
    }
   ],
   "source": [
    "s.quat"
   ]
  },
  {
   "cell_type": "code",
   "execution_count": null,
   "metadata": {},
   "outputs": [],
   "source": []
  }
 ],
 "metadata": {
  "kernelspec": {
   "display_name": "rocketPy",
   "language": "python",
   "name": "rocketpy"
  },
  "language_info": {
   "codemirror_mode": {
    "name": "ipython",
    "version": 3
   },
   "file_extension": ".py",
   "mimetype": "text/x-python",
   "name": "python",
   "nbconvert_exporter": "python",
   "pygments_lexer": "ipython3",
   "version": "3.6.7"
  }
 },
 "nbformat": 4,
 "nbformat_minor": 2
}
