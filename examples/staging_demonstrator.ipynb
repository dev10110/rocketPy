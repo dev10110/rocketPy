{
 "cells": [
  {
   "cell_type": "code",
   "execution_count": 1,
   "metadata": {},
   "outputs": [],
   "source": [
    "import numpy as np\n",
    "import scipy as sp\n",
    "import scipy.integrate as spint\n",
    "\n",
    "import matplotlib.pyplot as plt"
   ]
  },
  {
   "cell_type": "code",
   "execution_count": 2,
   "metadata": {},
   "outputs": [],
   "source": [
    "class SolutionBranch():\n",
    "    \n",
    "    def __init__(self, sol, stage):\n",
    "        if type(sol) is list:\n",
    "            self.sols = sol\n",
    "            self.stages = stage\n",
    "        else:\n",
    "            self.sols = [sol]\n",
    "            self.stages = [stage]\n",
    "        self.DOF = self.sols[0].y.shape[0] # get size of the state\n",
    "        \n",
    "    def sol(self, time):\n",
    "        \n",
    "        time = np.asarray(time)\n",
    "        if time.ndim == 0:\n",
    "            return self._sol(time)\n",
    "        \n",
    "        ys = [self._sol(t) for t in time]\n",
    "        \n",
    "        return np.transpose(np.vstack(ys))\n",
    "    \n",
    "    def _sol(self, time):\n",
    "        \"\"\"Get the solution at some time in this branch. If there are multiple stages, checks the last one first and works backwards\"\"\"\n",
    "        \n",
    "        # each solution segment has a t min and a t max\n",
    "        for sol in reversed(self.sols):\n",
    "            #checks from the back!\n",
    "            if time >= sol.sol.t_min and time <= sol.sol.t_max:\n",
    "                return sol.sol(time)\n",
    "        # if it doesnt fall into any of the ranges, return the error\n",
    "        error = [np.nan,]*self.DOF\n",
    "        if error is None:\n",
    "            raise ValueError(\"Requested time is not in the solved times\")\n",
    "            \n",
    "        return error\n",
    "    \n",
    "    def t_min(self):\n",
    "        return min(sol.sol.t_min for sol in self.sols)\n",
    "    \n",
    "    def t_max(self):\n",
    "        return max(sol.sol.t_max for sol in self.sols)\n",
    "            \n",
    "    \n",
    "    \n",
    "    def __add__(self, other):\n",
    "        \"\"\"Add a second branch\"\"\"\n",
    "        \n",
    "        if self.DOF != other.DOF:\n",
    "            raise RuntimeError(\"Adding SolutionBranches requires them to have the same state vector size\")\n",
    "        \n",
    "        stages = self.stages + other.stages\n",
    "        sols = self.sols + other.sols\n",
    "        \n",
    "        newBranch = SolutionBranch(sols, stages)\n",
    "\n",
    "        return newBranch\n",
    "        \n",
    "    def __repr__(self):\n",
    "        return f'\\n [\\n Stages: {self.stages}\\n Sols: {self.sols} \\n ]\\n '\n",
    "    "
   ]
  },
  {
   "cell_type": "code",
   "execution_count": null,
   "metadata": {},
   "outputs": [],
   "source": []
  },
  {
   "cell_type": "code",
   "execution_count": 168,
   "metadata": {},
   "outputs": [],
   "source": [
    "class VerySimpleRocket():\n",
    "    \n",
    "    def __init__(self):\n",
    "        self.m = 40\n",
    "        self.T = 4000\n",
    "        self.g = 9.81\n",
    "        self.y0 = np.array([0., 0.])\n",
    "        self.rhoCDA1 = 0.05\n",
    "        self.rhoCDA2 = 0.1\n",
    "        \n",
    "        self.stage_list = [0,1,2]\n",
    "        self.staging_functions = [self.staging_apogee,self.staging_deploy_main]\n",
    "        self.nominal_stages = [0,1,2] # defines this as a nominal flight\n",
    "        \n",
    "    def staging_apogee(self,t,y,stage=0):\n",
    "        return y[1]\n",
    "    staging_apogee.terminal = False\n",
    "    staging_apogee.direction=-1\n",
    "    \n",
    "    def staging_deploy_main(self, t, y, stage=0):\n",
    "        return y[0]-1500\n",
    "    staging_deploy_main.terminal = False\n",
    "    staging_deploy_main.direction = -1\n",
    "    \n",
    "    def nominal_next_stage(self, stage):\n",
    "        if stage == 0:\n",
    "            return 1 # if there is a staging event, can branch to any of 1, or 2\n",
    "        if stage == 1:\n",
    "            return 2 # if there is a staging event, can only branch to 1 or 2\n",
    "        if stage == 2:\n",
    "            return None # can only branch to 2\n",
    "        \n",
    "        \n",
    "        \n",
    "    def next_stages(self, stage):\n",
    "        \n",
    "        if stage == 0:\n",
    "            return [1,2] # if there is a staging event, can branch to any of 1, or 2\n",
    "        if stage == 1:\n",
    "            return [2] # if there is a staging event, can only branch to 1 or 2\n",
    "        if stage == 2:\n",
    "            return [] # can only branch to 2\n",
    "        \n",
    "    def dynamics(self, t, y, stage=0):\n",
    "\n",
    "        if stage == 0:\n",
    "            if t<4:\n",
    "                return np.array([y[1], self.T/self.m - self.g])\n",
    "            else:\n",
    "                return np.array([y[1], -self.g])\n",
    "                \n",
    "        elif stage == 1:\n",
    "            return np.array([y[1], -0.5*self.rhoCDA1*y[1]*abs(y[1])/self.m - self.g])\n",
    "        \n",
    "        elif stage == 2:\n",
    "            return np.array([y[1], -0.5*self.rhoCDA2*y[1]*abs(y[1])/self.m - self.g])\n",
    "        \n",
    "        else:\n",
    "            raise ValueError\n",
    "\n",
    "class Sim():\n",
    "    def __init__(self, rocket):\n",
    "        \n",
    "        self.rocket = rocket\n",
    "        self.t_span = (0,10000)\n",
    "        self.sols = []\n",
    "        \n",
    "        \n",
    "    def landing(self, t, y, stage=0):\n",
    "        return y[0]+0.1\n",
    "    landing.terminal = True\n",
    "    landing.direction = -1\n",
    "        \n",
    "    def solve(self, t_span, y0, stage, user_events=[]):\n",
    "\n",
    "        sol = spint.solve_ivp(self.rocket.dynamics, t_span, y0, args=(stage,), events=user_events + [self.landing], dense_output=True)\n",
    "        \n",
    "        assert sol.status==1, \"Did not terminate, probably need to increase t_span\"\n",
    "        \n",
    "        return SolutionBranch(sol, stage)\n",
    "    \n",
    "    def get_staging_times_states(self,sol, t_span):\n",
    "        ts = []\n",
    "        ys = []\n",
    "        for sol in sol.sols:\n",
    "            for i in range(len(sol.t_events)):\n",
    "                if not sol.t_events[i] in t_span:\n",
    "                    ts.extend(sol.t_events[i])\n",
    "                    ys.extend(sol.y_events[i])\n",
    "        return ts, ys\n",
    "    \n",
    "    \n",
    "    def nominal_solve(self, t_span, y0, starting_stage):\n",
    "        \n",
    "        # simulate this stage\n",
    "        print(f'\\n Nominal Simulating: T: {t_span}, Y0: {y0}, Stage: {starting_stage}')\n",
    "        \n",
    "        sol = self.solve(t_span, y0, starting_stage, self.rocket.staging_functions)\n",
    "        \n",
    "        # get the flattened list of t events\n",
    "        ts, ys = self.get_staging_times_states(sol, t_span)\n",
    "        \n",
    "        print(f'Current ts: {ts}')\n",
    "        \n",
    "        # if there are no events except the landing, return the sol\n",
    "        if len(ts) == 1: # only landing case left\n",
    "            print(\"No further cases. Returning\")\n",
    "            return sol\n",
    "        \n",
    "        # else, take the smallest, and generate a new list of sims, as long as it isnt the start time\n",
    "        (new_t,i) = min((t,i) for i,t in enumerate(ts))\n",
    "    \n",
    "        # figure out the next phase\n",
    "        new_stage = self.rocket.nominal_next_stage(starting_stage)\n",
    "        new_tspan = [new_t, t_span[-1]]\n",
    "        new_y0 = ys[i]\n",
    "        \n",
    "        return sol + self.nominal_solve(new_tspan, new_y0, new_stage)\n",
    "        \n",
    "    \n",
    "    def full_solve(self, t_span, y0, starting_stage):\n",
    "        \n",
    "        # simulate this stage\n",
    "        print(f'\\n Full Simulating: T: {t_span}, Y0: {y0}, Stage: {starting_stage}')\n",
    "        \n",
    "        sol = self.solve(t_span, y0, starting_stage, self.rocket.staging_functions)\n",
    "        \n",
    "        # get the flattened list of t events\n",
    "        ts, ys = self.get_staging_times_states(sol)\n",
    "        \n",
    "        print(f'Current ts: {ts}')\n",
    "        \n",
    "        # if there are no events except the landing, return the sol\n",
    "        if len(ts) ==1: # only landing case left\n",
    "            print(\"No further cases. Returning\")\n",
    "            return [sol]\n",
    "        \n",
    "        # else, take the smallest, and generate a new list of sims\n",
    "        (new_t,i) = min((t,i) for i,t in enumerate(ts))\n",
    "    \n",
    "        \n",
    "        # loop over all the branching times\n",
    "        new_sols = [sol]\n",
    "        for i in range(len(ts)-1):\n",
    "\n",
    "            new_tspan = [ts[i], t_span[-1]]\n",
    "            new_y0 = ys[i]\n",
    "            print(f'There are further splits, using new tspan = {new_tspan}, at y0={new_y0}')\n",
    "\n",
    "            # loop over each of the new stages, get the new sol\n",
    "            for new_stage in self.rocket.next_stages(starting_stage): \n",
    "                new_sols.extend([sol + new_sol for new_sol in self.full_solve(new_tspan, new_y0, new_stage)])\n",
    "\n",
    "        return new_sols"
   ]
  },
  {
   "cell_type": "code",
   "execution_count": 169,
   "metadata": {},
   "outputs": [],
   "source": [
    "r = VerySimpleRocket()"
   ]
  },
  {
   "cell_type": "code",
   "execution_count": 170,
   "metadata": {},
   "outputs": [],
   "source": [
    "s = Sim(r)"
   ]
  },
  {
   "cell_type": "code",
   "execution_count": 171,
   "metadata": {},
   "outputs": [
    {
     "data": {
      "text/plain": [
       "<__main__.Sim at 0x11e8e5e10>"
      ]
     },
     "execution_count": 171,
     "metadata": {},
     "output_type": "execute_result"
    }
   ],
   "source": [
    "s"
   ]
  },
  {
   "cell_type": "code",
   "execution_count": 172,
   "metadata": {},
   "outputs": [],
   "source": [
    "sol=s.solve([0,600], r.y0, 0, user_events=r.staging_functions)"
   ]
  },
  {
   "cell_type": "code",
   "execution_count": 173,
   "metadata": {},
   "outputs": [
    {
     "data": {
      "text/plain": [
       "  message: 'A termination event occurred.'\n",
       "     nfev: 98\n",
       "     njev: 0\n",
       "      nlu: 0\n",
       "      sol: <scipy.integrate._ivp.common.OdeSolution object at 0x11e8a9978>\n",
       "   status: 1\n",
       "  success: True\n",
       "        t: array([0.00000000e+00, 1.00000000e-04, 1.10000000e-03, 1.11000000e-02,\n",
       "       1.11100000e-01, 1.11110000e+00, 2.79214387e+00, 3.62727257e+00,\n",
       "       4.46240128e+00, 5.31679544e+00, 1.38607371e+01, 8.10614674e+01])\n",
       " t_events: [array([41.57554744]), array([76.97762493]), array([81.06146741])]\n",
       "        y: array([[ 0.00000000e+00,  4.50950000e-07,  5.45649500e-05,\n",
       "         5.55615495e-03,  5.56617055e-01,  5.56717261e+01,\n",
       "         3.51563658e+02,  5.93319709e+02,  8.91394822e+02,\n",
       "         1.19888202e+03,  3.87988823e+03, -1.00000000e-01],\n",
       "       [ 0.00000000e+00,  9.01900000e-03,  9.92090000e-02,\n",
       "         1.00110900e+00,  1.00201090e+01,  1.00210109e+02,\n",
       "         2.51823455e+02,  3.27143713e+02,  3.64079964e+02,\n",
       "         3.55698357e+02,  2.71882290e+02, -3.87356875e+02]])\n",
       " y_events: [array([[7647.47127891,    0.        ]]), array([[1500.        , -347.29438016]]), array([[-1.00000000e-01, -3.87356875e+02]])]"
      ]
     },
     "execution_count": 173,
     "metadata": {},
     "output_type": "execute_result"
    }
   ],
   "source": [
    "sol.sols[0]"
   ]
  },
  {
   "cell_type": "code",
   "execution_count": 174,
   "metadata": {},
   "outputs": [
    {
     "data": {
      "text/plain": [
       "81.06146740852928"
      ]
     },
     "execution_count": 174,
     "metadata": {},
     "output_type": "execute_result"
    }
   ],
   "source": [
    "sol.t_max()"
   ]
  },
  {
   "cell_type": "code",
   "execution_count": null,
   "metadata": {},
   "outputs": [],
   "source": []
  },
  {
   "cell_type": "code",
   "execution_count": 175,
   "metadata": {},
   "outputs": [],
   "source": [
    "sol2=s.solve([1,600], 2*r.y0, 0, user_events=r.staging_functions)"
   ]
  },
  {
   "cell_type": "code",
   "execution_count": 176,
   "metadata": {},
   "outputs": [
    {
     "data": {
      "text/plain": [
       "  message: 'A termination event occurred.'\n",
       "     nfev: 110\n",
       "     njev: 0\n",
       "      nlu: 0\n",
       "      sol: <scipy.integrate._ivp.common.OdeSolution object at 0x11e8f34e0>\n",
       "   status: 1\n",
       "  success: True\n",
       "        t: array([ 1.        ,  1.0001    ,  1.0011    ,  1.0111    ,  1.1111    ,\n",
       "        2.1111    ,  3.25509584,  3.7997873 ,  4.34447875,  4.92078154,\n",
       "       10.68380937, 62.49560271])\n",
       " t_events: [array([32.54055889]), array([56.8607946]), array([62.49560271])]\n",
       "        y: array([[ 0.00000000e+00,  4.50950000e-07,  5.45649500e-05,\n",
       "         5.55615495e-03,  5.56617055e-01,  5.56717261e+01,\n",
       "         2.29328694e+02,  3.53491088e+02,  5.01611433e+02,\n",
       "         6.59389754e+02,  2.05797498e+03, -1.00000000e-01],\n",
       "       [ 0.00000000e+00,  9.01900000e-03,  9.92090000e-02,\n",
       "         1.00110900e+00,  1.00201090e+01,  1.00210109e+02,\n",
       "         2.03387094e+02,  2.52512816e+02,  2.76603546e+02,\n",
       "         2.70950016e+02,  2.14414713e+02, -2.93858980e+02]])\n",
       " y_events: [array([[4.40117931e+03, 2.84217094e-14]]), array([[1500.        , -238.58151238]]), array([[-1.0000000e-01, -2.9385898e+02]])]"
      ]
     },
     "execution_count": 176,
     "metadata": {},
     "output_type": "execute_result"
    }
   ],
   "source": [
    "sol2.sols[0]"
   ]
  },
  {
   "cell_type": "code",
   "execution_count": 177,
   "metadata": {},
   "outputs": [
    {
     "data": {
      "text/plain": [
       "\n",
       " [\n",
       " Stages: [0]\n",
       " Sols: [  message: 'A termination event occurred.'\n",
       "     nfev: 110\n",
       "     njev: 0\n",
       "      nlu: 0\n",
       "      sol: <scipy.integrate._ivp.common.OdeSolution object at 0x11e8f34e0>\n",
       "   status: 1\n",
       "  success: True\n",
       "        t: array([ 1.        ,  1.0001    ,  1.0011    ,  1.0111    ,  1.1111    ,\n",
       "        2.1111    ,  3.25509584,  3.7997873 ,  4.34447875,  4.92078154,\n",
       "       10.68380937, 62.49560271])\n",
       " t_events: [array([32.54055889]), array([56.8607946]), array([62.49560271])]\n",
       "        y: array([[ 0.00000000e+00,  4.50950000e-07,  5.45649500e-05,\n",
       "         5.55615495e-03,  5.56617055e-01,  5.56717261e+01,\n",
       "         2.29328694e+02,  3.53491088e+02,  5.01611433e+02,\n",
       "         6.59389754e+02,  2.05797498e+03, -1.00000000e-01],\n",
       "       [ 0.00000000e+00,  9.01900000e-03,  9.92090000e-02,\n",
       "         1.00110900e+00,  1.00201090e+01,  1.00210109e+02,\n",
       "         2.03387094e+02,  2.52512816e+02,  2.76603546e+02,\n",
       "         2.70950016e+02,  2.14414713e+02, -2.93858980e+02]])\n",
       " y_events: [array([[4.40117931e+03, 2.84217094e-14]]), array([[1500.        , -238.58151238]]), array([[-1.0000000e-01, -2.9385898e+02]])]] \n",
       " ]\n",
       " "
      ]
     },
     "execution_count": 177,
     "metadata": {},
     "output_type": "execute_result"
    }
   ],
   "source": [
    "sol2"
   ]
  },
  {
   "cell_type": "code",
   "execution_count": 178,
   "metadata": {},
   "outputs": [
    {
     "data": {
      "text/plain": [
       "\n",
       " [\n",
       " Stages: [0]\n",
       " Sols: [  message: 'A termination event occurred.'\n",
       "     nfev: 98\n",
       "     njev: 0\n",
       "      nlu: 0\n",
       "      sol: <scipy.integrate._ivp.common.OdeSolution object at 0x11e8a9978>\n",
       "   status: 1\n",
       "  success: True\n",
       "        t: array([0.00000000e+00, 1.00000000e-04, 1.10000000e-03, 1.11000000e-02,\n",
       "       1.11100000e-01, 1.11110000e+00, 2.79214387e+00, 3.62727257e+00,\n",
       "       4.46240128e+00, 5.31679544e+00, 1.38607371e+01, 8.10614674e+01])\n",
       " t_events: [array([41.57554744]), array([76.97762493]), array([81.06146741])]\n",
       "        y: array([[ 0.00000000e+00,  4.50950000e-07,  5.45649500e-05,\n",
       "         5.55615495e-03,  5.56617055e-01,  5.56717261e+01,\n",
       "         3.51563658e+02,  5.93319709e+02,  8.91394822e+02,\n",
       "         1.19888202e+03,  3.87988823e+03, -1.00000000e-01],\n",
       "       [ 0.00000000e+00,  9.01900000e-03,  9.92090000e-02,\n",
       "         1.00110900e+00,  1.00201090e+01,  1.00210109e+02,\n",
       "         2.51823455e+02,  3.27143713e+02,  3.64079964e+02,\n",
       "         3.55698357e+02,  2.71882290e+02, -3.87356875e+02]])\n",
       " y_events: [array([[7647.47127891,    0.        ]]), array([[1500.        , -347.29438016]]), array([[-1.00000000e-01, -3.87356875e+02]])]] \n",
       " ]\n",
       " "
      ]
     },
     "execution_count": 178,
     "metadata": {},
     "output_type": "execute_result"
    }
   ],
   "source": [
    "sol"
   ]
  },
  {
   "cell_type": "code",
   "execution_count": 179,
   "metadata": {},
   "outputs": [
    {
     "data": {
      "text/plain": [
       "\n",
       " [\n",
       " Stages: [0]\n",
       " Sols: [  message: 'A termination event occurred.'\n",
       "     nfev: 110\n",
       "     njev: 0\n",
       "      nlu: 0\n",
       "      sol: <scipy.integrate._ivp.common.OdeSolution object at 0x11e8f34e0>\n",
       "   status: 1\n",
       "  success: True\n",
       "        t: array([ 1.        ,  1.0001    ,  1.0011    ,  1.0111    ,  1.1111    ,\n",
       "        2.1111    ,  3.25509584,  3.7997873 ,  4.34447875,  4.92078154,\n",
       "       10.68380937, 62.49560271])\n",
       " t_events: [array([32.54055889]), array([56.8607946]), array([62.49560271])]\n",
       "        y: array([[ 0.00000000e+00,  4.50950000e-07,  5.45649500e-05,\n",
       "         5.55615495e-03,  5.56617055e-01,  5.56717261e+01,\n",
       "         2.29328694e+02,  3.53491088e+02,  5.01611433e+02,\n",
       "         6.59389754e+02,  2.05797498e+03, -1.00000000e-01],\n",
       "       [ 0.00000000e+00,  9.01900000e-03,  9.92090000e-02,\n",
       "         1.00110900e+00,  1.00201090e+01,  1.00210109e+02,\n",
       "         2.03387094e+02,  2.52512816e+02,  2.76603546e+02,\n",
       "         2.70950016e+02,  2.14414713e+02, -2.93858980e+02]])\n",
       " y_events: [array([[4.40117931e+03, 2.84217094e-14]]), array([[1500.        , -238.58151238]]), array([[-1.0000000e-01, -2.9385898e+02]])]] \n",
       " ]\n",
       " "
      ]
     },
     "execution_count": 179,
     "metadata": {},
     "output_type": "execute_result"
    }
   ],
   "source": [
    "sol2"
   ]
  },
  {
   "cell_type": "code",
   "execution_count": 180,
   "metadata": {},
   "outputs": [],
   "source": [
    "sol3 = sol+sol2"
   ]
  },
  {
   "cell_type": "code",
   "execution_count": 181,
   "metadata": {
    "scrolled": false
   },
   "outputs": [
    {
     "data": {
      "text/plain": [
       "\n",
       " [\n",
       " Stages: [0, 0]\n",
       " Sols: [  message: 'A termination event occurred.'\n",
       "     nfev: 98\n",
       "     njev: 0\n",
       "      nlu: 0\n",
       "      sol: <scipy.integrate._ivp.common.OdeSolution object at 0x11e8a9978>\n",
       "   status: 1\n",
       "  success: True\n",
       "        t: array([0.00000000e+00, 1.00000000e-04, 1.10000000e-03, 1.11000000e-02,\n",
       "       1.11100000e-01, 1.11110000e+00, 2.79214387e+00, 3.62727257e+00,\n",
       "       4.46240128e+00, 5.31679544e+00, 1.38607371e+01, 8.10614674e+01])\n",
       " t_events: [array([41.57554744]), array([76.97762493]), array([81.06146741])]\n",
       "        y: array([[ 0.00000000e+00,  4.50950000e-07,  5.45649500e-05,\n",
       "         5.55615495e-03,  5.56617055e-01,  5.56717261e+01,\n",
       "         3.51563658e+02,  5.93319709e+02,  8.91394822e+02,\n",
       "         1.19888202e+03,  3.87988823e+03, -1.00000000e-01],\n",
       "       [ 0.00000000e+00,  9.01900000e-03,  9.92090000e-02,\n",
       "         1.00110900e+00,  1.00201090e+01,  1.00210109e+02,\n",
       "         2.51823455e+02,  3.27143713e+02,  3.64079964e+02,\n",
       "         3.55698357e+02,  2.71882290e+02, -3.87356875e+02]])\n",
       " y_events: [array([[7647.47127891,    0.        ]]), array([[1500.        , -347.29438016]]), array([[-1.00000000e-01, -3.87356875e+02]])],   message: 'A termination event occurred.'\n",
       "     nfev: 110\n",
       "     njev: 0\n",
       "      nlu: 0\n",
       "      sol: <scipy.integrate._ivp.common.OdeSolution object at 0x11e8f34e0>\n",
       "   status: 1\n",
       "  success: True\n",
       "        t: array([ 1.        ,  1.0001    ,  1.0011    ,  1.0111    ,  1.1111    ,\n",
       "        2.1111    ,  3.25509584,  3.7997873 ,  4.34447875,  4.92078154,\n",
       "       10.68380937, 62.49560271])\n",
       " t_events: [array([32.54055889]), array([56.8607946]), array([62.49560271])]\n",
       "        y: array([[ 0.00000000e+00,  4.50950000e-07,  5.45649500e-05,\n",
       "         5.55615495e-03,  5.56617055e-01,  5.56717261e+01,\n",
       "         2.29328694e+02,  3.53491088e+02,  5.01611433e+02,\n",
       "         6.59389754e+02,  2.05797498e+03, -1.00000000e-01],\n",
       "       [ 0.00000000e+00,  9.01900000e-03,  9.92090000e-02,\n",
       "         1.00110900e+00,  1.00201090e+01,  1.00210109e+02,\n",
       "         2.03387094e+02,  2.52512816e+02,  2.76603546e+02,\n",
       "         2.70950016e+02,  2.14414713e+02, -2.93858980e+02]])\n",
       " y_events: [array([[4.40117931e+03, 2.84217094e-14]]), array([[1500.        , -238.58151238]]), array([[-1.0000000e-01, -2.9385898e+02]])]] \n",
       " ]\n",
       " "
      ]
     },
     "execution_count": 181,
     "metadata": {},
     "output_type": "execute_result"
    }
   ],
   "source": [
    "sol3"
   ]
  },
  {
   "cell_type": "code",
   "execution_count": 182,
   "metadata": {},
   "outputs": [
    {
     "data": {
      "text/plain": [
       "array([0., 0.])"
      ]
     },
     "execution_count": 182,
     "metadata": {},
     "output_type": "execute_result"
    }
   ],
   "source": [
    "sol.sol(0)"
   ]
  },
  {
   "cell_type": "code",
   "execution_count": 183,
   "metadata": {},
   "outputs": [
    {
     "data": {
      "text/plain": [
       "array([0., 0.])"
      ]
     },
     "execution_count": 183,
     "metadata": {},
     "output_type": "execute_result"
    }
   ],
   "source": [
    "sol3.sol(0)"
   ]
  },
  {
   "cell_type": "code",
   "execution_count": 184,
   "metadata": {},
   "outputs": [
    {
     "data": {
      "text/plain": [
       "(12,)"
      ]
     },
     "execution_count": 184,
     "metadata": {},
     "output_type": "execute_result"
    }
   ],
   "source": [
    "sol3.sols[0].t.shape"
   ]
  },
  {
   "cell_type": "code",
   "execution_count": 185,
   "metadata": {},
   "outputs": [
    {
     "data": {
      "text/plain": [
       "81.06146740852928"
      ]
     },
     "execution_count": 185,
     "metadata": {},
     "output_type": "execute_result"
    }
   ],
   "source": [
    "sol3.t_max()"
   ]
  },
  {
   "cell_type": "code",
   "execution_count": 186,
   "metadata": {},
   "outputs": [],
   "source": [
    "t = np.linspace(sol3.t_min(),sol3.t_max(), 50)"
   ]
  },
  {
   "cell_type": "code",
   "execution_count": 187,
   "metadata": {},
   "outputs": [
    {
     "data": {
      "text/plain": [
       "array([ 0.        ,  1.65431566,  3.30863132,  4.96294698,  6.61726265,\n",
       "        8.27157831,  9.92589397, 11.58020963, 13.23452529, 14.88884095,\n",
       "       16.54315661, 18.19747228, 19.85178794, 21.5061036 , 23.16041926,\n",
       "       24.81473492, 26.46905058, 28.12336624, 29.77768191, 31.43199757,\n",
       "       33.08631323, 34.74062889, 36.39494455, 38.04926021, 39.70357587,\n",
       "       41.35789153, 43.0122072 , 44.66652286, 46.32083852, 47.97515418,\n",
       "       49.62946984, 51.2837855 , 52.93810116, 54.59241683, 56.24673249,\n",
       "       57.90104815, 59.55536381, 61.20967947, 62.86399513, 64.51831079,\n",
       "       66.17262646, 67.82694212, 69.48125778, 71.13557344, 72.7898891 ,\n",
       "       74.44420476, 76.09852042, 77.75283609, 79.40715175, 81.06146741])"
      ]
     },
     "execution_count": 187,
     "metadata": {},
     "output_type": "execute_result"
    }
   ],
   "source": [
    "t"
   ]
  },
  {
   "cell_type": "code",
   "execution_count": 188,
   "metadata": {},
   "outputs": [
    {
     "data": {
      "text/plain": [
       "array([[ 0.00000000e+00,  1.93064766e+01,  2.40346365e+02,\n",
       "         6.70805762e+02,  1.10493451e+03,  1.51221564e+03,\n",
       "         1.89264915e+03,  2.24623505e+03,  2.57297332e+03,\n",
       "         2.87286398e+03,  3.14590702e+03,  3.39210243e+03,\n",
       "         3.61145023e+03,  3.80395042e+03,  3.96960298e+03,\n",
       "         4.10840792e+03,  4.22036525e+03,  4.30547496e+03,\n",
       "         4.36373704e+03,  4.39515151e+03,  4.39971837e+03,\n",
       "         4.37743760e+03,  4.32830921e+03,  4.25233321e+03,\n",
       "         4.14950958e+03,  4.01983834e+03,  3.86331948e+03,\n",
       "         3.67995300e+03,  3.46973891e+03,  3.23267719e+03,\n",
       "         2.96876785e+03,  2.67801090e+03,  2.36040633e+03,\n",
       "         2.01595414e+03,  1.64465433e+03,  1.24650690e+03,\n",
       "         8.21511854e+02,  3.69669189e+02,  5.42453506e+03,\n",
       "         5.06562452e+03,  4.67986635e+03,  4.26726056e+03,\n",
       "         3.82780716e+03,  3.36150613e+03,  2.86835749e+03,\n",
       "         2.34836123e+03,  1.80151735e+03,  1.22782585e+03,\n",
       "         6.27286735e+02, -1.00000000e-01],\n",
       "       [ 0.00000000e+00,  5.90127295e+01,  2.08215459e+02,\n",
       "         2.70536373e+02,  2.54307536e+02,  2.38078699e+02,\n",
       "         2.21849863e+02,  2.05621026e+02,  1.89392190e+02,\n",
       "         1.73163353e+02,  1.56934516e+02,  1.40705680e+02,\n",
       "         1.24476843e+02,  1.08248006e+02,  9.20191698e+01,\n",
       "         7.57903331e+01,  5.95614965e+01,  4.33326598e+01,\n",
       "         2.71038232e+01,  1.08749866e+01, -5.35385008e+00,\n",
       "        -2.15826867e+01, -3.78115234e+01, -5.40403600e+01,\n",
       "        -7.02691966e+01, -8.64980333e+01, -1.02726870e+02,\n",
       "        -1.18955707e+02, -1.35184543e+02, -1.51413380e+02,\n",
       "        -1.67642216e+02, -1.83871053e+02, -2.00099890e+02,\n",
       "        -2.16328726e+02, -2.32557563e+02, -2.48786400e+02,\n",
       "        -2.65015236e+02, -2.81244073e+02, -2.08839672e+02,\n",
       "        -2.25068508e+02, -2.41297345e+02, -2.57526182e+02,\n",
       "        -2.73755018e+02, -2.89983855e+02, -3.06212692e+02,\n",
       "        -3.22441528e+02, -3.38670365e+02, -3.54899202e+02,\n",
       "        -3.71128038e+02, -3.87356875e+02]])"
      ]
     },
     "execution_count": 188,
     "metadata": {},
     "output_type": "execute_result"
    }
   ],
   "source": [
    "sol3.sol(t)"
   ]
  },
  {
   "cell_type": "code",
   "execution_count": 189,
   "metadata": {},
   "outputs": [
    {
     "data": {
      "text/plain": [
       "[<matplotlib.lines.Line2D at 0x11e98cb70>]"
      ]
     },
     "execution_count": 189,
     "metadata": {},
     "output_type": "execute_result"
    },
    {
     "data": {
      "image/png": "[encoded data removed]",
      "text/plain": [
       "<Figure size 432x288 with 1 Axes>"
      ]
     },
     "metadata": {
      "needs_background": "light"
     },
     "output_type": "display_data"
    }
   ],
   "source": [
    "plt.plot(t, sol3.sol(t)[0])"
   ]
  },
  {
   "cell_type": "code",
   "execution_count": 190,
   "metadata": {},
   "outputs": [
    {
     "data": {
      "text/plain": [
       "[<matplotlib.lines.Line2D at 0x11eafe4e0>]"
      ]
     },
     "execution_count": 190,
     "metadata": {},
     "output_type": "execute_result"
    },
    {
     "data": {
      "image/png": "[encoded data removed]",
      "text/plain": [
       "<Figure size 432x288 with 1 Axes>"
      ]
     },
     "metadata": {
      "needs_background": "light"
     },
     "output_type": "display_data"
    }
   ],
   "source": [
    "plt.plot(t, sol3.sol(t)[1])"
   ]
  },
  {
   "cell_type": "code",
   "execution_count": 191,
   "metadata": {},
   "outputs": [],
   "source": [
    "#y1=sol.sol.y_events[0][0]"
   ]
  },
  {
   "cell_type": "code",
   "execution_count": 192,
   "metadata": {},
   "outputs": [],
   "source": [
    "#y1"
   ]
  },
  {
   "cell_type": "code",
   "execution_count": 193,
   "metadata": {},
   "outputs": [],
   "source": [
    "#r.staging_functions[1:]"
   ]
  },
  {
   "cell_type": "code",
   "execution_count": 194,
   "metadata": {},
   "outputs": [],
   "source": [
    "#s.t_span[1]"
   ]
  },
  {
   "cell_type": "code",
   "execution_count": 195,
   "metadata": {},
   "outputs": [],
   "source": [
    "#r.dynamics(0,y1)"
   ]
  },
  {
   "cell_type": "code",
   "execution_count": 196,
   "metadata": {
    "scrolled": false
   },
   "outputs": [],
   "source": [
    "#s.solve([t1, s.t_span[1]], y1, 1, user_events=r.staging_functions[1:]);"
   ]
  },
  {
   "cell_type": "code",
   "execution_count": 197,
   "metadata": {},
   "outputs": [],
   "source": [
    "# check if the termination is reached\n",
    "#assert(sol.sol.status==1)"
   ]
  },
  {
   "cell_type": "code",
   "execution_count": 202,
   "metadata": {
    "scrolled": true
   },
   "outputs": [
    {
     "name": "stdout",
     "output_type": "stream",
     "text": [
      "\n",
      " Nominal Simulating: T: [0, 6000], Y0: [0. 0.], Stage: 0\n",
      "Current ts: [41.57554744437444, 76.97762493288191, 81.06146740852928]\n",
      "\n",
      " Nominal Simulating: T: [41.57554744437444, 6000], Y0: [7647.47127891    0.        ], Stage: 1\n",
      "Current ts: [99.4907128353565, 111.4657975163297]\n",
      "\n",
      " Nominal Simulating: T: [99.4907128353565, 6000], Y0: [1500.         -125.26263141], Stage: 2\n",
      "Current ts: [114.77337152856462]\n",
      "No further cases. Returning\n"
     ]
    },
    {
     "name": "stderr",
     "output_type": "stream",
     "text": [
      "/Users/Devansh/.virtualenvs/rocketPy/lib/python3.6/site-packages/ipykernel_launcher.py:87: DeprecationWarning: The truth value of an empty array is ambiguous. Returning False, but in future this will result in an error. Use `array.size > 0` to check that an array is not empty.\n"
     ]
    }
   ],
   "source": [
    "nominal_sol = s.nominal_solve([0,6000], r.y0, 0)"
   ]
  },
  {
   "cell_type": "code",
   "execution_count": 206,
   "metadata": {},
   "outputs": [
    {
     "data": {
      "text/plain": [
       "array([2757.11174051,  309.75612043])"
      ]
     },
     "execution_count": 206,
     "metadata": {},
     "output_type": "execute_result"
    }
   ],
   "source": [
    "nominal_sol.sol(10)"
   ]
  },
  {
   "cell_type": "code",
   "execution_count": 211,
   "metadata": {},
   "outputs": [
    {
     "data": {
      "text/plain": [
       "<matplotlib.legend.Legend at 0x11f475da0>"
      ]
     },
     "execution_count": 211,
     "metadata": {},
     "output_type": "execute_result"
    },
    {
     "data": {
      "image/png": "[encoded data removed]",
      "text/plain": [
       "<Figure size 432x288 with 1 Axes>"
      ]
     },
     "metadata": {
      "needs_background": "light"
     },
     "output_type": "display_data"
    }
   ],
   "source": [
    "i=0;\n",
    "t_range = np.linspace(nominal_sol.t_min(),nominal_sol.t_max(), 500)\n",
    "plt.plot(t_range,nominal_sol.sol(t_range)[0], label=i)\n",
    "\n",
    "    #plt.xlim([0,50])\n",
    "plt.grid()\n",
    "plt.xlabel('t')\n",
    "plt.ylabel('y')\n",
    "plt.legend()"
   ]
  },
  {
   "cell_type": "code",
   "execution_count": null,
   "metadata": {},
   "outputs": [],
   "source": []
  },
  {
   "cell_type": "code",
   "execution_count": 71,
   "metadata": {},
   "outputs": [
    {
     "name": "stdout",
     "output_type": "stream",
     "text": [
      "\n",
      " Full Simulating: T: [0, 6000], Y0: [0. 0.], Stage: 0\n",
      "Current ts: [41.57554744437444, 76.97762493288191, 81.06146740852928]\n",
      "There are further splits, using new tspan = [41.57554744437444, 6000], at y0=[7647.47127891    0.        ]\n",
      "\n",
      " Full Simulating: T: [41.57554744437444, 6000], Y0: [7647.47127891    0.        ], Stage: 1\n",
      "Current ts: [41.57554744437444, 99.4907128353565, 111.4657975163297]\n",
      "There are further splits, using new tspan = [99.4907128353565, 6000], at y0=[1500.         -125.26263141]\n",
      "\n",
      " Full Simulating: T: [99.4907128353565, 6000], Y0: [1500.         -125.26263141], Stage: 2\n",
      "Current ts: [99.4907128353565, 114.77337152856462]\n",
      "\n",
      " Full Simulating: T: [41.57554744437444, 6000], Y0: [7647.47127891    0.        ], Stage: 2\n",
      "Current ts: [41.57554744437444, 117.2249566200323, 134.1565857564291]\n",
      "There are further splits, using new tspan = [117.2249566200323, 6000], at y0=[1500.          -88.57251475]\n",
      "There are further splits, using new tspan = [76.97762493288191, 6000], at y0=[1500.         -347.29438016]\n",
      "\n",
      " Full Simulating: T: [76.97762493288191, 6000], Y0: [1500.         -347.29438016], Stage: 1\n",
      "Current ts: [76.97762493288191, 83.29626869262131]\n",
      "\n",
      " Full Simulating: T: [76.97762493288191, 6000], Y0: [1500.         -347.29438016], Stage: 2\n",
      "Current ts: [76.97762493288191, 86.44726008307904]\n"
     ]
    }
   ],
   "source": [
    "sols = s.full_solve([0,6000], r.y0, 0)"
   ]
  },
  {
   "cell_type": "code",
   "execution_count": 72,
   "metadata": {},
   "outputs": [
    {
     "data": {
      "text/plain": [
       "[\n",
       "  [\n",
       "  Stages: [0]\n",
       "  Sols: [  message: 'A termination event occurred.'\n",
       "      nfev: 98\n",
       "      njev: 0\n",
       "       nlu: 0\n",
       "       sol: <scipy.integrate._ivp.common.OdeSolution object at 0x11ed090f0>\n",
       "    status: 1\n",
       "   success: True\n",
       "         t: array([0.00000000e+00, 1.00000000e-04, 1.10000000e-03, 1.11000000e-02,\n",
       "        1.11100000e-01, 1.11110000e+00, 2.79214387e+00, 3.62727257e+00,\n",
       "        4.46240128e+00, 5.31679544e+00, 1.38607371e+01, 8.10614674e+01])\n",
       "  t_events: [array([41.57554744]), array([76.97762493]), array([81.06146741])]\n",
       "         y: array([[ 0.00000000e+00,  4.50950000e-07,  5.45649500e-05,\n",
       "          5.55615495e-03,  5.56617055e-01,  5.56717261e+01,\n",
       "          3.51563658e+02,  5.93319709e+02,  8.91394822e+02,\n",
       "          1.19888202e+03,  3.87988823e+03, -1.00000000e-01],\n",
       "        [ 0.00000000e+00,  9.01900000e-03,  9.92090000e-02,\n",
       "          1.00110900e+00,  1.00201090e+01,  1.00210109e+02,\n",
       "          2.51823455e+02,  3.27143713e+02,  3.64079964e+02,\n",
       "          3.55698357e+02,  2.71882290e+02, -3.87356875e+02]])\n",
       "  y_events: [array([[7647.47127891,    0.        ]]), array([[1500.        , -347.29438016]]), array([[-1.00000000e-01, -3.87356875e+02]])]] \n",
       "  ]\n",
       "  , \n",
       "  [\n",
       "  Stages: [0, 1]\n",
       "  Sols: [  message: 'A termination event occurred.'\n",
       "      nfev: 98\n",
       "      njev: 0\n",
       "       nlu: 0\n",
       "       sol: <scipy.integrate._ivp.common.OdeSolution object at 0x11ed090f0>\n",
       "    status: 1\n",
       "   success: True\n",
       "         t: array([0.00000000e+00, 1.00000000e-04, 1.10000000e-03, 1.11000000e-02,\n",
       "        1.11100000e-01, 1.11110000e+00, 2.79214387e+00, 3.62727257e+00,\n",
       "        4.46240128e+00, 5.31679544e+00, 1.38607371e+01, 8.10614674e+01])\n",
       "  t_events: [array([41.57554744]), array([76.97762493]), array([81.06146741])]\n",
       "         y: array([[ 0.00000000e+00,  4.50950000e-07,  5.45649500e-05,\n",
       "          5.55615495e-03,  5.56617055e-01,  5.56717261e+01,\n",
       "          3.51563658e+02,  5.93319709e+02,  8.91394822e+02,\n",
       "          1.19888202e+03,  3.87988823e+03, -1.00000000e-01],\n",
       "        [ 0.00000000e+00,  9.01900000e-03,  9.92090000e-02,\n",
       "          1.00110900e+00,  1.00201090e+01,  1.00210109e+02,\n",
       "          2.51823455e+02,  3.27143713e+02,  3.64079964e+02,\n",
       "          3.55698357e+02,  2.71882290e+02, -3.87356875e+02]])\n",
       "  y_events: [array([[7647.47127891,    0.        ]]), array([[1500.        , -347.29438016]]), array([[-1.00000000e-01, -3.87356875e+02]])],   message: 'A termination event occurred.'\n",
       "      nfev: 80\n",
       "      njev: 0\n",
       "       nlu: 0\n",
       "       sol: <scipy.integrate._ivp.common.OdeSolution object at 0x11ed3c390>\n",
       "    status: 1\n",
       "   success: True\n",
       "         t: array([ 41.57554744,  41.57564938,  41.57666875,  41.58686243,\n",
       "         41.68879921,  42.70816707,  52.90184566,  60.83244688,\n",
       "         68.7630481 ,  78.58408055,  90.400116  , 105.92294876,\n",
       "        111.46579752])\n",
       "  t_events: [array([41.57554744]), array([99.49071284]), array([111.46579752])]\n",
       "         y: array([[ 7.64747128e+03,  7.64747128e+03,  7.64747127e+03,\n",
       "          7.64747065e+03,  7.64740837e+03,  7.64118724e+03,\n",
       "          7.08682336e+03,  6.26716813e+03,  5.32742613e+03,\n",
       "          4.11445151e+03,  2.63815255e+03,  6.94082913e+02,\n",
       "         -1.00000000e-01],\n",
       "        [ 0.00000000e+00, -9.99999869e-04, -1.09999985e-02,\n",
       "         -1.10999956e-01, -1.11097073e+00, -1.10819593e+01,\n",
       "         -8.89480741e+01, -1.13598915e+02, -1.21790486e+02,\n",
       "         -1.24508623e+02, -1.25144949e+02, -1.25253075e+02,\n",
       "         -1.25291567e+02]])\n",
       "  y_events: [array([[7647.47127891,    0.        ]]), array([[1500.        , -125.26263141]]), array([[-1.00000000e-01, -1.25291567e+02]])]] \n",
       "  ]\n",
       "  , \n",
       "  [\n",
       "  Stages: [0, 1, 2]\n",
       "  Sols: [  message: 'A termination event occurred.'\n",
       "      nfev: 98\n",
       "      njev: 0\n",
       "       nlu: 0\n",
       "       sol: <scipy.integrate._ivp.common.OdeSolution object at 0x11ed090f0>\n",
       "    status: 1\n",
       "   success: True\n",
       "         t: array([0.00000000e+00, 1.00000000e-04, 1.10000000e-03, 1.11000000e-02,\n",
       "        1.11100000e-01, 1.11110000e+00, 2.79214387e+00, 3.62727257e+00,\n",
       "        4.46240128e+00, 5.31679544e+00, 1.38607371e+01, 8.10614674e+01])\n",
       "  t_events: [array([41.57554744]), array([76.97762493]), array([81.06146741])]\n",
       "         y: array([[ 0.00000000e+00,  4.50950000e-07,  5.45649500e-05,\n",
       "          5.55615495e-03,  5.56617055e-01,  5.56717261e+01,\n",
       "          3.51563658e+02,  5.93319709e+02,  8.91394822e+02,\n",
       "          1.19888202e+03,  3.87988823e+03, -1.00000000e-01],\n",
       "        [ 0.00000000e+00,  9.01900000e-03,  9.92090000e-02,\n",
       "          1.00110900e+00,  1.00201090e+01,  1.00210109e+02,\n",
       "          2.51823455e+02,  3.27143713e+02,  3.64079964e+02,\n",
       "          3.55698357e+02,  2.71882290e+02, -3.87356875e+02]])\n",
       "  y_events: [array([[7647.47127891,    0.        ]]), array([[1500.        , -347.29438016]]), array([[-1.00000000e-01, -3.87356875e+02]])],   message: 'A termination event occurred.'\n",
       "      nfev: 80\n",
       "      njev: 0\n",
       "       nlu: 0\n",
       "       sol: <scipy.integrate._ivp.common.OdeSolution object at 0x11ed3c390>\n",
       "    status: 1\n",
       "   success: True\n",
       "         t: array([ 41.57554744,  41.57564938,  41.57666875,  41.58686243,\n",
       "         41.68879921,  42.70816707,  52.90184566,  60.83244688,\n",
       "         68.7630481 ,  78.58408055,  90.400116  , 105.92294876,\n",
       "        111.46579752])\n",
       "  t_events: [array([41.57554744]), array([99.49071284]), array([111.46579752])]\n",
       "         y: array([[ 7.64747128e+03,  7.64747128e+03,  7.64747127e+03,\n",
       "          7.64747065e+03,  7.64740837e+03,  7.64118724e+03,\n",
       "          7.08682336e+03,  6.26716813e+03,  5.32742613e+03,\n",
       "          4.11445151e+03,  2.63815255e+03,  6.94082913e+02,\n",
       "         -1.00000000e-01],\n",
       "        [ 0.00000000e+00, -9.99999869e-04, -1.09999985e-02,\n",
       "         -1.10999956e-01, -1.11097073e+00, -1.10819593e+01,\n",
       "         -8.89480741e+01, -1.13598915e+02, -1.21790486e+02,\n",
       "         -1.24508623e+02, -1.25144949e+02, -1.25253075e+02,\n",
       "         -1.25291567e+02]])\n",
       "  y_events: [array([[7647.47127891,    0.        ]]), array([[1500.        , -125.26263141]]), array([[-1.00000000e-01, -1.25291567e+02]])],   message: 'A termination event occurred.'\n",
       "      nfev: 32\n",
       "      njev: 0\n",
       "       nlu: 0\n",
       "       sol: <scipy.integrate._ivp.common.OdeSolution object at 0x11ed3c978>\n",
       "    status: 1\n",
       "   success: True\n",
       "         t: array([ 99.49071284,  99.65605379, 101.30946335, 105.70178579,\n",
       "        110.74700644, 114.77337153])\n",
       "  t_events: [array([], dtype=float64), array([99.49071284]), array([114.77337153])]\n",
       "         y: array([[ 1.50000000e+03,  1.47942068e+03,  1.28577866e+03,\n",
       "          8.34711725e+02,  3.63514896e+02, -1.00000000e-01],\n",
       "        [-1.25262631e+02, -1.23682803e+02, -1.11529317e+02,\n",
       "         -9.67015365e+01, -9.11841106e+01, -8.96363653e+01]])\n",
       "  y_events: [array([], dtype=float64), array([[1500.        , -125.26263141]]), array([[ -0.1      , -89.6363653]])]] \n",
       "  ]\n",
       "  , \n",
       "  [\n",
       "  Stages: [0, 2]\n",
       "  Sols: [  message: 'A termination event occurred.'\n",
       "      nfev: 98\n",
       "      njev: 0\n",
       "       nlu: 0\n",
       "       sol: <scipy.integrate._ivp.common.OdeSolution object at 0x11ed090f0>\n",
       "    status: 1\n",
       "   success: True\n",
       "         t: array([0.00000000e+00, 1.00000000e-04, 1.10000000e-03, 1.11000000e-02,\n",
       "        1.11100000e-01, 1.11110000e+00, 2.79214387e+00, 3.62727257e+00,\n",
       "        4.46240128e+00, 5.31679544e+00, 1.38607371e+01, 8.10614674e+01])\n",
       "  t_events: [array([41.57554744]), array([76.97762493]), array([81.06146741])]\n",
       "         y: array([[ 0.00000000e+00,  4.50950000e-07,  5.45649500e-05,\n",
       "          5.55615495e-03,  5.56617055e-01,  5.56717261e+01,\n",
       "          3.51563658e+02,  5.93319709e+02,  8.91394822e+02,\n",
       "          1.19888202e+03,  3.87988823e+03, -1.00000000e-01],\n",
       "        [ 0.00000000e+00,  9.01900000e-03,  9.92090000e-02,\n",
       "          1.00110900e+00,  1.00201090e+01,  1.00210109e+02,\n",
       "          2.51823455e+02,  3.27143713e+02,  3.64079964e+02,\n",
       "          3.55698357e+02,  2.71882290e+02, -3.87356875e+02]])\n",
       "  y_events: [array([[7647.47127891,    0.        ]]), array([[1500.        , -347.29438016]]), array([[-1.00000000e-01, -3.87356875e+02]])],   message: 'A termination event occurred.'\n",
       "      nfev: 104\n",
       "      njev: 0\n",
       "       nlu: 0\n",
       "       sol: <scipy.integrate._ivp.common.OdeSolution object at 0x11ed47c18>\n",
       "    status: 1\n",
       "   success: True\n",
       "         t: array([ 41.57554744,  41.57564938,  41.57666875,  41.58686243,\n",
       "         41.68879921,  42.70816707,  50.57246576,  56.11718422,\n",
       "         61.66190268,  68.8436887 ,  77.48587847,  88.97582962,\n",
       "        104.66145455, 122.22962847, 134.15658576])\n",
       "  t_events: [array([41.57554744]), array([117.22495662]), array([134.15658576])]\n",
       "         y: array([[ 7.64747128e+03,  7.64747128e+03,  7.64747127e+03,\n",
       "          7.64747065e+03,  7.64740837e+03,  7.64119544e+03,\n",
       "          7.30279612e+03,  6.88236442e+03,  6.41308929e+03,\n",
       "          5.78416601e+03,  5.02017703e+03,  4.00254798e+03,\n",
       "          2.61294273e+03,  1.05637885e+03, -1.00000000e-01],\n",
       "        [ 0.00000000e+00, -9.99999869e-04, -1.09999985e-02,\n",
       "         -1.10999927e-01, -1.11094161e+00, -1.10531017e+01,\n",
       "         -6.73452068e+01, -8.17996120e+01, -8.65424503e+01,\n",
       "         -8.81550748e+01, -8.85130612e+01, -8.85694357e+01,\n",
       "         -8.85623236e+01, -8.85140170e+01, -8.85407858e+01]])\n",
       "  y_events: [array([[7647.47127891,    0.        ]]), array([[1500.        ,  -88.57251475]]), array([[ -0.1      , -88.5407858]])]] \n",
       "  ]\n",
       "  , \n",
       "  [\n",
       "  Stages: [0, 1]\n",
       "  Sols: [  message: 'A termination event occurred.'\n",
       "      nfev: 98\n",
       "      njev: 0\n",
       "       nlu: 0\n",
       "       sol: <scipy.integrate._ivp.common.OdeSolution object at 0x11ed090f0>\n",
       "    status: 1\n",
       "   success: True\n",
       "         t: array([0.00000000e+00, 1.00000000e-04, 1.10000000e-03, 1.11000000e-02,\n",
       "        1.11100000e-01, 1.11110000e+00, 2.79214387e+00, 3.62727257e+00,\n",
       "        4.46240128e+00, 5.31679544e+00, 1.38607371e+01, 8.10614674e+01])\n",
       "  t_events: [array([41.57554744]), array([76.97762493]), array([81.06146741])]\n",
       "         y: array([[ 0.00000000e+00,  4.50950000e-07,  5.45649500e-05,\n",
       "          5.55615495e-03,  5.56617055e-01,  5.56717261e+01,\n",
       "          3.51563658e+02,  5.93319709e+02,  8.91394822e+02,\n",
       "          1.19888202e+03,  3.87988823e+03, -1.00000000e-01],\n",
       "        [ 0.00000000e+00,  9.01900000e-03,  9.92090000e-02,\n",
       "          1.00110900e+00,  1.00201090e+01,  1.00210109e+02,\n",
       "          2.51823455e+02,  3.27143713e+02,  3.64079964e+02,\n",
       "          3.55698357e+02,  2.71882290e+02, -3.87356875e+02]])\n",
       "  y_events: [array([[7647.47127891,    0.        ]]), array([[1500.        , -347.29438016]]), array([[-1.00000000e-01, -3.87356875e+02]])],   message: 'A termination event occurred.'\n",
       "      nfev: 26\n",
       "      njev: 0\n",
       "       nlu: 0\n",
       "       sol: <scipy.integrate._ivp.common.OdeSolution object at 0x11eb660b8>\n",
       "    status: 1\n",
       "   success: True\n",
       "         t: array([76.97762493, 77.11409563, 78.47880264, 81.40795806, 83.29626869])\n",
       "  t_events: [array([], dtype=float64), array([76.97762493]), array([83.29626869])]\n",
       "         y: array([[ 1.50000000e+03,  1.45320331e+03,  1.03949625e+03,\n",
       "          3.57783842e+02, -1.00000000e-01],\n",
       "        [-3.47294380e+02, -3.38603316e+02, -2.73312600e+02,\n",
       "         -2.02343127e+02, -1.78416385e+02]])\n",
       "  y_events: [array([], dtype=float64), array([[1500.        , -347.29438016]]), array([[-1.00000000e-01, -1.78416385e+02]])]] \n",
       "  ]\n",
       "  , \n",
       "  [\n",
       "  Stages: [0, 2]\n",
       "  Sols: [  message: 'A termination event occurred.'\n",
       "      nfev: 98\n",
       "      njev: 0\n",
       "       nlu: 0\n",
       "       sol: <scipy.integrate._ivp.common.OdeSolution object at 0x11ed090f0>\n",
       "    status: 1\n",
       "   success: True\n",
       "         t: array([0.00000000e+00, 1.00000000e-04, 1.10000000e-03, 1.11000000e-02,\n",
       "        1.11100000e-01, 1.11110000e+00, 2.79214387e+00, 3.62727257e+00,\n",
       "        4.46240128e+00, 5.31679544e+00, 1.38607371e+01, 8.10614674e+01])\n",
       "  t_events: [array([41.57554744]), array([76.97762493]), array([81.06146741])]\n",
       "         y: array([[ 0.00000000e+00,  4.50950000e-07,  5.45649500e-05,\n",
       "          5.55615495e-03,  5.56617055e-01,  5.56717261e+01,\n",
       "          3.51563658e+02,  5.93319709e+02,  8.91394822e+02,\n",
       "          1.19888202e+03,  3.87988823e+03, -1.00000000e-01],\n",
       "        [ 0.00000000e+00,  9.01900000e-03,  9.92090000e-02,\n",
       "          1.00110900e+00,  1.00201090e+01,  1.00210109e+02,\n",
       "          2.51823455e+02,  3.27143713e+02,  3.64079964e+02,\n",
       "          3.55698357e+02,  2.71882290e+02, -3.87356875e+02]])\n",
       "  y_events: [array([[7647.47127891,    0.        ]]), array([[1500.        , -347.29438016]]), array([[-1.00000000e-01, -3.87356875e+02]])],   message: 'A termination event occurred.'\n",
       "      nfev: 38\n",
       "      njev: 0\n",
       "       nlu: 0\n",
       "       sol: <scipy.integrate._ivp.common.OdeSolution object at 0x11eb7a160>\n",
       "    status: 1\n",
       "   success: True\n",
       "         t: array([76.97762493, 77.10241799, 78.35034854, 80.00025366, 82.33221942,\n",
       "        85.45771261, 86.44726008])\n",
       "  t_events: [array([], dtype=float64), array([76.97762493]), array([86.44726008])]\n",
       "         y: array([[ 1.50000000e+03,  1.45771953e+03,  1.11904841e+03,\n",
       "          8.01320141e+02,  4.64508847e+02,  1.03266306e+02,\n",
       "         -1.00000000e-01],\n",
       "        [-3.47294380e+02, -3.30608952e+02, -2.27026991e+02,\n",
       "         -1.66229858e+02, -1.28034157e+02, -1.06399121e+02,\n",
       "         -1.02604962e+02]])\n",
       "  y_events: [array([], dtype=float64), array([[1500.        , -347.29438016]]), array([[-1.00000000e-01, -1.02604962e+02]])]] \n",
       "  ]\n",
       "  ]"
      ]
     },
     "execution_count": 72,
     "metadata": {},
     "output_type": "execute_result"
    }
   ],
   "source": [
    "sols"
   ]
  },
  {
   "cell_type": "code",
   "execution_count": 73,
   "metadata": {},
   "outputs": [
    {
     "data": {
      "text/plain": [
       "6"
      ]
     },
     "execution_count": 73,
     "metadata": {},
     "output_type": "execute_result"
    }
   ],
   "source": [
    "len(sols)"
   ]
  },
  {
   "cell_type": "code",
   "execution_count": null,
   "metadata": {
    "scrolled": false
   },
   "outputs": [],
   "source": [
    "type(sols[2])"
   ]
  },
  {
   "cell_type": "code",
   "execution_count": null,
   "metadata": {},
   "outputs": [],
   "source": [
    "sols[0]"
   ]
  },
  {
   "cell_type": "code",
   "execution_count": null,
   "metadata": {},
   "outputs": [],
   "source": [
    "f = None\n",
    "a = 3\n",
    "(a and f) is None"
   ]
  },
  {
   "cell_type": "code",
   "execution_count": null,
   "metadata": {},
   "outputs": [],
   "source": []
  },
  {
   "cell_type": "code",
   "execution_count": 219,
   "metadata": {
    "scrolled": false
   },
   "outputs": [
    {
     "data": {
      "text/plain": [
       "<matplotlib.legend.Legend at 0x1201c0e48>"
      ]
     },
     "execution_count": 219,
     "metadata": {},
     "output_type": "execute_result"
    },
    {
     "data": {
      "image/png": "[encoded data removed]",
      "text/plain": [
       "<Figure size 432x288 with 1 Axes>"
      ]
     },
     "metadata": {
      "needs_background": "light"
     },
     "output_type": "display_data"
    }
   ],
   "source": [
    "i=0;\n",
    "for sol in sols:\n",
    "    t_range = np.linspace(sol.t_min(),sol.t_max(), 500)\n",
    "    plt.plot(t_range,sol.sol(t_range)[0], '--',label=i)\n",
    "    i+=1\n",
    "    #plt.xlim([0,50])\n",
    "    \n",
    "t_range = np.linspace(nominal_sol.t_min(),nominal_sol.t_max(), 500)\n",
    "plt.plot(t_range,nominal_sol.sol(t_range)[0], 'k', label='Nominal')\n",
    "\n",
    "plt.grid()\n",
    "plt.xlabel('t')\n",
    "plt.ylabel('y')\n",
    "plt.legend()"
   ]
  },
  {
   "cell_type": "code",
   "execution_count": 220,
   "metadata": {},
   "outputs": [
    {
     "data": {
      "text/plain": [
       "<matplotlib.legend.Legend at 0x11fd2ce80>"
      ]
     },
     "execution_count": 220,
     "metadata": {},
     "output_type": "execute_result"
    },
    {
     "data": {
      "image/png": "[encoded data removed]",
      "text/plain": [
       "<Figure size 432x288 with 1 Axes>"
      ]
     },
     "metadata": {
      "needs_background": "light"
     },
     "output_type": "display_data"
    }
   ],
   "source": [
    "i=0;\n",
    "for sol in sols:\n",
    "    t_range = np.linspace(sol.t_min(),sol.t_max(), 500)\n",
    "    plt.plot(t_range,sol.sol(t_range)[1], '--',label=i)\n",
    "    i+=1\n",
    "    #plt.xlim([0,50])\n",
    "    \n",
    "t_range = np.linspace(nominal_sol.t_min(),nominal_sol.t_max(), 500)\n",
    "plt.plot(t_range,nominal_sol.sol(t_range)[1], 'k', label='Nominal')\n",
    "\n",
    "plt.grid()\n",
    "plt.xlabel('t')\n",
    "plt.ylabel('v')\n",
    "plt.legend()"
   ]
  },
  {
   "cell_type": "code",
   "execution_count": 209,
   "metadata": {},
   "outputs": [
    {
     "data": {
      "text/plain": [
       "<matplotlib.legend.Legend at 0x11ec109b0>"
      ]
     },
     "execution_count": 209,
     "metadata": {},
     "output_type": "execute_result"
    },
    {
     "data": {
      "image/png": "[encoded data removed]",
      "text/plain": [
       "<Figure size 432x288 with 1 Axes>"
      ]
     },
     "metadata": {
      "needs_background": "light"
     },
     "output_type": "display_data"
    }
   ],
   "source": [
    "i=0;\n",
    "for sol in sols:\n",
    "    t_range = np.linspace(sol.t_min(),sol.t_max(), 500)\n",
    "    plt.plot(sol.sol(t_range)[0],sol.sol(t_range)[1], label=i)\n",
    "    i+=1\n",
    "    #plt.xlim([0,50])\n",
    "plt.grid()\n",
    "plt.xlabel('t')\n",
    "plt.ylabel('v')\n",
    "plt.legend()"
   ]
  },
  {
   "cell_type": "code",
   "execution_count": 210,
   "metadata": {},
   "outputs": [
    {
     "data": {
      "image/png": "[encoded data removed]",
      "text/plain": [
       "<Figure size 720x1080 with 6 Axes>"
      ]
     },
     "metadata": {
      "needs_background": "light"
     },
     "output_type": "display_data"
    }
   ],
   "source": [
    "i=0;\n",
    "fig, axes = plt.subplots(6,1, sharex=True, sharey=True, figsize=(10,15), squeeze=True)\n",
    "for sol in sols:\n",
    "    t_range = np.linspace(sol.t_min(),sol.t_max(), 500)\n",
    "    axes[i].plot(t_range,sol.sol(t_range)[1], label=i)\n",
    "    \n",
    "    #plt.xlim([0,50])\n",
    "    axes[i].grid(True)\n",
    "    plt.xlabel('t')\n",
    "    axes[i].set_ylabel('v')\n",
    "    axes[i].legend()\n",
    "    i+=1\n"
   ]
  },
  {
   "cell_type": "code",
   "execution_count": null,
   "metadata": {},
   "outputs": [],
   "source": []
  },
  {
   "cell_type": "code",
   "execution_count": null,
   "metadata": {},
   "outputs": [],
   "source": [
    "n2 = np.array(5)"
   ]
  },
  {
   "cell_type": "code",
   "execution_count": null,
   "metadata": {},
   "outputs": [],
   "source": [
    "n2"
   ]
  },
  {
   "cell_type": "code",
   "execution_count": null,
   "metadata": {},
   "outputs": [],
   "source": [
    "axes"
   ]
  },
  {
   "cell_type": "code",
   "execution_count": null,
   "metadata": {
    "scrolled": true
   },
   "outputs": [],
   "source": [
    "for s in sols:\n",
    "    print(s.stages)"
   ]
  },
  {
   "cell_type": "code",
   "execution_count": null,
   "metadata": {},
   "outputs": [],
   "source": []
  }
 ],
 "metadata": {
  "kernelspec": {
   "display_name": "rocketPy",
   "language": "python",
   "name": "rocketpy"
  },
  "language_info": {
   "codemirror_mode": {
    "name": "ipython",
    "version": 3
   },
   "file_extension": ".py",
   "mimetype": "text/x-python",
   "name": "python",
   "nbconvert_exporter": "python",
   "pygments_lexer": "ipython3",
   "version": "3.6.7"
  }
 },
 "nbformat": 4,
 "nbformat_minor": 2
}
