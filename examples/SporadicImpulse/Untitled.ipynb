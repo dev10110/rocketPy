{
 "cells": [
  {
   "cell_type": "code",
   "execution_count": 9,
   "metadata": {},
   "outputs": [],
   "source": [
    "import rocketPy as rp\n",
    "from rocketPy import ureg\n",
    "import pickle"
   ]
  },
  {
   "cell_type": "code",
   "execution_count": 13,
   "metadata": {},
   "outputs": [
    {
     "name": "stdout",
     "output_type": "stream",
     "text": [
      "Rocket: Sporadic Impulse\n",
      "\n",
      "Rocket Details\n",
      "+--------------------------+----------------+-------------------+\n",
      "|        Parameter         |     Value      |       Notes       |\n",
      "+--------------------------+----------------+-------------------+\n",
      "|        Total Mass        |   3.7777 kg    |                   |\n",
      "|       Total Length       |  354.0254 cm   |                   |\n",
      "|           X_CG           |   2.189206 m   |                   |\n",
      "|           X_CP           |    2.8571 m    | At default values |\n",
      "| Static Margin (calibers) |     4.3824     | At default values |\n",
      "|            CD            | 1.5123 cm / in | At default values |\n",
      "|           CNa            | 12.9751 / rad  | At default values |\n",
      "+--------------------------+----------------+-------------------+\n",
      "\n",
      "Component Details\n",
      "+-----------+------------+------------+---------+-----------------+---------------------+\n",
      "| Component |    Type    |  Material  |   Mass  | Mass Fraction % |         CNa         |\n",
      "+-----------+------------+------------+---------+-----------------+---------------------+\n",
      "| Nose Cone |  NoseCone  |    PLA     | 0.24 kg |       6.39      |     2.097 / rad     |\n",
      "| Body Tube |  BodyTube  |  Phenolic  | 2.78 kg |      73.69      | 0.000 cm / in / rad |\n",
      "| Boat Tail | Transition |  Phenolic  | 0.00 kg |       0.01      |     0.000 / rad     |\n",
      "|    Fins   |   FinSet   | Al-6061-T6 | 0.75 kg |      19.92      |     10.879 / rad    |\n",
      "+-----------+------------+------------+---------+-----------------+---------------------+\n",
      "\n",
      "Describing all components in full:\n",
      "\n",
      "Nose Cone (type: NoseCone)\n",
      "+----------------+-------------------+---------------------+\n",
      "|   Parameter    |     Value (SI)    |        Value        |\n",
      "+----------------+-------------------+---------------------+\n",
      "|     shape      |      Conical      |                     |\n",
      "|     x_ref      |      0.000 m      |       0.000 m       |\n",
      "|    diameter    |      0.152 m      |       6.000 in      |\n",
      "|     length     |      0.480 m      |      48.000 cm      |\n",
      "| wall_thickness |      0.002 m      |       2.000 mm      |\n",
      "|    material    |  PLA: (Material)) |                     |\n",
      "|      name      |     Nose Cone     |                     |\n",
      "|      mass      |      0.241 kg     |       0.241 kg      |\n",
      "|      I_xx      | 0.001 kg * m ** 2 |  1.086 in ** 2 * kg |\n",
      "|      I_yy      | 0.003 kg * m ** 2 | 30.887 cm ** 2 * kg |\n",
      "|      I_zz      | 0.003 kg * m ** 2 | 30.887 cm ** 2 * kg |\n",
      "|     y_ref      |      0.000 m      |       0.000 m       |\n",
      "|     z_ref      |      0.000 m      |       0.000 m       |\n",
      "|     A_ref      |    0.018 m ** 2   |    28.274 in ** 2   |\n",
      "+----------------+-------------------+---------------------+\n",
      "Body Tube (type: BodyTube)\n",
      "+----------------+-----------------------+------------------------+\n",
      "|   Parameter    |       Value (SI)      |         Value          |\n",
      "+----------------+-----------------------+------------------------+\n",
      "|     A_ref      |      0.018 m ** 2     |     28.274 in ** 2     |\n",
      "|     d_ref      |        0.152 m        |        6.000 in        |\n",
      "|    diameter    |        0.152 m        |        6.000 in        |\n",
      "|     length     |        3.060 m        |       306.000 cm       |\n",
      "| wall_thickness |        0.002 m        |        2.000 mm        |\n",
      "|    material    | Phenolic: (Material)) |                        |\n",
      "|      name      |       Body Tube       |                        |\n",
      "|      mass      |        2.784 kg       |        2.784 kg        |\n",
      "|      I_xx      |   0.016 kg * m ** 2   |  25.053 in ** 2 * kg   |\n",
      "|      I_yy      |   2.172 kg * m ** 2   | 21720.583 cm ** 2 * kg |\n",
      "|      I_zz      |   2.172 kg * m ** 2   | 21720.583 cm ** 2 * kg |\n",
      "|     x_ref      |        0.480 m        |        0.480 m         |\n",
      "|     y_ref      |        0.000 m        |        0.000 m         |\n",
      "|     z_ref      |        0.000 m        |        0.000 m         |\n",
      "+----------------+-----------------------+------------------------+\n",
      "Boat Tail (type: Transition)\n",
      "+----------------+-----------------------+--------------------+\n",
      "|   Parameter    |       Value (SI)      |       Value        |\n",
      "+----------------+-----------------------+--------------------+\n",
      "|     A_ref      |      0.018 m ** 2     |   28.274 in ** 2   |\n",
      "|    fore_dia    |        0.152 m        |      6.000 in      |\n",
      "|    aft_dia     |        0.152 m        |      6.000 in      |\n",
      "|     d_ref      |        0.152 m        |      6.000 in      |\n",
      "|     length     |        0.000 m        |      0.010 in      |\n",
      "| wall_thickness |        0.002 m        |      2.000 mm      |\n",
      "|    material    | Phenolic: (Material)) |                    |\n",
      "|      name      |       Boat Tail       |                    |\n",
      "|      mass      |        0.000 kg       |      0.000 kg      |\n",
      "|      I_xx      |   0.000 kg * m ** 2   | 0.002 in ** 2 * kg |\n",
      "|      I_yy      |   0.000 kg * m ** 2   | 0.000 in ** 2 * kg |\n",
      "|      I_zz      |   0.000 kg * m ** 2   | 0.000 in ** 2 * kg |\n",
      "|     x_ref      |        3.540 m        |      3.540 m       |\n",
      "|     y_ref      |        0.000 m        |      0.000 m       |\n",
      "|     z_ref      |        0.000 m        |      0.000 m       |\n",
      "+----------------+-----------------------+--------------------+\n",
      "Fins (type: FinSet)\n",
      "+----------------+-------------------------+---------------------+\n",
      "|   Parameter    |        Value (SI)       |        Value        |\n",
      "+----------------+-------------------------+---------------------+\n",
      "|     A_ref      |       0.018 m ** 2      |    28.274 in ** 2   |\n",
      "|     d_ref      |         0.152 m         |       6.000 in      |\n",
      "|       n        |            4            |                     |\n",
      "|      span      |         0.152 m         |       6.000 in      |\n",
      "|   root_chord   |         0.305 m         |      12.000 in      |\n",
      "|   tip_chord    |         0.152 m         |       6.000 in      |\n",
      "|   mid_sweep    |        0.175 rad        |      10.000 deg     |\n",
      "| mid_chord_span |         0.155 m         |       6.093 in      |\n",
      "|    tube_dia    |         0.152 m         |       6.000 in      |\n",
      "|     length     |         0.000 m         |       0.000 m       |\n",
      "|   thickness    |         0.002 m         |       2.000 mm      |\n",
      "|  exposed_area  |       0.035 m ** 2      |    54.000 in ** 2   |\n",
      "| planform_area  |       0.058 m ** 2      |    90.000 in ** 2   |\n",
      "|    material    | Al-6061-T6: (Material)) |                     |\n",
      "|      name      |           Fins          |                     |\n",
      "|      mass      |         0.753 kg        |       0.753 kg      |\n",
      "|      I_xx      |    0.017 kg * m ** 2    | 26.338 in ** 2 * kg |\n",
      "|      I_yy      |    0.004 kg * m ** 2    |  5.711 in ** 2 * kg |\n",
      "|      I_zz      |    0.004 kg * m ** 2    |  5.711 in ** 2 * kg |\n",
      "|     x_ref      |         3.235 m         |       3.235 m       |\n",
      "|     y_ref      |         0.000 m         |       0.000 m       |\n",
      "|     z_ref      |         0.000 m         |       0.000 m       |\n",
      "+----------------+-------------------------+---------------------+\n"
     ]
    },
    {
     "data": {
      "image/png": "[encoded data removed]",
      "text/plain": [
       "<Figure size 432x288 with 1 Axes>"
      ]
     },
     "metadata": {
      "needs_background": "light"
     },
     "output_type": "display_data"
    }
   ],
   "source": [
    "\n",
    "\"\"\"This example file demonstrates the construction of a simple rocket.\n",
    "The corresponding .ork file is the OpenRocket implementation of the same rocket for comparison.\n",
    "\"\"\"\n",
    "import numpy as np\n",
    "import matplotlib.pyplot as plt\n",
    "\n",
    "\n",
    "\n",
    "## First, create a rocket.\n",
    "r = rp.Rocket(name='Sporadic Impulse')\n",
    "\n",
    "## create a nose cone\n",
    "nc = rp.NoseCone(name='Nose Cone', diameter=6*ureg.inch, length=48*ureg.cm, material=rp.materials.PLA())\n",
    "# assign to rocket\n",
    "r.set_nose_cone(nc)\n",
    "\n",
    "## create a BodyTube\n",
    "bt = rp.BodyTube(name = 'Body Tube', diameter=6*ureg.inch, length=(354-48)*ureg.cm, wall_thickness=2*ureg.mm, material=rp.materials.Phenolic())\n",
    "# define its location\n",
    "bt.set_position(after=nc)\n",
    "# assign to rocket\n",
    "r.set_body_tube(bt)\n",
    "\n",
    "# create a boat tail\n",
    "boat_tail = rp.Transition(name='Boat Tail', fore_dia=6*ureg.inch, aft_dia=6*ureg.inch, length=0.01*ureg.inch, material=rp.materials.Phenolic())\n",
    "# define its location\n",
    "boat_tail.set_position(after=bt)\n",
    "# assign to rocket\n",
    "r.set_boat_tail(boat_tail)\n",
    "\n",
    "## create the fins\n",
    "fins = rp.FinSet(name='Fins', n=4, span=6*ureg.inch, root_chord=12*ureg.inch, tip_chord=6*ureg.inch, mid_sweep=10*ureg.degree, tube_dia=6*ureg.inch,  thickness=2*ureg.mm, material=rp.materials.Aluminium())\n",
    "# define its location\n",
    "fins.set_position(end_of=bt, offset=-fins.root_chord)\n",
    "#  assign to rocket\n",
    "r.set_fins(fins)\n",
    "\n",
    "# plot the entire rocket\n",
    "fig = plt.figure()\n",
    "ax = plt.gca()\n",
    "r.plot(ax, unit=ureg.inch)\n",
    "plt.draw()\n",
    "\n",
    "# describe the rocket\n",
    "r.describe(describe_components=True)\n",
    "\n",
    "plt.show()\n",
    "\n"
   ]
  },
  {
   "cell_type": "code",
   "execution_count": 14,
   "metadata": {},
   "outputs": [
    {
     "data": {
      "text/plain": [
       "Sporadic Impulse"
      ]
     },
     "execution_count": 14,
     "metadata": {},
     "output_type": "execute_result"
    }
   ],
   "source": [
    "r"
   ]
  },
  {
   "cell_type": "code",
   "execution_count": 15,
   "metadata": {},
   "outputs": [
    {
     "name": "stdout",
     "output_type": "stream",
     "text": [
      "Rocket: Sporadic Impulse\n",
      "\n",
      "Rocket Details\n",
      "+--------------------------+----------------+-------------------+\n",
      "|        Parameter         |     Value      |       Notes       |\n",
      "+--------------------------+----------------+-------------------+\n",
      "|        Total Mass        |   3.7777 kg    |                   |\n",
      "|       Total Length       |  354.0254 cm   |                   |\n",
      "|           X_CG           |   2.189206 m   |                   |\n",
      "|           X_CP           |    2.8571 m    | At default values |\n",
      "| Static Margin (calibers) |     4.3824     | At default values |\n",
      "|            CD            | 1.5123 cm / in | At default values |\n",
      "|           CNa            | 12.9751 / rad  | At default values |\n",
      "+--------------------------+----------------+-------------------+\n",
      "\n",
      "Component Details\n",
      "+-----------+------------+------------+---------+-----------------+---------------------+\n",
      "| Component |    Type    |  Material  |   Mass  | Mass Fraction % |         CNa         |\n",
      "+-----------+------------+------------+---------+-----------------+---------------------+\n",
      "| Nose Cone |  NoseCone  |    PLA     | 0.24 kg |       6.39      |     2.097 / rad     |\n",
      "| Body Tube |  BodyTube  |  Phenolic  | 2.78 kg |      73.69      | 0.000 cm / in / rad |\n",
      "| Boat Tail | Transition |  Phenolic  | 0.00 kg |       0.01      |     0.000 / rad     |\n",
      "|    Fins   |   FinSet   | Al-6061-T6 | 0.75 kg |      19.92      |     10.879 / rad    |\n",
      "+-----------+------------+------------+---------+-----------------+---------------------+\n",
      "\n",
      "Describing all components in full:\n",
      "\n"
     ]
    }
   ],
   "source": [
    "r.describe()"
   ]
  },
  {
   "cell_type": "code",
   "execution_count": null,
   "metadata": {},
   "outputs": [],
   "source": []
  },
  {
   "cell_type": "code",
   "execution_count": null,
   "metadata": {},
   "outputs": [],
   "source": []
  }
 ],
 "metadata": {
  "kernelspec": {
   "display_name": "rocketPy",
   "language": "python",
   "name": "rocketpy"
  },
  "language_info": {
   "codemirror_mode": {
    "name": "ipython",
    "version": 3
   },
   "file_extension": ".py",
   "mimetype": "text/x-python",
   "name": "python",
   "nbconvert_exporter": "python",
   "pygments_lexer": "ipython3",
   "version": "3.6.7"
  }
 },
 "nbformat": 4,
 "nbformat_minor": 2
}
